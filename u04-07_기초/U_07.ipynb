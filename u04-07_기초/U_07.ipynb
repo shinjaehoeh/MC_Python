{
  "nbformat": 4,
  "nbformat_minor": 0,
  "metadata": {
    "colab": {
      "name": "U_07.ipynb",
      "provenance": []
    },
    "kernelspec": {
      "name": "python3",
      "display_name": "Python 3"
    },
    "language_info": {
      "name": "python"
    }
  },
  "cells": [
    {
      "cell_type": "markdown",
      "metadata": {
        "id": "urh_cVaNZ1u_"
      },
      "source": [
        "# Unit 07. 출력"
      ]
    },
    {
      "cell_type": "markdown",
      "metadata": {
        "id": "M4KNMIAMbH5y"
      },
      "source": [
        "## 7.1 여러 값 출력"
      ]
    },
    {
      "cell_type": "code",
      "metadata": {
        "colab": {
          "base_uri": "https://localhost:8080/"
        },
        "id": "b7BzKNCVZ6U_",
        "outputId": "62618e54-354d-40ad-fe47-58cdc6805674"
      },
      "source": [
        "a,b = map(int, input('숫자 둘 입력').split())\n",
        "a, b"
      ],
      "execution_count": 7,
      "outputs": [
        {
          "output_type": "stream",
          "text": [
            "숫자 둘 입력5 3\n"
          ],
          "name": "stdout"
        },
        {
          "output_type": "execute_result",
          "data": {
            "text/plain": [
              "(5, 3)"
            ]
          },
          "metadata": {
            "tags": []
          },
          "execution_count": 7
        }
      ]
    },
    {
      "cell_type": "code",
      "metadata": {
        "colab": {
          "base_uri": "https://localhost:8080/"
        },
        "id": "1YpXNUsPaIix",
        "outputId": "ad5fc286-91d8-47c6-d6dd-238b2f83be3b"
      },
      "source": [
        "a,b = map(int, input('숫자 둘 입력').split())\n",
        "print(a, b, sep=',')"
      ],
      "execution_count": 9,
      "outputs": [
        {
          "output_type": "stream",
          "text": [
            "숫자 둘 입력5 4\n",
            "5,4\n"
          ],
          "name": "stdout"
        }
      ]
    },
    {
      "cell_type": "markdown",
      "metadata": {
        "id": "iuDlOiPQbLSg"
      },
      "source": [
        "## 7.2 줄바꿈"
      ]
    },
    {
      "cell_type": "code",
      "metadata": {
        "colab": {
          "base_uri": "https://localhost:8080/"
        },
        "id": "MO3vOiGsbP1Q",
        "outputId": "2dc147d7-1bee-40d7-81ee-6523662828d3"
      },
      "source": [
        "a,b = map(int, input('숫자 둘 입력').split())\n",
        "print(a, b, sep='\\n')"
      ],
      "execution_count": 13,
      "outputs": [
        {
          "output_type": "stream",
          "text": [
            "숫자 둘 입력5 5\n",
            "5\n",
            "5\n"
          ],
          "name": "stdout"
        }
      ]
    },
    {
      "cell_type": "code",
      "metadata": {
        "colab": {
          "base_uri": "https://localhost:8080/"
        },
        "id": "l-N9aTuAbv9B",
        "outputId": "ca29b04c-4cad-468f-b263-be4e6f4ac9cb"
      },
      "source": [
        "a,b = map(int, input('숫자 둘 입력').split())\n",
        "print(a, b, sep='\\\\')"
      ],
      "execution_count": 14,
      "outputs": [
        {
          "output_type": "stream",
          "text": [
            "숫자 둘 입력5 5\n",
            "5\\5\n"
          ],
          "name": "stdout"
        }
      ]
    },
    {
      "cell_type": "code",
      "metadata": {
        "id": "bMWC0QtCcITB"
      },
      "source": [
        "# with open('\\\\Myworkspace\\\\01.Python')"
      ],
      "execution_count": 15,
      "outputs": []
    },
    {
      "cell_type": "code",
      "metadata": {
        "colab": {
          "base_uri": "https://localhost:8080/"
        },
        "id": "3LjhY1U1cW9i",
        "outputId": "78f67e35-8097-4114-dbb5-adaa71019e85"
      },
      "source": [
        "print(a)\n",
        "print(b)\n",
        "print(a, end=' ')\n",
        "print(b)"
      ],
      "execution_count": 18,
      "outputs": [
        {
          "output_type": "stream",
          "text": [
            "5\n",
            "5\n",
            "5 5\n"
          ],
          "name": "stdout"
        }
      ]
    }
  ]
}