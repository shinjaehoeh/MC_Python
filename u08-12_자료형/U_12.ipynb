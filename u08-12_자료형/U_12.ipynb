{
  "nbformat": 4,
  "nbformat_minor": 0,
  "metadata": {
    "colab": {
      "name": "U_12.ipynb",
      "provenance": []
    },
    "kernelspec": {
      "name": "python3",
      "display_name": "Python 3"
    },
    "language_info": {
      "name": "python"
    }
  },
  "cells": [
    {
      "cell_type": "markdown",
      "metadata": {
        "id": "yJ1mOFqQQ_iH"
      },
      "source": [
        "# U 12. 딕셔너리(Dicktionary)"
      ]
    },
    {
      "cell_type": "code",
      "metadata": {
        "colab": {
          "base_uri": "https://localhost:8080/"
        },
        "id": "Ebep1XYyKVBo",
        "outputId": "685e64b8-5415-4567-937a-d8301dd248c9"
      },
      "source": [
        "lux = {\n",
        "    'hp':300,\n",
        "    'mp':200,\n",
        "    'atk':100,\n",
        "    'speed':95\n",
        "}\n",
        "lux"
      ],
      "execution_count": 1,
      "outputs": [
        {
          "output_type": "execute_result",
          "data": {
            "text/plain": [
              "{'atk': 100, 'hp': 300, 'mp': 200, 'speed': 95}"
            ]
          },
          "metadata": {
            "tags": []
          },
          "execution_count": 1
        }
      ]
    },
    {
      "cell_type": "markdown",
      "metadata": {
        "id": "JQOyNna1TEZk"
      },
      "source": [
        "## 12.1 딕셔너리 생성"
      ]
    },
    {
      "cell_type": "code",
      "metadata": {
        "colab": {
          "base_uri": "https://localhost:8080/"
        },
        "id": "Sl9g46AsSmfU",
        "outputId": "dc49b0df-461a-48bf-d60b-b0abdacaed52"
      },
      "source": [
        "lux = {\n",
        "    'hp':300,\n",
        "    'mp':200,\n",
        "    'atk':100,\n",
        "    'hp':301,\n",
        "    'speed':95\n",
        "}\n",
        "lux"
      ],
      "execution_count": 2,
      "outputs": [
        {
          "output_type": "execute_result",
          "data": {
            "text/plain": [
              "{'atk': 100, 'hp': 301, 'mp': 200, 'speed': 95}"
            ]
          },
          "metadata": {
            "tags": []
          },
          "execution_count": 2
        }
      ]
    },
    {
      "cell_type": "code",
      "metadata": {
        "colab": {
          "base_uri": "https://localhost:8080/"
        },
        "id": "YYNu21-GT36P",
        "outputId": "7c241e8c-bd2a-4e98-d9e9-123853312671"
      },
      "source": [
        "a={}\n",
        "b=dict()\n",
        "a, b"
      ],
      "execution_count": 3,
      "outputs": [
        {
          "output_type": "execute_result",
          "data": {
            "text/plain": [
              "({}, {})"
            ]
          },
          "metadata": {
            "tags": []
          },
          "execution_count": 3
        }
      ]
    },
    {
      "cell_type": "code",
      "metadata": {
        "colab": {
          "base_uri": "https://localhost:8080/"
        },
        "id": "H1En_tkgU_0b",
        "outputId": "09a40f84-ceb5-4f50-bf1c-30a8551d4790"
      },
      "source": [
        "c=set((1,2,3))\n",
        "c"
      ],
      "execution_count": 4,
      "outputs": [
        {
          "output_type": "execute_result",
          "data": {
            "text/plain": [
              "{1, 2, 3}"
            ]
          },
          "metadata": {
            "tags": []
          },
          "execution_count": 4
        }
      ]
    },
    {
      "cell_type": "code",
      "metadata": {
        "colab": {
          "base_uri": "https://localhost:8080/"
        },
        "id": "ROFHvGpeVJ_r",
        "outputId": "3e42927e-6dac-45bb-e9e7-fabbf48fac8b"
      },
      "source": [
        "d=['a','b','c','d']\n",
        "e=[1,2,3,4]\n",
        "zip(d,e)\n",
        "dict(zip(d,e))"
      ],
      "execution_count": 5,
      "outputs": [
        {
          "output_type": "execute_result",
          "data": {
            "text/plain": [
              "{'a': 1, 'b': 2, 'c': 3, 'd': 4}"
            ]
          },
          "metadata": {
            "tags": []
          },
          "execution_count": 5
        }
      ]
    },
    {
      "cell_type": "markdown",
      "metadata": {
        "id": "IuoadsgdV-aB"
      },
      "source": [
        "## 12.2 딕셔너리 키에 접근하고 값 할당하기"
      ]
    },
    {
      "cell_type": "code",
      "metadata": {
        "colab": {
          "base_uri": "https://localhost:8080/"
        },
        "id": "iDOZqeChVkg1",
        "outputId": "c379700e-796f-4daa-d798-8dd29f7867a9"
      },
      "source": [
        "lux"
      ],
      "execution_count": 6,
      "outputs": [
        {
          "output_type": "execute_result",
          "data": {
            "text/plain": [
              "{'atk': 100, 'hp': 301, 'mp': 200, 'speed': 95}"
            ]
          },
          "metadata": {
            "tags": []
          },
          "execution_count": 6
        }
      ]
    },
    {
      "cell_type": "code",
      "metadata": {
        "colab": {
          "base_uri": "https://localhost:8080/"
        },
        "id": "OWCgIB5rWFdI",
        "outputId": "4e13d2da-e82a-4af3-8c8b-f9e306bda8c4"
      },
      "source": [
        "lux['mp']"
      ],
      "execution_count": 7,
      "outputs": [
        {
          "output_type": "execute_result",
          "data": {
            "text/plain": [
              "200"
            ]
          },
          "metadata": {
            "tags": []
          },
          "execution_count": 7
        }
      ]
    },
    {
      "cell_type": "code",
      "metadata": {
        "colab": {
          "base_uri": "https://localhost:8080/"
        },
        "id": "QR4Jm3LnWNXN",
        "outputId": "b6c5350e-71bb-44fa-a6b3-92a09409ee5e"
      },
      "source": [
        "lux['mp']=199\n",
        "lux['mp']"
      ],
      "execution_count": 8,
      "outputs": [
        {
          "output_type": "execute_result",
          "data": {
            "text/plain": [
              "199"
            ]
          },
          "metadata": {
            "tags": []
          },
          "execution_count": 8
        }
      ]
    },
    {
      "cell_type": "code",
      "metadata": {
        "id": "YV44UT2VWZqO"
      },
      "source": [
        "lux['unknown']='??'"
      ],
      "execution_count": 9,
      "outputs": []
    },
    {
      "cell_type": "code",
      "metadata": {
        "colab": {
          "base_uri": "https://localhost:8080/"
        },
        "id": "OctTVBRgWawO",
        "outputId": "4ffd275d-b783-4c6a-8566-6d4af42c972a"
      },
      "source": [
        "lux"
      ],
      "execution_count": 10,
      "outputs": [
        {
          "output_type": "execute_result",
          "data": {
            "text/plain": [
              "{'atk': 100, 'hp': 301, 'mp': 199, 'speed': 95, 'unknown': '??'}"
            ]
          },
          "metadata": {
            "tags": []
          },
          "execution_count": 10
        }
      ]
    },
    {
      "cell_type": "code",
      "metadata": {
        "colab": {
          "base_uri": "https://localhost:8080/"
        },
        "id": "3ypILGbDXUJI",
        "outputId": "463896a0-ea52-4c1c-f924-8757e41c5677"
      },
      "source": [
        "'mp' in lux"
      ],
      "execution_count": 11,
      "outputs": [
        {
          "output_type": "execute_result",
          "data": {
            "text/plain": [
              "True"
            ]
          },
          "metadata": {
            "tags": []
          },
          "execution_count": 11
        }
      ]
    },
    {
      "cell_type": "code",
      "metadata": {
        "colab": {
          "base_uri": "https://localhost:8080/"
        },
        "id": "L5PIhxorYPyY",
        "outputId": "fcc536c0-eb76-4666-fc73-1e490fedcf2a"
      },
      "source": [
        "if 'def' in lux:\n",
        "  lux['def']=101\n",
        "else:\n",
        "  lux['def']=55\n",
        "lux"
      ],
      "execution_count": 12,
      "outputs": [
        {
          "output_type": "execute_result",
          "data": {
            "text/plain": [
              "{'atk': 100, 'def': 55, 'hp': 301, 'mp': 199, 'speed': 95, 'unknown': '??'}"
            ]
          },
          "metadata": {
            "tags": []
          },
          "execution_count": 12
        }
      ]
    },
    {
      "cell_type": "code",
      "metadata": {
        "colab": {
          "base_uri": "https://localhost:8080/"
        },
        "id": "x3OCQrbMYoqP",
        "outputId": "d08b30dd-b620-411b-fd8f-5aa77f416c94"
      },
      "source": [
        "len(lux)"
      ],
      "execution_count": 13,
      "outputs": [
        {
          "output_type": "execute_result",
          "data": {
            "text/plain": [
              "6"
            ]
          },
          "metadata": {
            "tags": []
          },
          "execution_count": 13
        }
      ]
    },
    {
      "cell_type": "code",
      "metadata": {
        "colab": {
          "base_uri": "https://localhost:8080/"
        },
        "id": "OqTsaaIEZUT2",
        "outputId": "797235b2-7e79-4751-908b-80e57cf86039"
      },
      "source": [
        "lux.keys()"
      ],
      "execution_count": 14,
      "outputs": [
        {
          "output_type": "execute_result",
          "data": {
            "text/plain": [
              "dict_keys(['hp', 'mp', 'atk', 'speed', 'unknown', 'def'])"
            ]
          },
          "metadata": {
            "tags": []
          },
          "execution_count": 14
        }
      ]
    },
    {
      "cell_type": "code",
      "metadata": {
        "colab": {
          "base_uri": "https://localhost:8080/"
        },
        "id": "_LRtWLIVbDfM",
        "outputId": "b91a4483-2c60-4dcc-9e7c-9b5b76536951"
      },
      "source": [
        "for key in lux.keys():\n",
        "  print(f'{key}:{lux[key]}')"
      ],
      "execution_count": 16,
      "outputs": [
        {
          "output_type": "stream",
          "text": [
            "hp:301\n",
            "mp:199\n",
            "atk:100\n",
            "speed:95\n",
            "unknown:??\n",
            "def:55\n"
          ],
          "name": "stdout"
        }
      ]
    },
    {
      "cell_type": "code",
      "metadata": {
        "colab": {
          "base_uri": "https://localhost:8080/"
        },
        "id": "fPrwl5imbOD2",
        "outputId": "4729c8f0-e5b6-4c3d-8cd4-bccdd0e7e1fb"
      },
      "source": [
        "for key in lux.keys():\n",
        "  print(f'{lux[key]}:{key}')"
      ],
      "execution_count": 19,
      "outputs": [
        {
          "output_type": "stream",
          "text": [
            "301:hp\n",
            "199:mp\n",
            "100:atk\n",
            "95:speed\n",
            "??:unknown\n",
            "55:def\n"
          ],
          "name": "stdout"
        }
      ]
    },
    {
      "cell_type": "code",
      "metadata": {
        "id": "csKImdLwbh5x"
      },
      "source": [
        ""
      ],
      "execution_count": null,
      "outputs": []
    }
  ]
}