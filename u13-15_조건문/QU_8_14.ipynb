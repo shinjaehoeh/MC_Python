{
  "nbformat": 4,
  "nbformat_minor": 0,
  "metadata": {
    "colab": {
      "name": "5회차_신재호.ipynb",
      "provenance": []
    },
    "kernelspec": {
      "name": "python3",
      "display_name": "Python 3"
    },
    "language_info": {
      "name": "python"
    }
  },
  "cells": [
    {
      "cell_type": "markdown",
      "metadata": {
        "id": "1jsm5EmmyprI"
      },
      "source": [
        "# 8. 심사문제: 합격 여부 출력하기\n",
        "표준 입력으로 국어, 영어, 수학, 과학 점수가 입력됩니다.<br>\n",
        "국어는 90점 이상, 영어는 80점 초과, 수학은 85점 초과, 과학은 80점 이상일 때 합격이라고 정했습니다<br>\n",
        "(한 과목이라도 조건에 만족하지 않으면 불합격).<br>\n",
        "다음 소스 코드를 완성하여 합격이면 True, 불합격이면 False가 출력되게 만드세요<br>\n",
        "(input에서 안내 문자열은 출력하지 않아야 합니다)."
      ]
    },
    {
      "cell_type": "code",
      "metadata": {
        "id": "D3n34SD_AIBQ"
      },
      "source": [
        "kor,eng,mat,sci = map(int, input().split(\" \"))\n",
        "\n",
        "judge = kor>=90 and eng>80 and mat>85 and sci>=80\n",
        "\n",
        "print(judge)"
      ],
      "execution_count": null,
      "outputs": []
    },
    {
      "cell_type": "markdown",
      "metadata": {
        "id": "WO06Z-_Lyp1Z"
      },
      "source": [
        "# 9. 심사문제: 여러 줄로 된 문자열 사용하기\n",
        "다음 소스 코드를 완성하여 실행 결과대로 문자열이 출력되게 만드세요.<br>\n",
        "\n",
        "judge_multiline_string.py<br>\n",
        "________________<br>\n",
        "________________<br>\n",
        "________________<br>\n",
        "________________<br>\n",
        "print(s)<br>\n",
        "<br>\n",
        "'Python' is a \"programming language\"<br>\n",
        "that lets you work quickly<br>\n",
        "and<br>\n",
        "integrate systems more effectively."
      ]
    },
    {
      "cell_type": "code",
      "metadata": {
        "id": "onMQV1OmAJQf"
      },
      "source": [
        "s1 = '''\\'Python\\' is a \"programming language\"\n",
        "that lets you work quickly\n",
        "and\n",
        "integrate systems more effectively.'''\n",
        "\n",
        "print(s1)"
      ],
      "execution_count": null,
      "outputs": []
    },
    {
      "cell_type": "code",
      "metadata": {
        "id": "_NEdV4q-K60_"
      },
      "source": [
        "s2 = \"\"\"Python' is a \\\"programming language\\\"\n",
        "that lets you work quickly\n",
        "and\n",
        "integrate systems more effectively.\"\"\"\n",
        "\n",
        "print(s2)"
      ],
      "execution_count": null,
      "outputs": []
    },
    {
      "cell_type": "code",
      "metadata": {
        "id": "Zr1gk3N8K7G-"
      },
      "source": [
        "s3 = '\\'Python\\' is a \\\"programming language\\\"\\nthat lets you work quickly\\nand\\nintegrate systems more effectively.'\n",
        "\n",
        "print(s3)"
      ],
      "execution_count": null,
      "outputs": []
    },
    {
      "cell_type": "markdown",
      "metadata": {
        "id": "Md6GyCawyp8U"
      },
      "source": [
        "# 10. 심사문제: range로 튜플 만들기\n",
        "표준 입력으로 정수가 입력됩니다.<br>\n",
        "range의 시작하는 숫자는 -10, 끝나는 숫자는 10이며<br>\n",
        "입력된 정수만큼 증가하는 숫자가 들어가도록 튜플을 만들고,<br>\n",
        "해당 튜플을 출력하는 프로그램을 만드세요<br>\n",
        "(input에서 안내 문자열은 출력하지 않아야 합니다)."
      ]
    },
    {
      "cell_type": "code",
      "metadata": {
        "id": "kfluC7VvAJqQ"
      },
      "source": [
        "print(tuple(range(-10,10,int(input()))))"
      ],
      "execution_count": null,
      "outputs": []
    },
    {
      "cell_type": "code",
      "metadata": {
        "id": "DDEPJ3UKOCE7"
      },
      "source": [
        "n = int(input())\n",
        "n_ran = range(-10,10,n)\n",
        "n_tu = tuple(n_ran)\n",
        "print(n_tu)"
      ],
      "execution_count": null,
      "outputs": []
    },
    {
      "cell_type": "markdown",
      "metadata": {
        "id": "hpK7M9I7yqJC"
      },
      "source": [
        "# 11. 심사문제1: 리스트의 마지막 부분 삭제하기\n",
        "표준 입력으로 숫자 또는 문자열 여러 개가 입력되어 리스트 x에 저장됩니다<br>\n",
        "(입력되는 숫자 또는 문자열의 개수는 정해져 있지 않음).<br>\n",
        "다음 소스 코드를 완성하여 리스트 x의 마지막 요소 5개를 삭제한 뒤 튜플로 출력되게 만드세요."
      ]
    },
    {
      "cell_type": "code",
      "metadata": {
        "id": "XSFB19uPAKDr"
      },
      "source": [
        "lis_del = input().split()\n",
        "\n",
        "del(lis_del[-5:])\n",
        "\n",
        "print(tuple(lis_del))"
      ],
      "execution_count": null,
      "outputs": []
    },
    {
      "cell_type": "markdown",
      "metadata": {
        "id": "9ZV3wfXCEwfi"
      },
      "source": [
        "# 11. 심사문제2: 문자열에서 인덱스가 홀수인 문자와 짝수인 문자 연결하기\n",
        "표준 입력으로 문자열 두 개가 각 줄에 입력됩니다<br>\n",
        "(문자열의 길이는 정해져 있지 않음).<br>\n",
        "첫 번째 문자열에서 인덱스가 홀수인 문자와<br>\n",
        "두 번째 문자열에서 인덱스가 짝수인 문자를 연결하여 출력하는 프로그램을 만드세요<br>\n",
        "(input에서 안내 문자열은 출력하지 않아야 합니다).<br>\n",
        "연결 순서는 첫 번째 문자열, 두 번째 문자열 순입니다.<br>\n",
        "그리고 0은 짝수로 처리합니다."
      ]
    },
    {
      "cell_type": "code",
      "metadata": {
        "id": "CTo1F8qRFeQG"
      },
      "source": [
        "lis_odd = input()\n",
        "lis_even = input()\n",
        "\n",
        "lis_sum = lis_odd[1:len(lis_odd):2]+lis_even[0::2]\n",
        "\n",
        "print(lis_sum)"
      ],
      "execution_count": null,
      "outputs": []
    },
    {
      "cell_type": "markdown",
      "metadata": {
        "id": "np6lk8egyqQF"
      },
      "source": [
        "# 12. 심사문제: 딕셔너리에 게임 캐릭터 능력치 저장하기\n",
        "표준 입력으로 문자열 여러 개와 숫자(실수) 여러 개가 두 줄로 입력됩니다.<br>\n",
        "입력된 첫 번째 줄은 키, 두 번째 줄은 값으로 하여<br>\n",
        "딕셔너리를 생성한 뒤 딕셔너리를 출력하는 프로그램을 만드세요.<br>\n",
        "input().split()의 결과를 변수 한 개에 저장하면 리스트로 저장됩니다."
      ]
    },
    {
      "cell_type": "code",
      "metadata": {
        "id": "-kQtYsi2FvKw"
      },
      "source": [
        "game_key, game_val = input().split(), input().split()\n",
        "\n",
        "game_dict = dict(zip(game_key,game_val))\n",
        "\n",
        "print(game_dict)"
      ],
      "execution_count": null,
      "outputs": []
    },
    {
      "cell_type": "markdown",
      "metadata": {
        "id": "eLHvhy9yywc3"
      },
      "source": [
        "# 13. 심사문제: 온라인 할인 쿠폰 시스템 만들기\n",
        "표준 입력으로 가격(정수)과 쿠폰 이름이 각 줄에 입력됩니다.<br>\n",
        "Cash3000 쿠폰은 3,000원, Cash5000 쿠폰은 5,000원을 할인합니다.<br>\n",
        "쿠폰에 따라 할인된 가격을 출력하는 프로그램을 만드세요<br>\n",
        "(input에서 안내 문자열은 출력하지 않아야 합니다)."
      ]
    },
    {
      "cell_type": "code",
      "metadata": {
        "id": "IVzCSOH6ALTy"
      },
      "source": [
        "pri, coup = input(), input()\n",
        "\n",
        "if coup == 'Cash5000':\n",
        "  pri = int(pri)-5000\n",
        "if coup == 'Cash3000':\n",
        "  pri = int(pri)-3000\n",
        "\n",
        "print(pri)"
      ],
      "execution_count": null,
      "outputs": []
    },
    {
      "cell_type": "markdown",
      "metadata": {
        "id": "3M73Tqafyw27"
      },
      "source": [
        "# 14. 심사문제: 합격 여부 판단하기\n",
        "표준 입력으로 국어, 영어, 수학, 과학 점수가 입력됩니다.<br>\n",
        "여기서 네 과목의 평균 점수가 80점 이상일 때 합격이라고 정했습니다.<br>\n",
        "평균 점수에 따라 '합격', '불합격'을 출력하는 프로그램을 만드세요<br>\n",
        "(input에서 안내 문자열은 출력하지 않아야 합니다).<br>\n",
        "단, 점수는 0점부터 100점까지만 입력받을 수 있으며<br>\n",
        "범위를 벗어났다면 '잘못된 점수'를 출력하고<br>\n",
        "합격, 불합격 여부는 출력하지 않아야 합니다."
      ]
    },
    {
      "cell_type": "code",
      "metadata": {
        "id": "ycxJkElFALm9"
      },
      "source": [
        "kor1,eng1,mat1,sci1 = map(int, input().split(\" \"))\n",
        "\n",
        "sum = kor1+eng1+mat1+sci1\n",
        "mean = sum/4\n",
        "\n",
        "if 0<=kor1<=100 and 0<=eng1<=100 and 0<=mat1<=100 and 0<=sci1<=100 :\n",
        "  print('합') if mean >= 80 else print('불')"
      ],
      "execution_count": null,
      "outputs": []
    },
    {
      "cell_type": "code",
      "metadata": {
        "id": "J5gdRFxcnOH1",
        "colab": {
          "base_uri": "https://localhost:8080/"
        },
        "outputId": "325dcf90-fef2-4f3b-9b4a-862b5f8eae10"
      },
      "source": [
        "score = list(map(int, input().split(\" \")))\n",
        "\n",
        "sum(score)\n",
        "print(score[0])"
      ],
      "execution_count": null,
      "outputs": [
        {
          "output_type": "stream",
          "text": [
            "5 51 53\n",
            "5\n"
          ],
          "name": "stdout"
        }
      ]
    }
  ]
}