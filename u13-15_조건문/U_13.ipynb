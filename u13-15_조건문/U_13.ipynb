{
  "nbformat": 4,
  "nbformat_minor": 0,
  "metadata": {
    "colab": {
      "name": "U_13.ipynb",
      "provenance": []
    },
    "kernelspec": {
      "name": "python3",
      "display_name": "Python 3"
    },
    "language_info": {
      "name": "python"
    }
  },
  "cells": [
    {
      "cell_type": "markdown",
      "metadata": {
        "id": "S4uDE6IKcUjd"
      },
      "source": [
        "# U 13. IF"
      ]
    },
    {
      "cell_type": "markdown",
      "metadata": {
        "id": "E8hrOuGrhj-f"
      },
      "source": [
        "## 13.1 if 조건문"
      ]
    },
    {
      "cell_type": "code",
      "metadata": {
        "id": "OiYTIuwNcH3O",
        "colab": {
          "base_uri": "https://localhost:8080/"
        },
        "outputId": "6f27c007-1fce-4183-93be-110569afcd49"
      },
      "source": [
        "x=10\n",
        "if x==10:\n",
        "  print('x is ten')"
      ],
      "execution_count": null,
      "outputs": [
        {
          "output_type": "stream",
          "text": [
            "x is ten\n"
          ],
          "name": "stdout"
        }
      ]
    },
    {
      "cell_type": "markdown",
      "metadata": {
        "id": "4pzFH6hGizwf"
      },
      "source": [
        "## 13.2 들여쓰기"
      ]
    },
    {
      "cell_type": "code",
      "metadata": {
        "colab": {
          "base_uri": "https://localhost:8080/"
        },
        "id": "23YWVVGth3Fl",
        "outputId": "31879ff7-0508-423a-e872-c0953bfa689c"
      },
      "source": [
        "x=10\n",
        "if x==10:\n",
        "  print('x is ',end=\"\")\n",
        "  print('ten')\n",
        "else:\n",
        "    print('not')"
      ],
      "execution_count": 19,
      "outputs": [
        {
          "output_type": "stream",
          "text": [
            "x is ten\n"
          ],
          "name": "stdout"
        }
      ]
    },
    {
      "cell_type": "markdown",
      "metadata": {
        "id": "hiwF2HtUkBu7"
      },
      "source": [
        "## 13.3 중첩 if 조건문\n",
        "\n"
      ]
    },
    {
      "cell_type": "code",
      "metadata": {
        "colab": {
          "base_uri": "https://localhost:8080/"
        },
        "id": "c2b_GBb7jP0H",
        "outputId": "395d8975-0056-45fe-fb3d-a25c824b7f5b"
      },
      "source": [
        "x= 15\n",
        "if x > 10 :\n",
        "  print('large than 10')\n",
        "  if x==15 :\n",
        "    print('x is 15')"
      ],
      "execution_count": null,
      "outputs": [
        {
          "output_type": "stream",
          "text": [
            "large than 10\n",
            "x is 15\n"
          ],
          "name": "stdout"
        }
      ]
    },
    {
      "cell_type": "code",
      "metadata": {
        "id": "OReIRnMgkZMG"
      },
      "source": [
        ""
      ],
      "execution_count": null,
      "outputs": []
    }
  ]
}