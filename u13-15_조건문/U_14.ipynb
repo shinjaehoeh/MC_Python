{
  "nbformat": 4,
  "nbformat_minor": 0,
  "metadata": {
    "colab": {
      "name": "U_14.ipynb",
      "provenance": []
    },
    "kernelspec": {
      "name": "python3",
      "display_name": "Python 3"
    },
    "language_info": {
      "name": "python"
    }
  },
  "cells": [
    {
      "cell_type": "markdown",
      "metadata": {
        "id": "b05elzVhlhOX"
      },
      "source": [
        "# U 14. else"
      ]
    },
    {
      "cell_type": "code",
      "metadata": {
        "colab": {
          "base_uri": "https://localhost:8080/"
        },
        "id": "DEibsgj0leuR",
        "outputId": "bb934cf4-0209-489b-9ab2-53ca389cf162"
      },
      "source": [
        "a= 0\n",
        "if a :\n",
        "  print('dundun')\n",
        "else:\n",
        "  print('dance')"
      ],
      "execution_count": 8,
      "outputs": [
        {
          "output_type": "stream",
          "text": [
            "dance\n"
          ],
          "name": "stdout"
        }
      ]
    },
    {
      "cell_type": "code",
      "metadata": {
        "colab": {
          "base_uri": "https://localhost:8080/"
        },
        "id": "ZAp0hNMhmbvg",
        "outputId": "1b7b83fa-6c76-49c3-a2db-0b3fbb159b85"
      },
      "source": [
        "b= input('숫자0')\n",
        "type(b)"
      ],
      "execution_count": 9,
      "outputs": [
        {
          "output_type": "stream",
          "text": [
            "숫자00\n"
          ],
          "name": "stdout"
        },
        {
          "output_type": "execute_result",
          "data": {
            "text/plain": [
              "str"
            ]
          },
          "metadata": {
            "tags": []
          },
          "execution_count": 9
        }
      ]
    },
    {
      "cell_type": "markdown",
      "metadata": {
        "id": "aQs9Ku1Xm_o5"
      },
      "source": [
        "### 3항 연산자"
      ]
    },
    {
      "cell_type": "code",
      "metadata": {
        "colab": {
          "base_uri": "https://localhost:8080/",
          "height": 35
        },
        "id": "gUMEIez2m6F5",
        "outputId": "0ec44469-2c1c-4d42-b3ff-9dae7a9f860c"
      },
      "source": [
        "x=1\n",
        "if x%2==0:\n",
        "  y=\"even\"\n",
        "else:\n",
        "  y=\"odd\"\n",
        "y"
      ],
      "execution_count": 11,
      "outputs": [
        {
          "output_type": "execute_result",
          "data": {
            "application/vnd.google.colaboratory.intrinsic+json": {
              "type": "string"
            },
            "text/plain": [
              "'odd'"
            ]
          },
          "metadata": {
            "tags": []
          },
          "execution_count": 11
        }
      ]
    },
    {
      "cell_type": "code",
      "metadata": {
        "colab": {
          "base_uri": "https://localhost:8080/",
          "height": 35
        },
        "id": "p1UY0GB6nbtv",
        "outputId": "f2fd3c3e-9989-427c-a26b-8fdc001cc7b4"
      },
      "source": [
        "x=3\n",
        "y= 'even' if x%2==0 else 'odd'\n",
        "y"
      ],
      "execution_count": 14,
      "outputs": [
        {
          "output_type": "execute_result",
          "data": {
            "application/vnd.google.colaboratory.intrinsic+json": {
              "type": "string"
            },
            "text/plain": [
              "'odd'"
            ]
          },
          "metadata": {
            "tags": []
          },
          "execution_count": 14
        }
      ]
    },
    {
      "cell_type": "code",
      "metadata": {
        "colab": {
          "base_uri": "https://localhost:8080/"
        },
        "id": "gCgyXWnfpLa8",
        "outputId": "f792e74f-dc64-477b-991c-0eb3c3dd1526"
      },
      "source": [
        "s = int(input('score'))\n",
        "if s>= 90:\n",
        "  g='a'\n",
        "else:\n",
        "  if s>= 80:\n",
        "    g='b'\n",
        "\n",
        "print(g)"
      ],
      "execution_count": 28,
      "outputs": [
        {
          "output_type": "stream",
          "text": [
            "score70\n",
            "B\n"
          ],
          "name": "stdout"
        }
      ]
    },
    {
      "cell_type": "code",
      "metadata": {
        "colab": {
          "base_uri": "https://localhost:8080/",
          "height": 35
        },
        "id": "nHu3tdBMqqJ9",
        "outputId": "394acc25-630d-4974-da7e-50a662dc71c6"
      },
      "source": [
        "s= 79\n",
        "g = 'A' if s>=90 else \\    # \\는 다음거 무시하니까 따지자면 엔터를 무시한 꼴\n",
        "    'B' if s>=80 else 'C'\n",
        "g"
      ],
      "execution_count": 34,
      "outputs": [
        {
          "output_type": "execute_result",
          "data": {
            "application/vnd.google.colaboratory.intrinsic+json": {
              "type": "string"
            },
            "text/plain": [
              "'C'"
            ]
          },
          "metadata": {
            "tags": []
          },
          "execution_count": 34
        }
      ]
    },
    {
      "cell_type": "markdown",
      "metadata": {
        "id": "mAsmDz_5urwR"
      },
      "source": [
        "### 조건식에서의 논리연산자"
      ]
    },
    {
      "cell_type": "code",
      "metadata": {
        "id": "v7UkPcJdrR9C"
      },
      "source": [
        "x> 0 and x<10"
      ],
      "execution_count": null,
      "outputs": []
    },
    {
      "cell_type": "code",
      "metadata": {
        "id": "nUGYC4mWvMCT"
      },
      "source": [
        "0<x<10"
      ],
      "execution_count": null,
      "outputs": []
    }
  ]
}