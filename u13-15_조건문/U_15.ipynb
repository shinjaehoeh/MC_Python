{
  "nbformat": 4,
  "nbformat_minor": 0,
  "metadata": {
    "colab": {
      "name": "U_15.ipynb",
      "provenance": []
    },
    "kernelspec": {
      "name": "python3",
      "display_name": "Python 3"
    },
    "language_info": {
      "name": "python"
    }
  },
  "cells": [
    {
      "cell_type": "markdown",
      "metadata": {
        "id": "MUX5qG7xoF74"
      },
      "source": [
        "# U 15. elif"
      ]
    },
    {
      "cell_type": "code",
      "metadata": {
        "colab": {
          "base_uri": "https://localhost:8080/"
        },
        "id": "wB-unWy4oC1H",
        "outputId": "57d98a3c-475a-47b0-9f50-ad49f8b72473"
      },
      "source": [
        "x = 20\n",
        "if x == 10:\n",
        "  print('10입니다.')\n",
        "elif x == 20:\n",
        "  print('20입니다.')"
      ],
      "execution_count": 1,
      "outputs": [
        {
          "output_type": "stream",
          "text": [
            "20입니다.\n"
          ],
          "name": "stdout"
        }
      ]
    },
    {
      "cell_type": "code",
      "metadata": {
        "colab": {
          "base_uri": "https://localhost:8080/",
          "height": 35
        },
        "id": "QfOJeJLRoxmm",
        "outputId": "afef8882-3b8d-4aff-d6c3-2bc9bbdf23a8"
      },
      "source": [
        "# 3의 배수 fizz, 5의 배수 buzz, 15의 배수 fizzbuzz\n",
        "\n",
        "y = 30\n",
        "if y%15 == 0 :\n",
        "  s = 'fizzbuzz'\n",
        "elif y%3 == 0 :\n",
        "  s = 'fizz'\n",
        "elif y%5 == 0 :\n",
        "  s = 'buzz'\n",
        "s"
      ],
      "execution_count": 5,
      "outputs": [
        {
          "output_type": "execute_result",
          "data": {
            "application/vnd.google.colaboratory.intrinsic+json": {
              "type": "string"
            },
            "text/plain": [
              "'fizzbuzz'"
            ]
          },
          "metadata": {
            "tags": []
          },
          "execution_count": 5
        }
      ]
    },
    {
      "cell_type": "code",
      "metadata": {
        "colab": {
          "base_uri": "https://localhost:8080/"
        },
        "id": "yvaFPdLfqWNg",
        "outputId": "f7ad5cae-6965-4d8e-9607-87af631dd789"
      },
      "source": [
        "y = 15\n",
        "print('f'*(y%3==0)+'b'*(y%5==0) or y)"
      ],
      "execution_count": 13,
      "outputs": [
        {
          "output_type": "stream",
          "text": [
            "fb\n"
          ],
          "name": "stdout"
        }
      ]
    }
  ]
}