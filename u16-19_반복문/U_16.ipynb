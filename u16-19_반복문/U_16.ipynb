{
  "nbformat": 4,
  "nbformat_minor": 0,
  "metadata": {
    "colab": {
      "name": "U_16.ipynb",
      "provenance": []
    },
    "kernelspec": {
      "name": "python3",
      "display_name": "Python 3"
    },
    "language_info": {
      "name": "python"
    }
  },
  "cells": [
    {
      "cell_type": "markdown",
      "metadata": {
        "id": "d7Pisgm5s_zn"
      },
      "source": [
        "# U 16. for 반복문"
      ]
    },
    {
      "cell_type": "markdown",
      "metadata": {
        "id": "F4CMb9W8tO1r"
      },
      "source": [
        "## 16.1 for 와 range"
      ]
    },
    {
      "cell_type": "code",
      "metadata": {
        "id": "7PPOmThRs-m7",
        "colab": {
          "base_uri": "https://localhost:8080/"
        },
        "outputId": "4cc206f1-cb9d-4ef9-d95b-d3747d048239"
      },
      "source": [
        "for i in range(10):\n",
        "  print('hi')"
      ],
      "execution_count": null,
      "outputs": [
        {
          "output_type": "stream",
          "text": [
            "hi\n",
            "hi\n",
            "hi\n",
            "hi\n",
            "hi\n",
            "hi\n",
            "hi\n",
            "hi\n",
            "hi\n",
            "hi\n"
          ],
          "name": "stdout"
        }
      ]
    },
    {
      "cell_type": "markdown",
      "metadata": {
        "id": "_tmzjBk4uKz2"
      },
      "source": [
        "array, list - enhanced for loop\n",
        "\n",
        "for element in list:"
      ]
    },
    {
      "cell_type": "code",
      "metadata": {
        "colab": {
          "base_uri": "https://localhost:8080/"
        },
        "id": "GnpQVnvjtcKC",
        "outputId": "d74ee440-afc4-4637-a7c7-6ba076e0363d"
      },
      "source": [
        "x = 1,3,5\n",
        "for i in list(x):\n",
        "  print('hi', i)"
      ],
      "execution_count": null,
      "outputs": [
        {
          "output_type": "stream",
          "text": [
            "hi 1\n",
            "hi 3\n",
            "hi 5\n"
          ],
          "name": "stdout"
        }
      ]
    },
    {
      "cell_type": "code",
      "metadata": {
        "colab": {
          "base_uri": "https://localhost:8080/"
        },
        "id": "MG3BebNRvdn_",
        "outputId": "0ec5396f-cba0-4e33-8202-7372519bf073"
      },
      "source": [
        "for _ in range(10):\n",
        "  print('hi')"
      ],
      "execution_count": null,
      "outputs": [
        {
          "output_type": "stream",
          "text": [
            "hi\n",
            "hi\n",
            "hi\n",
            "hi\n",
            "hi\n",
            "hi\n",
            "hi\n",
            "hi\n",
            "hi\n",
            "hi\n"
          ],
          "name": "stdout"
        }
      ]
    },
    {
      "cell_type": "markdown",
      "metadata": {
        "id": "Y0w-XEPiyBmL"
      },
      "source": [
        "## 16.2 for와 range 응용"
      ]
    },
    {
      "cell_type": "code",
      "metadata": {
        "colab": {
          "base_uri": "https://localhost:8080/"
        },
        "id": "fQKBqtzAvz3W",
        "outputId": "8d14d0d1-31f2-4191-eedd-258adcdcdc5c"
      },
      "source": [
        "for i in range(4,6):\n",
        "  print('tes',i)"
      ],
      "execution_count": null,
      "outputs": [
        {
          "output_type": "stream",
          "text": [
            "tes 4\n",
            "tes 5\n"
          ],
          "name": "stdout"
        }
      ]
    },
    {
      "cell_type": "code",
      "metadata": {
        "colab": {
          "base_uri": "https://localhost:8080/"
        },
        "id": "Jd1WeQ8pySOD",
        "outputId": "10ae2d8c-b641-462d-90d3-b428f2e43ada"
      },
      "source": [
        "for i in range(0,10,2):\n",
        "  print('tes',i)"
      ],
      "execution_count": null,
      "outputs": [
        {
          "output_type": "stream",
          "text": [
            "tes 0\n",
            "tes 2\n",
            "tes 4\n",
            "tes 6\n",
            "tes 8\n"
          ],
          "name": "stdout"
        }
      ]
    },
    {
      "cell_type": "code",
      "metadata": {
        "id": "8hfyfqhGyXHK",
        "colab": {
          "base_uri": "https://localhost:8080/"
        },
        "outputId": "6c2cd95b-1335-487e-dfca-0406d5277b3f"
      },
      "source": [
        "for i in range(1,101):\n",
        "  print('f'*(i%3==0)+'b'*(i%5==0) or i, end=\" \")\n",
        "  if i%10==0:\n",
        "    print()"
      ],
      "execution_count": null,
      "outputs": [
        {
          "output_type": "stream",
          "text": [
            "1 2 f 4 b f 7 8 f b \n",
            "11 f 13 14 fb 16 17 f 19 b \n",
            "f 22 23 f b 26 f 28 29 fb \n",
            "31 32 f 34 b f 37 38 f b \n",
            "41 f 43 44 fb 46 47 f 49 b \n",
            "f 52 53 f b 56 f 58 59 fb \n",
            "61 62 f 64 b f 67 68 f b \n",
            "71 f 73 74 fb 76 77 f 79 b \n",
            "f 82 83 f b 86 f 88 89 fb \n",
            "91 92 f 94 b f 97 98 f b \n"
          ],
          "name": "stdout"
        }
      ]
    },
    {
      "cell_type": "markdown",
      "metadata": {
        "id": "Z7Nk0gxNz_Xk"
      },
      "source": [
        "## 16.3 시퀀스 객체 반복"
      ]
    },
    {
      "cell_type": "code",
      "metadata": {
        "colab": {
          "base_uri": "https://localhost:8080/"
        },
        "id": "Q5sx_hXNzP6Q",
        "outputId": "e3636219-2ec8-4554-f192-87f476f5325c"
      },
      "source": [
        "fru = ['app','bana','cherry']\n",
        "for j in fru:\n",
        "  print(j)\n",
        "type(fru)"
      ],
      "execution_count": null,
      "outputs": [
        {
          "output_type": "stream",
          "text": [
            "app\n",
            "bana\n",
            "cherry\n"
          ],
          "name": "stdout"
        },
        {
          "output_type": "execute_result",
          "data": {
            "text/plain": [
              "list"
            ]
          },
          "metadata": {
            "tags": []
          },
          "execution_count": 20
        }
      ]
    },
    {
      "cell_type": "markdown",
      "metadata": {
        "id": "2lmqCsLc1tSz"
      },
      "source": [
        "notation 소문자-변수 대문자-class\n",
        "\n",
        "camelNotation - Java\n",
        "\n",
        "snake_notation - Python"
      ]
    },
    {
      "cell_type": "code",
      "metadata": {
        "colab": {
          "base_uri": "https://localhost:8080/"
        },
        "id": "Dbc0i9ml0Qe1",
        "outputId": "f45e4d0d-dc00-4e15-8471-5f4ca3159a51"
      },
      "source": [
        "for letter in 'python':\n",
        "  print(letter, end=\" \")"
      ],
      "execution_count": null,
      "outputs": [
        {
          "output_type": "stream",
          "text": [
            "p y t h o n "
          ],
          "name": "stdout"
        }
      ]
    },
    {
      "cell_type": "code",
      "metadata": {
        "colab": {
          "base_uri": "https://localhost:8080/"
        },
        "id": "Mmg5qIlx2Y71",
        "outputId": "80f8e2d8-cc3d-43f0-a0be-424b3da920e3"
      },
      "source": [
        "k = 'python'\n",
        "for letter in reversed(k):\n",
        "  print(letter, end=\" \")"
      ],
      "execution_count": null,
      "outputs": [
        {
          "output_type": "stream",
          "text": [
            "n o h t y p "
          ],
          "name": "stdout"
        }
      ]
    },
    {
      "cell_type": "markdown",
      "metadata": {
        "id": "8WbIITIc3xsE"
      },
      "source": [
        "# 자기자신을 제외한 약수의 합이 자기자신과 같은 수\n",
        "ex) 1+2+3 = 6"
      ]
    },
    {
      "cell_type": "code",
      "metadata": {
        "colab": {
          "base_uri": "https://localhost:8080/"
        },
        "id": "QPGdSe4L32gY",
        "outputId": "bf2a5cc7-6d34-4730-8983-214019492e1c"
      },
      "source": [
        "per_list=[]\n",
        "\n",
        "for i in range(2,10001):\n",
        "  sum=0\n",
        "  for j in range(1,i):\n",
        "    if i % j == 0:\n",
        "      sum+=j\n",
        "  if sum==i:\n",
        "    per_list.append(i)\n",
        "    \n",
        "print('완전수', per_list)"
      ],
      "execution_count": 42,
      "outputs": [
        {
          "output_type": "stream",
          "text": [
            "완전수 [6, 28, 496, 8128]\n"
          ],
          "name": "stdout"
        }
      ]
    }
  ]
}