{
  "nbformat": 4,
  "nbformat_minor": 0,
  "metadata": {
    "colab": {
      "name": "U_17.ipynb",
      "provenance": []
    },
    "kernelspec": {
      "name": "python3",
      "display_name": "Python 3"
    },
    "language_info": {
      "name": "python"
    }
  },
  "cells": [
    {
      "cell_type": "markdown",
      "metadata": {
        "id": "jwC5pSZp3U0y"
      },
      "source": [
        "# U 17. While"
      ]
    },
    {
      "cell_type": "markdown",
      "metadata": {
        "id": "Cj2nmDE-CAdn"
      },
      "source": [
        "## 17.1 반복횟수 정해져 있는 경우 for 위주로"
      ]
    },
    {
      "cell_type": "markdown",
      "metadata": {
        "id": "RALWNYh2CG2w"
      },
      "source": [
        "## 17.2 반복 횟수가 없는 while 반복문"
      ]
    },
    {
      "cell_type": "code",
      "metadata": {
        "id": "TFV1dbZu3S0V"
      },
      "source": [
        "import random"
      ],
      "execution_count": 3,
      "outputs": []
    },
    {
      "cell_type": "code",
      "metadata": {
        "colab": {
          "base_uri": "https://localhost:8080/"
        },
        "id": "b7zxjGRhCUXN",
        "outputId": "39cb123f-90a4-485f-af41-0b38b2d7e251"
      },
      "source": [
        "random.random()"
      ],
      "execution_count": 9,
      "outputs": [
        {
          "output_type": "execute_result",
          "data": {
            "text/plain": [
              "0.3597149300840061"
            ]
          },
          "metadata": {
            "tags": []
          },
          "execution_count": 9
        }
      ]
    },
    {
      "cell_type": "code",
      "metadata": {
        "colab": {
          "base_uri": "https://localhost:8080/"
        },
        "id": "qMLu99y2Cbhb",
        "outputId": "6a59230e-e7ad-4dcc-8ebb-3f0ac7f3d52c"
      },
      "source": [
        "random.randint(1,3)"
      ],
      "execution_count": 18,
      "outputs": [
        {
          "output_type": "execute_result",
          "data": {
            "text/plain": [
              "3"
            ]
          },
          "metadata": {
            "tags": []
          },
          "execution_count": 18
        }
      ]
    },
    {
      "cell_type": "code",
      "metadata": {
        "id": "TuTwudJ1CiBI"
      },
      "source": [
        "i=0\n",
        "while i != 3:\n",
        "  i=random.randint(1,6)\n",
        "  print(i)"
      ],
      "execution_count": null,
      "outputs": []
    },
    {
      "cell_type": "code",
      "metadata": {
        "colab": {
          "base_uri": "https://localhost:8080/"
        },
        "id": "cLWPJgmsDOCK",
        "outputId": "4432ab5a-ee97-476c-c78a-adfd082f8a89"
      },
      "source": [
        "i=0\n",
        "dice=list(range(1,7))\n",
        "while i != 3:\n",
        "  i = random.choice(dice)\n",
        "  print(i)"
      ],
      "execution_count": 23,
      "outputs": [
        {
          "output_type": "stream",
          "text": [
            "6\n",
            "3\n"
          ],
          "name": "stdout"
        }
      ]
    }
  ]
}