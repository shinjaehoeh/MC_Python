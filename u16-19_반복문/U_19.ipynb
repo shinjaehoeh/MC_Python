{
  "nbformat": 4,
  "nbformat_minor": 0,
  "metadata": {
    "colab": {
      "name": "U_19.ipynb",
      "provenance": []
    },
    "kernelspec": {
      "name": "python3",
      "display_name": "Python 3"
    },
    "language_info": {
      "name": "python"
    }
  },
  "cells": [
    {
      "cell_type": "markdown",
      "metadata": {
        "id": "68hrgs02HmMK"
      },
      "source": [
        "# 19. 중첩 반복문"
      ]
    },
    {
      "cell_type": "markdown",
      "metadata": {
        "id": "CGCOh7qgbZ2x"
      },
      "source": [
        "## 19.1 중첩(Nested) for loop"
      ]
    },
    {
      "cell_type": "code",
      "metadata": {
        "id": "DeU4QjIuHkim",
        "colab": {
          "base_uri": "https://localhost:8080/"
        },
        "outputId": "60185c16-e336-4186-aac6-890722c68ecf"
      },
      "source": [
        "for i in range(5):\n",
        "  for k in range(10,60,10):\n",
        "    print(k, end=' ')\n",
        "  print(i)"
      ],
      "execution_count": 1,
      "outputs": [
        {
          "output_type": "stream",
          "text": [
            "10 20 30 40 50 0\n",
            "10 20 30 40 50 1\n",
            "10 20 30 40 50 2\n",
            "10 20 30 40 50 3\n",
            "10 20 30 40 50 4\n"
          ],
          "name": "stdout"
        }
      ]
    },
    {
      "cell_type": "markdown",
      "metadata": {
        "id": "n3QeHuQGfjTQ"
      },
      "source": [
        "## 19.2 사각형"
      ]
    },
    {
      "cell_type": "code",
      "metadata": {
        "colab": {
          "base_uri": "https://localhost:8080/"
        },
        "id": "P3HGdN5hcYl0",
        "outputId": "d9a6c1f0-84d0-470d-e156-bc02cf22dcb1"
      },
      "source": [
        "for _ in range(5):\n",
        "  for _ in range(5):\n",
        "    print('*',end='')\n",
        "  print()"
      ],
      "execution_count": 3,
      "outputs": [
        {
          "output_type": "stream",
          "text": [
            "*****\n",
            "*****\n",
            "*****\n",
            "*****\n",
            "*****\n"
          ],
          "name": "stdout"
        }
      ]
    },
    {
      "cell_type": "code",
      "metadata": {
        "colab": {
          "base_uri": "https://localhost:8080/"
        },
        "id": "B9jeCTlRdIus",
        "outputId": "16fc274d-03e9-47ff-e07d-b705bacbde2a"
      },
      "source": [
        "for i in range(4):\n",
        "  for _ in range(0,i):\n",
        "    print(' ',end='')\n",
        "  for _ in range(5):\n",
        "    print('*',end='')\n",
        "  print()"
      ],
      "execution_count": 8,
      "outputs": [
        {
          "output_type": "stream",
          "text": [
            "*****\n",
            " *****\n",
            "  *****\n",
            "   *****\n"
          ],
          "name": "stdout"
        }
      ]
    },
    {
      "cell_type": "code",
      "metadata": {
        "colab": {
          "base_uri": "https://localhost:8080/"
        },
        "id": "ZsLCYh6tdjrd",
        "outputId": "d365e877-37e5-419e-fd47-0946c9ccf1c1"
      },
      "source": [
        "for i in range(4):\n",
        "  print(' '*i, '*'*5, sep='_')"
      ],
      "execution_count": 15,
      "outputs": [
        {
          "output_type": "stream",
          "text": [
            "_*****\n",
            " _*****\n",
            "  _*****\n",
            "   _*****\n"
          ],
          "name": "stdout"
        }
      ]
    },
    {
      "cell_type": "markdown",
      "metadata": {
        "id": "7mUweDtXffXb"
      },
      "source": [
        "## 19.3 계단식 별"
      ]
    },
    {
      "cell_type": "code",
      "metadata": {
        "colab": {
          "base_uri": "https://localhost:8080/"
        },
        "id": "_O_zw8_UfJI2",
        "outputId": "45b26cf6-b4fc-46ff-c7b9-9d95374059b8"
      },
      "source": [
        "for i in range(5):\n",
        "  for _ in range(i+1):\n",
        "    print('*',end='')\n",
        "  print()"
      ],
      "execution_count": 17,
      "outputs": [
        {
          "output_type": "stream",
          "text": [
            "*\n",
            "**\n",
            "***\n",
            "****\n",
            "*****\n"
          ],
          "name": "stdout"
        }
      ]
    },
    {
      "cell_type": "code",
      "metadata": {
        "colab": {
          "base_uri": "https://localhost:8080/"
        },
        "id": "p1XBWdA6fzSn",
        "outputId": "ec91e527-73eb-4f37-a0f7-fb5bde8dd4ef"
      },
      "source": [
        "for i in range(5):\n",
        "  for _ in range(i):\n",
        "    print(' ',end='')\n",
        "  for _ in range(5-i):\n",
        "    print('*',end='')\n",
        "  print()"
      ],
      "execution_count": 20,
      "outputs": [
        {
          "output_type": "stream",
          "text": [
            "*****\n",
            " ****\n",
            "  ***\n",
            "   **\n",
            "    *\n"
          ],
          "name": "stdout"
        }
      ]
    },
    {
      "cell_type": "code",
      "metadata": {
        "colab": {
          "base_uri": "https://localhost:8080/"
        },
        "id": "DqUE0VVGgUjm",
        "outputId": "eae444bc-8fb7-45f8-ea92-bcc5164a4657"
      },
      "source": [
        "for i in range(1,6):\n",
        "  print('*'*i)"
      ],
      "execution_count": 21,
      "outputs": [
        {
          "output_type": "stream",
          "text": [
            "*\n",
            "**\n",
            "***\n",
            "****\n",
            "*****\n"
          ],
          "name": "stdout"
        }
      ]
    },
    {
      "cell_type": "code",
      "metadata": {
        "colab": {
          "base_uri": "https://localhost:8080/"
        },
        "id": "TuZ5pxvMhELp",
        "outputId": "f42eea5d-c076-4212-cc6f-68e060b69c6b"
      },
      "source": [
        "for i in range(5):\n",
        "  print(' '*(i),'*'*(5-i),sep='')"
      ],
      "execution_count": 26,
      "outputs": [
        {
          "output_type": "stream",
          "text": [
            "*****\n",
            " ****\n",
            "  ***\n",
            "   **\n",
            "    *\n"
          ],
          "name": "stdout"
        }
      ]
    },
    {
      "cell_type": "markdown",
      "metadata": {
        "id": "eXsWYKFnh8N1"
      },
      "source": [
        "### diamond"
      ]
    },
    {
      "cell_type": "code",
      "metadata": {
        "colab": {
          "base_uri": "https://localhost:8080/"
        },
        "id": "FGdJjmrIhMdu",
        "outputId": "88a16b07-f534-4374-b8db-4bbad000ff36"
      },
      "source": [
        "for i in range(5):\n",
        "  print(' '*(4-i),'*'*(i*2+1),' '*(4-i),sep='')\n",
        "for i in range(4):\n",
        "  print(' '*(i+1),'*'*((4-i)*2-1),' '*(i+1),sep='')"
      ],
      "execution_count": 48,
      "outputs": [
        {
          "output_type": "stream",
          "text": [
            "    *    \n",
            "   ***   \n",
            "  *****  \n",
            " ******* \n",
            "*********\n",
            " ******* \n",
            "  *****  \n",
            "   ***   \n",
            "    *    \n"
          ],
          "name": "stdout"
        }
      ]
    },
    {
      "cell_type": "code",
      "metadata": {
        "id": "80gJzQExh1y2"
      },
      "source": [
        ""
      ],
      "execution_count": null,
      "outputs": []
    }
  ]
}