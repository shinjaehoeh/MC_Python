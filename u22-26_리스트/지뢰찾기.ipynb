{
  "nbformat": 4,
  "nbformat_minor": 0,
  "metadata": {
    "colab": {
      "name": "지뢰찾기.ipynb",
      "provenance": []
    },
    "kernelspec": {
      "name": "python3",
      "display_name": "Python 3"
    },
    "language_info": {
      "name": "python"
    }
  },
  "cells": [
    {
      "cell_type": "markdown",
      "metadata": {
        "id": "S3nAqGHQPDu-"
      },
      "source": [
        "지뢰를 찾아보아요"
      ]
    },
    {
      "cell_type": "code",
      "metadata": {
        "colab": {
          "base_uri": "https://localhost:8080/"
        },
        "id": "Sy01FGEHQGh1",
        "outputId": "b24b2e0c-c3c9-437c-c2cc-4933574cc1e5"
      },
      "source": [
        "import random\n",
        "x,y = 5,7\n",
        " \n",
        "a=[]\n",
        "for i in range(y+2):\n",
        "  b=[]\n",
        "  for k in range(x+2):\n",
        "    b.append('_')\n",
        "  a.append(b)\n",
        " \n",
        "for i in range(1,y+1):\n",
        "  for k in range(1,x+1):\n",
        "    if random.randint(1,4)%4==1:\n",
        "      a[i][k]='X'\n",
        " \n",
        "for i in range(1,y+1):\n",
        "  for k in range(1,x+1):\n",
        "    if a[i][k]=='X':\n",
        "      pass\n",
        "    else:\n",
        "      c=0\n",
        "      for f in range(i-1,i+2):\n",
        "        for g in range(k-1,k+2):\n",
        "          if a[f][g]=='X':\n",
        "            c+=1\n",
        "      a[i][k]=f'{c}'\n",
        " \n",
        "a"
      ],
      "execution_count": null,
      "outputs": [
        {
          "output_type": "execute_result",
          "data": {
            "text/plain": [
              "[['_', '_', '_', '_', '_', '_', '_'],\n",
              " ['_', 'X', '4', 'X', '3', '2', '_'],\n",
              " ['_', 'X', 'X', '5', 'X', 'X', '_'],\n",
              " ['_', '2', '4', 'X', 'X', 'X', '_'],\n",
              " ['_', '2', '5', 'X', 'X', '3', '_'],\n",
              " ['_', 'X', 'X', 'X', '3', '1', '_'],\n",
              " ['_', '2', '3', '2', '1', '0', '_'],\n",
              " ['_', '0', '0', '0', '0', '0', '_'],\n",
              " ['_', '_', '_', '_', '_', '_', '_']]"
            ]
          },
          "metadata": {
            "tags": []
          },
          "execution_count": 7
        }
      ]
    },
    {
      "cell_type": "code",
      "metadata": {
        "id": "8zSfUE9JRaS1"
      },
      "source": [
        ""
      ],
      "execution_count": null,
      "outputs": []
    }
  ]
}