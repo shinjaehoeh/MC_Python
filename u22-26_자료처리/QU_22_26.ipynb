{
  "nbformat": 4,
  "nbformat_minor": 0,
  "metadata": {
    "colab": {
      "name": "5회차_신재호_22-26.ipynb",
      "provenance": [],
      "collapsed_sections": []
    },
    "kernelspec": {
      "name": "python3",
      "display_name": "Python 3"
    },
    "language_info": {
      "name": "python"
    }
  },
  "cells": [
    {
      "cell_type": "markdown",
      "metadata": {
        "id": "es4EX3wHUqXi"
      },
      "source": [
        "# 22. 심사문제: 2의 거듭제곱 리스트 생성하기\n",
        "표준 입력으로 정수 두 개가 입력됩니다<br>\n",
        "(첫 번째 입력 값의 범위는 1\\~20, 두 번째 입력 값의 범위는 10~30이며<br>\n",
        " 첫 번째 입력 값은 두 번째 입력 값보다 항상 작습니다).<br>\n",
        "첫 번째 정수부터 두 번째 정수까지를 지수로 하는<br>\n",
        "2의 거듭제곱 리스트를 출력하는 프로그램을 만드세요<br>\n",
        "(input에서 안내 문자열은 출력하지 않아야 합니다).<br>\n",
        "단, 리스트의 두 번째 요소와 뒤에서 두 번째 요소는 삭제한 뒤 출력하세요.<br>\n",
        "출력 결과는 리스트 형태라야 합니다. "
      ]
    },
    {
      "cell_type": "code",
      "metadata": {
        "id": "iuUkQBvyUXHn",
        "colab": {
          "base_uri": "https://localhost:8080/"
        },
        "outputId": "7bb032e1-960f-42c4-db3d-c71e20c8ccbe"
      },
      "source": [
        "x,y = map(int,input().split())\n",
        "a=[]\n",
        "\n",
        "for _ in range(x,y+1):\n",
        "  a.append(2**_)\n",
        "\n",
        "del(a[1])\n",
        "del(a[len(a)-2])\n",
        "\n",
        "print(a)"
      ],
      "execution_count": null,
      "outputs": [
        {
          "output_type": "stream",
          "text": [
            "1 10\n",
            "[2, 8, 16, 32, 64, 128, 256, 1024]\n"
          ],
          "name": "stdout"
        }
      ]
    },
    {
      "cell_type": "markdown",
      "metadata": {
        "id": "lkacSaK7UsQ5"
      },
      "source": [
        "# 23. 심사문제: 지뢰찾기\n",
        "표준 입력으로 2차원 리스트의 가로(col)와 세로(row)가 입력되고<br>\n",
        "그 다음 줄부터 리스트의 요소로 들어갈 문자가 입력됩니다.<br>\n",
        "이때 2차원 리스트 안에서 *는 지뢰이고 .은 지뢰가 아닙니다.<br>\n",
        "지뢰가 아닌 요소에는 인접한 지뢰의 개수를 출력하는 프로그램을 만드세요<br>\n",
        "(input에서 안내 문자열은 출력하지 않아야 합니다).<br>\n",
        "<br>\n",
        "\n",
        "여러 줄을 입력 받으려면 다음과 같이 for 반복문에서 input을 호출한 뒤 append로 각 줄을 추가하면 됩니다<br>\n",
        "(list 안에 문자열을 넣으면 문자열이 문자 리스트로 변환됩니다).<br>\n",
        "<br>\n",
        "<pre>matrix = []<br>\n",
        "for i in range(row):<br>\n",
        "    matrix.append(list(input()))<br>"
      ]
    },
    {
      "cell_type": "code",
      "metadata": {
        "id": "Xq2aF0M6UuCb",
        "colab": {
          "base_uri": "https://localhost:8080/"
        },
        "outputId": "e82633fb-e288-4692-ea1f-07c08b4337d9"
      },
      "source": [
        "import random\n",
        "x,y = map(int,input().split())\n",
        " \n",
        "a=[]\n",
        "for i in range(y+2):\n",
        "  b=[]\n",
        "  for k in range(x+2):\n",
        "    b.append('_')\n",
        "  a.append(b)\n",
        " \n",
        "for i in range(1,y+1):\n",
        "  for k in range(1,x+1):\n",
        "    if random.randint(1,4)%4==1:\n",
        "      a[i][k]='X'\n",
        " \n",
        "for i in range(1,y+1):\n",
        "  for k in range(1,x+1):\n",
        "    if a[i][k]=='X':\n",
        "      pass\n",
        "    else:\n",
        "      c=0\n",
        "      for f in range(i-1,i+2):\n",
        "        for g in range(k-1,k+2):\n",
        "          if a[f][g]=='X':\n",
        "            c+=1\n",
        "      a[i][k]=f'{c}'\n",
        " \n",
        "#print(a)\n",
        "a"
      ],
      "execution_count": null,
      "outputs": [
        {
          "output_type": "stream",
          "text": [
            "5 7\n"
          ],
          "name": "stdout"
        },
        {
          "output_type": "execute_result",
          "data": {
            "text/plain": [
              "[['_', '_', '_', '_', '_', '_', '_'],\n",
              " ['_', '2', 'X', 'X', '3', '1', '_'],\n",
              " ['_', '2', 'X', 'X', 'X', '1', '_'],\n",
              " ['_', '1', '3', '4', '3', '1', '_'],\n",
              " ['_', '0', '1', 'X', '2', '1', '_'],\n",
              " ['_', '1', '2', '2', '3', 'X', '_'],\n",
              " ['_', 'X', '1', '1', 'X', '2', '_'],\n",
              " ['_', '1', '1', '1', '1', '1', '_'],\n",
              " ['_', '_', '_', '_', '_', '_', '_']]"
            ]
          },
          "metadata": {
            "tags": []
          },
          "execution_count": 22
        }
      ]
    },
    {
      "cell_type": "markdown",
      "metadata": {
        "id": "AYXZZJx_Uuiq"
      },
      "source": [
        "# 24. 심사문제: 특정 단어 개수 세기\n",
        "표준 입력으로 문자열이 입력됩니다.<br>\n",
        "입력된 문자열에서 'the'의 개수를 출력하는 프로그램을 만드세요<br>\n",
        "(input에서 안내 문자열은 출력하지 않아야 합니다).<br>\n",
        "단, 모든 문자가 소문자인 'the'만 찾으면 되며 'them', 'there', 'their' 등은 포함하지 않아야 합니다."
      ]
    },
    {
      "cell_type": "code",
      "metadata": {
        "colab": {
          "base_uri": "https://localhost:8080/"
        },
        "id": "MsRG0DxSZ5da",
        "outputId": "567dcd22-0ebc-47b9-e3b4-fb0788452a47"
      },
      "source": [
        "s= input()\n",
        "a,b,c,d=0,0,0,0\n",
        "\n",
        "a=s.count('the ')\n",
        "b=s.count('the.')\n",
        "c=s.count('the,')\n",
        "\n",
        "print(a+b+c)"
      ],
      "execution_count": null,
      "outputs": [
        {
          "output_type": "stream",
          "text": [
            "the grown-ups' response, this time, was to advise me to lay aside my drawings of boa constrictors, whether from the inside or the outside, and devote myself instead to geography, history, arithmetic, and grammar. That is why, at the, age of six, I gave up what might have been a magnificent career as a painter. I had been disheartened by the failure of my Drawing Number One and my Drawing Number Two. Grown-ups never understand anything by themselves, and it is tiresome for children to be always and forever explaining things to the.\n",
            "6\n"
          ],
          "name": "stdout"
        }
      ]
    },
    {
      "cell_type": "markdown",
      "metadata": {
        "id": "pHzw1hmzZ50c"
      },
      "source": [
        "# 24. 심사문제: 높은 가격순으로 출력하기\n",
        "표준 입력으로 물품 가격 여러 개가 문자열 한 줄로 입력되고, 각 가격은 ;(세미콜론)으로 구분되어 있습니다.<br>\n",
        "입력된 가격을 높은 가격순으로 출력하는 프로그램을 만드세요<br>\n",
        "(input에서 안내 문자열은 출력하지 않아야 합니다).<br>\n",
        "이때 가격은 길이를 9로 만든 뒤 오른쪽으로 정렬하고 천단위로 ,(콤마)를 넣으세요."
      ]
    },
    {
      "cell_type": "code",
      "metadata": {
        "id": "AnerBlIpUvNm",
        "colab": {
          "base_uri": "https://localhost:8080/"
        },
        "outputId": "f403714e-b056-47a9-e017-22542e79e048"
      },
      "source": [
        "price=list(map(int,input().split(';')))\n",
        "price.sort(reverse=True)\n",
        "\n",
        "for p in price:\n",
        "  print(f'{p:,}'.rjust(9))"
      ],
      "execution_count": null,
      "outputs": [
        {
          "output_type": "stream",
          "text": [
            "51900;83000;158000;367500;250000;59200;128500;1304000\n",
            "1,304,000\n",
            "  367,500\n",
            "  250,000\n",
            "  158,000\n",
            "  128,500\n",
            "   83,000\n",
            "   59,200\n",
            "   51,900\n"
          ],
          "name": "stdout"
        }
      ]
    },
    {
      "cell_type": "markdown",
      "metadata": {
        "id": "j8DWZkcbUvjY"
      },
      "source": [
        "# 25. 심사문제: 딕셔너리에서 특정 값 삭제하기\n",
        "표준 입력으로 문자열 여러 개와 숫자 여러 개가 두 줄로 입력되고,<br>\n",
        "첫 번째 줄은 키, 두 번째 줄은 값으로 하여 딕셔너리를 생성합니다.<br>\n",
        "다음 코드를 완성하여 딕셔너리에서 키가 'delta'인 키-값 쌍과 값이 30인 키-값 쌍을 삭제하도록 만드세요.<br>\n",
        "<br>\n",
        "keys = input().split()<br>\n",
        "values = map(int, input().split())<br>\n",
        " \n",
        "x = dict(zip(keys, values))<br>\n",
        "________________<br>\n",
        "________________<br>\n",
        "<br>\n",
        "print(x)"
      ]
    },
    {
      "cell_type": "code",
      "metadata": {
        "id": "l5AW81pbUwJG",
        "colab": {
          "base_uri": "https://localhost:8080/"
        },
        "outputId": "a1aa6d9b-399c-4f78-f2f8-8746420645c9"
      },
      "source": [
        "keys=input().split()\n",
        "values = map(int, input().split())\n",
        "\n",
        "di = dict(zip(keys, values))\n",
        "\n",
        "del(di['delta'])\n",
        "for k,v in di.items():\n",
        "  if v == 30:\n",
        "    break\n",
        "    \n",
        "del(di[k])\n",
        "\n",
        "print(di)"
      ],
      "execution_count": 3,
      "outputs": [
        {
          "output_type": "stream",
          "text": [
            "alpha bravo charlie delta echo foxtrot golf\n",
            "30 40 50 60 70 80 90\n",
            "{'bravo': 40, 'charlie': 50, 'echo': 70, 'foxtrot': 80, 'golf': 90}\n"
          ],
          "name": "stdout"
        }
      ]
    },
    {
      "cell_type": "markdown",
      "metadata": {
        "id": "W166EROBUwrm"
      },
      "source": [
        "# 26. 심사문제: 공약수 구하기\n",
        "표준 입력으로 양의 정수 두 개가 입력됩니다.<br>\n",
        "다음 소스 코드를 완성하여 두 숫자의 공약수를 세트 형태로 구하도록 만드세요.<br>\n",
        "단, 최종 결과는 공약수의 합으로 판단합니다.<br>\n",
        "<br>\n",
        "<pre>________________\n",
        "________________\n",
        "________________\n",
        " \n",
        "divisor = a & b<br><br>\n",
        "result = 0<br>\n",
        "if type(divisor) == set:<br>\n",
        "    result = sum(divisor)<br><br>\n",
        "print(result)"
      ]
    },
    {
      "cell_type": "code",
      "metadata": {
        "id": "o6uapwLAUxFs",
        "colab": {
          "base_uri": "https://localhost:8080/"
        },
        "outputId": "43031924-8ac6-4cde-eec4-e5fc81ff35c5"
      },
      "source": [
        "a1,b1=list(map(int,input().split()))\n",
        "a2,b2=[],[]\n",
        "\n",
        "for _ in range(1,a1+1):\n",
        "  if a1%_ == 0:\n",
        "    a2.append(_)\n",
        "for _ in range(1,b1+1):\n",
        "  if b1%_ == 0:\n",
        "    b2.append(_)\n",
        "\n",
        "a=set(a2)\n",
        "b=set(b2)\n",
        "\n",
        "divisor = a & b\n",
        "\n",
        "result = 0\n",
        "if type(divisor) == set:\n",
        "    result = sum(divisor)\n",
        "\n",
        "print(result)"
      ],
      "execution_count": null,
      "outputs": [
        {
          "output_type": "stream",
          "text": [
            "100 200\n",
            "217\n"
          ],
          "name": "stdout"
        }
      ]
    }
  ]
}