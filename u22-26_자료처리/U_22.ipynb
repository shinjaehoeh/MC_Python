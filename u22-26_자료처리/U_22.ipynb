{
  "nbformat": 4,
  "nbformat_minor": 0,
  "metadata": {
    "colab": {
      "name": "U_22.ipynb",
      "provenance": [],
      "collapsed_sections": []
    },
    "kernelspec": {
      "name": "python3",
      "display_name": "Python 3"
    },
    "language_info": {
      "name": "python"
    }
  },
  "cells": [
    {
      "cell_type": "markdown",
      "metadata": {
        "id": "QqqWUG2OqeYw"
      },
      "source": [
        "# U 22. 리스트, 튜플 응용"
      ]
    },
    {
      "cell_type": "markdown",
      "metadata": {
        "id": "gbAOQn-vqi3a"
      },
      "source": [
        "## 22.1 리스트 조작\n",
        "- append: 요소 하나를 추가\n",
        "- extend: 리스트를 연결하여 확장\n",
        "- insert: 특정 인덱스에 요소 추가"
      ]
    },
    {
      "cell_type": "code",
      "metadata": {
        "colab": {
          "base_uri": "https://localhost:8080/"
        },
        "id": "Hv4xxiF6qbav",
        "outputId": "0b807055-c68c-4a3f-900d-a5dfe2c74b66"
      },
      "source": [
        "a, b = [1,2,3], [10,20,30]\n",
        "\n",
        "a.append(b)\n",
        "print(a)\n",
        "\n",
        "a.extend(b)\n",
        "print(a)\n",
        "\n",
        "a.insert(1,b)\n",
        "print(a)\n",
        "\n",
        "del a[2]\n",
        "print(a)"
      ],
      "execution_count": null,
      "outputs": [
        {
          "output_type": "stream",
          "text": [
            "[1, 2, 3, [10, 20, 30]]\n",
            "[1, 2, 3, [10, 20, 30], 10, 20, 30]\n",
            "[1, [10, 20, 30], 2, 3, [10, 20, 30], 10, 20, 30]\n",
            "[1, [10, 20, 30], 3, [10, 20, 30], 10, 20, 30]\n"
          ],
          "name": "stdout"
        }
      ]
    },
    {
      "cell_type": "markdown",
      "metadata": {
        "id": "05_GbVj1uCn7"
      },
      "source": [
        "## Stack and Queue"
      ]
    },
    {
      "cell_type": "code",
      "metadata": {
        "colab": {
          "base_uri": "https://localhost:8080/"
        },
        "id": "tjmxZKm7rtD6",
        "outputId": "993b6487-2dbc-4b2c-a9d9-2c8213f1bd71"
      },
      "source": [
        "stack = []\n",
        "stack.append(1);stack.append(1);stack.append(4);\n",
        "stack"
      ],
      "execution_count": null,
      "outputs": [
        {
          "output_type": "execute_result",
          "data": {
            "text/plain": [
              "[1, 1, 4]"
            ]
          },
          "metadata": {
            "tags": []
          },
          "execution_count": 22
        }
      ]
    },
    {
      "cell_type": "code",
      "metadata": {
        "colab": {
          "base_uri": "https://localhost:8080/"
        },
        "id": "F31beGjsuUp6",
        "outputId": "eb384737-cca3-40c7-b760-02910c5771cf"
      },
      "source": [
        "x=stack.pop()\n",
        "print(x,stack)"
      ],
      "execution_count": null,
      "outputs": [
        {
          "output_type": "stream",
          "text": [
            "4 [1, 1]\n"
          ],
          "name": "stdout"
        }
      ]
    },
    {
      "cell_type": "code",
      "metadata": {
        "colab": {
          "base_uri": "https://localhost:8080/"
        },
        "id": "UnNBSMUguZFr",
        "outputId": "a6c2eb62-dceb-4d0d-c0cf-8a957612a81d"
      },
      "source": [
        "queue = []\n",
        "queue.insert(0,1);queue.insert(0,3);queue.insert(0,5);\n",
        "queue"
      ],
      "execution_count": null,
      "outputs": [
        {
          "output_type": "execute_result",
          "data": {
            "text/plain": [
              "[5, 3, 1]"
            ]
          },
          "metadata": {
            "tags": []
          },
          "execution_count": 24
        }
      ]
    },
    {
      "cell_type": "markdown",
      "metadata": {
        "id": "rpZuROxjvr2n"
      },
      "source": [
        "## 다양한 메쏘드"
      ]
    },
    {
      "cell_type": "code",
      "metadata": {
        "colab": {
          "base_uri": "https://localhost:8080/"
        },
        "id": "4BKS1rKhvCMK",
        "outputId": "0aed8e8f-482e-41eb-83ce-60e53346ab41"
      },
      "source": [
        "a= [10,20,30,40,50]\n",
        "a.index(30)"
      ],
      "execution_count": null,
      "outputs": [
        {
          "output_type": "execute_result",
          "data": {
            "text/plain": [
              "2"
            ]
          },
          "metadata": {
            "tags": []
          },
          "execution_count": 25
        }
      ]
    },
    {
      "cell_type": "code",
      "metadata": {
        "colab": {
          "base_uri": "https://localhost:8080/"
        },
        "id": "e_wQrah_v0oI",
        "outputId": "d1a51917-c087-4962-c59c-411388e24c27"
      },
      "source": [
        "x= 41\n",
        "a= [10,20,30,40,50]\n",
        "if x in a:\n",
        "  print(a.index(x))\n",
        "else:\n",
        "  print('no')"
      ],
      "execution_count": null,
      "outputs": [
        {
          "output_type": "stream",
          "text": [
            "no\n"
          ],
          "name": "stdout"
        }
      ]
    },
    {
      "cell_type": "markdown",
      "metadata": {
        "id": "-Bx8dk6uxwz-"
      },
      "source": [
        "### Sort"
      ]
    },
    {
      "cell_type": "code",
      "metadata": {
        "colab": {
          "base_uri": "https://localhost:8080/"
        },
        "id": "A_x2YTXNv-HA",
        "outputId": "7bb41a6c-8b24-4e77-da55-be6552600ed6"
      },
      "source": [
        "a= [33,5,56,32]\n",
        "a.sort()\n",
        "a"
      ],
      "execution_count": null,
      "outputs": [
        {
          "output_type": "execute_result",
          "data": {
            "text/plain": [
              "[5, 32, 33, 56]"
            ]
          },
          "metadata": {
            "tags": []
          },
          "execution_count": 64
        }
      ]
    },
    {
      "cell_type": "code",
      "metadata": {
        "colab": {
          "base_uri": "https://localhost:8080/"
        },
        "id": "jQ3QRPCAxlhF",
        "outputId": "a2f4ee16-a9b9-4717-c928-33cc50196720"
      },
      "source": [
        "b= [33,5,56,32]\n",
        "print(sorted(b))\n",
        "b"
      ],
      "execution_count": null,
      "outputs": [
        {
          "output_type": "stream",
          "text": [
            "[5, 32, 33, 56]\n"
          ],
          "name": "stdout"
        },
        {
          "output_type": "execute_result",
          "data": {
            "text/plain": [
              "[33, 5, 56, 32]"
            ]
          },
          "metadata": {
            "tags": []
          },
          "execution_count": 32
        }
      ]
    },
    {
      "cell_type": "code",
      "metadata": {
        "colab": {
          "base_uri": "https://localhost:8080/"
        },
        "id": "l_jxb5LVxvYX",
        "outputId": "1acf9fe0-b6f5-4a79-8384-6a4edf0f9bf7"
      },
      "source": [
        "a= [33,5,56,32]\n",
        "a.sort(reverse=True)\n",
        "a"
      ],
      "execution_count": null,
      "outputs": [
        {
          "output_type": "execute_result",
          "data": {
            "text/plain": [
              "[56, 33, 32, 5]"
            ]
          },
          "metadata": {
            "tags": []
          },
          "execution_count": 38
        }
      ]
    },
    {
      "cell_type": "markdown",
      "metadata": {
        "id": "weLuoa2Zzjj8"
      },
      "source": [
        "## 22.2 리스트 할당과 복사"
      ]
    },
    {
      "cell_type": "code",
      "metadata": {
        "colab": {
          "base_uri": "https://localhost:8080/"
        },
        "id": "wyqecAEAyuV3",
        "outputId": "ec29956d-9653-4a04-e2a0-47f30e832e46"
      },
      "source": [
        "# Shallow copy\n",
        "\n",
        "a= [0,0,0,0,0]\n",
        "b=a\n",
        "print(b)\n",
        "\n",
        "b[2]=99\n",
        "print(b)\n",
        "\n",
        "print(a)"
      ],
      "execution_count": null,
      "outputs": [
        {
          "output_type": "stream",
          "text": [
            "[0, 0, 0, 0, 0]\n",
            "[0, 0, 99, 0, 0]\n",
            "[0, 0, 99, 0, 0]\n"
          ],
          "name": "stdout"
        }
      ]
    },
    {
      "cell_type": "code",
      "metadata": {
        "colab": {
          "base_uri": "https://localhost:8080/"
        },
        "id": "3brabGCJzxXt",
        "outputId": "6524e1fb-a64e-4bc5-ac2f-84bcb2533ebf"
      },
      "source": [
        "# 데이터 별도 복사\n",
        "\n",
        "a= [0,0,0,0,0]\n",
        "b=a.copy()\n",
        "print(b)\n",
        "\n",
        "b[2]=99\n",
        "print(b)\n",
        "\n",
        "print(a)"
      ],
      "execution_count": null,
      "outputs": [
        {
          "output_type": "stream",
          "text": [
            "[0, 0, 0, 0, 0]\n",
            "[0, 0, 99, 0, 0]\n",
            "[0, 0, 0, 0, 0]\n"
          ],
          "name": "stdout"
        }
      ]
    },
    {
      "cell_type": "markdown",
      "metadata": {
        "id": "GyIcDxOU2odo"
      },
      "source": [
        "## 22.3 리스트와 반복문"
      ]
    },
    {
      "cell_type": "code",
      "metadata": {
        "colab": {
          "base_uri": "https://localhost:8080/"
        },
        "id": "PmoyX_sYz-tn",
        "outputId": "8f452476-0793-4c89-a4d5-b5e75f829137"
      },
      "source": [
        "for fruit in ['app','ban','che']:\n",
        "  print(fruit)"
      ],
      "execution_count": null,
      "outputs": [
        {
          "output_type": "stream",
          "text": [
            "app\n",
            "ban\n",
            "che\n"
          ],
          "name": "stdout"
        }
      ]
    },
    {
      "cell_type": "code",
      "metadata": {
        "colab": {
          "base_uri": "https://localhost:8080/"
        },
        "id": "5vFfUOh_2_OS",
        "outputId": "099b1ee9-242c-4211-cc9d-114c469cc2bd"
      },
      "source": [
        "fruits = ['app','ban','che']\n",
        "for index, i in enumerate(fruits):\n",
        "  print(index, i)"
      ],
      "execution_count": null,
      "outputs": [
        {
          "output_type": "stream",
          "text": [
            "0 app\n",
            "1 ban\n",
            "2 che\n"
          ],
          "name": "stdout"
        }
      ]
    },
    {
      "cell_type": "code",
      "metadata": {
        "colab": {
          "base_uri": "https://localhost:8080/"
        },
        "id": "uMu9HfQU3Ox_",
        "outputId": "5d56cfbc-26e1-450e-af55-991dd973a919"
      },
      "source": [
        "for i in range(len(fruits)):\n",
        "  print(fruits[i])"
      ],
      "execution_count": null,
      "outputs": [
        {
          "output_type": "stream",
          "text": [
            "app\n",
            "ban\n",
            "che\n"
          ],
          "name": "stdout"
        }
      ]
    },
    {
      "cell_type": "markdown",
      "metadata": {
        "id": "3sNW7HOm4LJA"
      },
      "source": [
        "## 22.4 리스트에서 min, max, sum 함수"
      ]
    },
    {
      "cell_type": "code",
      "metadata": {
        "id": "njrH7rh6341r"
      },
      "source": [
        "# a.sort() 후에 a[0], a[-1] 응용\n",
        "# sorted(a)[0]"
      ],
      "execution_count": null,
      "outputs": []
    },
    {
      "cell_type": "code",
      "metadata": {
        "colab": {
          "base_uri": "https://localhost:8080/"
        },
        "id": "UDVeF5c145lC",
        "outputId": "4e176c9b-f206-49a9-8434-742bb569bad6"
      },
      "source": [
        "x=[1,2,3,6]\n",
        "sum_of_lis = 0\n",
        "for elem in x:\n",
        "  sum_of_lis += elem\n",
        "sum_of_lis, sum(x)"
      ],
      "execution_count": null,
      "outputs": [
        {
          "output_type": "execute_result",
          "data": {
            "text/plain": [
              "(12, 12)"
            ]
          },
          "metadata": {
            "tags": []
          },
          "execution_count": 66
        }
      ]
    },
    {
      "cell_type": "markdown",
      "metadata": {
        "id": "B6Xfmzlg528v"
      },
      "source": [
        "## 22.5 리스트 표현식(Comprehension)"
      ]
    },
    {
      "cell_type": "code",
      "metadata": {
        "colab": {
          "base_uri": "https://localhost:8080/"
        },
        "id": "nfjFUR8M5b4L",
        "outputId": "d8464bd7-7a2d-4f31-f22a-be5d84388779"
      },
      "source": [
        "[fruit for fruit in fruits]"
      ],
      "execution_count": null,
      "outputs": [
        {
          "output_type": "execute_result",
          "data": {
            "text/plain": [
              "['app', 'ban', 'che']"
            ]
          },
          "metadata": {
            "tags": []
          },
          "execution_count": 79
        }
      ]
    },
    {
      "cell_type": "code",
      "metadata": {
        "colab": {
          "base_uri": "https://localhost:8080/"
        },
        "id": "NQ79teqe6ESQ",
        "outputId": "b39a75e7-ce41-4aaa-f8c0-6b3d307d84b1"
      },
      "source": [
        "[fruits for fruit in fruits]"
      ],
      "execution_count": null,
      "outputs": [
        {
          "output_type": "execute_result",
          "data": {
            "text/plain": [
              "[['app', 'ban', 'che'], ['app', 'ban', 'che'], ['app', 'ban', 'che']]"
            ]
          },
          "metadata": {
            "tags": []
          },
          "execution_count": 80
        }
      ]
    },
    {
      "cell_type": "code",
      "metadata": {
        "colab": {
          "base_uri": "https://localhost:8080/"
        },
        "id": "NWHiFcXF66ub",
        "outputId": "f20248e0-c02b-49e2-c360-876ab6afa598"
      },
      "source": [
        "[i*index for index, i in enumerate(fruits)]"
      ],
      "execution_count": null,
      "outputs": [
        {
          "output_type": "execute_result",
          "data": {
            "text/plain": [
              "['', 'ban', 'cheche']"
            ]
          },
          "metadata": {
            "tags": []
          },
          "execution_count": 85
        }
      ]
    },
    {
      "cell_type": "code",
      "metadata": {
        "colab": {
          "base_uri": "https://localhost:8080/"
        },
        "id": "UGveWMq_7FkK",
        "outputId": "eb2b0f56-1fde-41aa-d67e-ee9d4732a1f4"
      },
      "source": [
        "[i*i for i in range(1,11)]"
      ],
      "execution_count": null,
      "outputs": [
        {
          "output_type": "execute_result",
          "data": {
            "text/plain": [
              "[1, 4, 9, 16, 25, 36, 49, 64, 81, 100]"
            ]
          },
          "metadata": {
            "tags": []
          },
          "execution_count": 86
        }
      ]
    },
    {
      "cell_type": "markdown",
      "metadata": {
        "id": "Xoqk8RoJ8Yg7"
      },
      "source": [
        "### 표현식에서 if 조건문"
      ]
    },
    {
      "cell_type": "code",
      "metadata": {
        "colab": {
          "base_uri": "https://localhost:8080/"
        },
        "id": "_Ybkc13E7VH5",
        "outputId": "6d881056-9d87-4b34-e33c-40cdd45027f2"
      },
      "source": [
        "[i*i for i in range(1,11,2)]"
      ],
      "execution_count": null,
      "outputs": [
        {
          "output_type": "execute_result",
          "data": {
            "text/plain": [
              "[1, 9, 25, 49, 81]"
            ]
          },
          "metadata": {
            "tags": []
          },
          "execution_count": 87
        }
      ]
    },
    {
      "cell_type": "code",
      "metadata": {
        "colab": {
          "base_uri": "https://localhost:8080/"
        },
        "id": "O2D8uWCY8hkp",
        "outputId": "7bb1f625-584a-4606-a7b1-b51f3997a676"
      },
      "source": [
        "[i*i for i in range(1,11) if i%2==1]"
      ],
      "execution_count": null,
      "outputs": [
        {
          "output_type": "execute_result",
          "data": {
            "text/plain": [
              "[1, 9, 25, 49, 81]"
            ]
          },
          "metadata": {
            "tags": []
          },
          "execution_count": 89
        }
      ]
    },
    {
      "cell_type": "markdown",
      "metadata": {
        "id": "zcr68yTM9CrR"
      },
      "source": [
        "### for 여러번"
      ]
    },
    {
      "cell_type": "code",
      "metadata": {
        "id": "Rsf2_XPk8nij"
      },
      "source": [
        "# 구구단\n",
        "\n",
        "[i*k for i in range(2,10) for k in range(1,10)]"
      ],
      "execution_count": null,
      "outputs": []
    },
    {
      "cell_type": "code",
      "metadata": {
        "colab": {
          "base_uri": "https://localhost:8080/"
        },
        "id": "LDcTYgNY9W9U",
        "outputId": "3b3ebe17-213c-4790-efb1-bf678d0a70cc"
      },
      "source": [
        "print([i*k for i in range(2,10)\n",
        "             for k in range(1,10)])"
      ],
      "execution_count": null,
      "outputs": [
        {
          "output_type": "stream",
          "text": [
            "[2, 4, 6, 8, 10, 12, 14, 16, 18, 3, 6, 9, 12, 15, 18, 21, 24, 27, 4, 8, 12, 16, 20, 24, 28, 32, 36, 5, 10, 15, 20, 25, 30, 35, 40, 45, 6, 12, 18, 24, 30, 36, 42, 48, 54, 7, 14, 21, 28, 35, 42, 49, 56, 63, 8, 16, 24, 32, 40, 48, 56, 64, 72, 9, 18, 27, 36, 45, 54, 63, 72, 81]\n"
          ],
          "name": "stdout"
        }
      ]
    },
    {
      "cell_type": "markdown",
      "metadata": {
        "id": "BChojHtK-T1x"
      },
      "source": [
        "## 22.6 map"
      ]
    },
    {
      "cell_type": "code",
      "metadata": {
        "colab": {
          "base_uri": "https://localhost:8080/"
        },
        "id": "_1WKnlyu95wq",
        "outputId": "facdc7c7-5f88-4571-abe4-f2cc7e9caa29"
      },
      "source": [
        "a= [1.2,2.3,3.5]\n",
        "for i in range(len(a)):\n",
        "  a[i]= int(a[i])\n",
        "a"
      ],
      "execution_count": null,
      "outputs": [
        {
          "output_type": "execute_result",
          "data": {
            "text/plain": [
              "[1, 2, 3]"
            ]
          },
          "metadata": {
            "tags": []
          },
          "execution_count": 96
        }
      ]
    },
    {
      "cell_type": "code",
      "metadata": {
        "colab": {
          "base_uri": "https://localhost:8080/"
        },
        "id": "VKQUobQy-hiN",
        "outputId": "394748c2-1ea5-4491-e039-7370ac23ec91"
      },
      "source": [
        "a= [1.2,2.3,3.5]\n",
        "for i in a:\n",
        "  i= int(i)\n",
        "i, a"
      ],
      "execution_count": null,
      "outputs": [
        {
          "output_type": "execute_result",
          "data": {
            "text/plain": [
              "(3, [1.2, 2.3, 3.5])"
            ]
          },
          "metadata": {
            "tags": []
          },
          "execution_count": 97
        }
      ]
    },
    {
      "cell_type": "code",
      "metadata": {
        "colab": {
          "base_uri": "https://localhost:8080/"
        },
        "id": "nunPCy96-zn3",
        "outputId": "404091cd-9466-4592-a0a7-cf88c70fd99e"
      },
      "source": [
        "a= [1.2,2.3,3.5]\n",
        "a=list(map(int, a))\n",
        "a"
      ],
      "execution_count": null,
      "outputs": [
        {
          "output_type": "execute_result",
          "data": {
            "text/plain": [
              "[1, 2, 3]"
            ]
          },
          "metadata": {
            "tags": []
          },
          "execution_count": 99
        }
      ]
    },
    {
      "cell_type": "markdown",
      "metadata": {
        "id": "QyLwUH5A__6u"
      },
      "source": [
        "## 22.7 tuple"
      ]
    },
    {
      "cell_type": "code",
      "metadata": {
        "colab": {
          "base_uri": "https://localhost:8080/"
        },
        "id": "dDrzG-Ki_H3O",
        "outputId": "2963d3c5-975d-4c1f-ce2d-6641df5592b1"
      },
      "source": [
        "tuple(i*i for i in range(1,11) if i%2==0)"
      ],
      "execution_count": null,
      "outputs": [
        {
          "output_type": "execute_result",
          "data": {
            "text/plain": [
              "(4, 16, 36, 64, 100)"
            ]
          },
          "metadata": {
            "tags": []
          },
          "execution_count": 100
        }
      ]
    },
    {
      "cell_type": "markdown",
      "metadata": {
        "id": "LOUtRc8ZBA9l"
      },
      "source": [
        "# Extra\n",
        "# a+b+c= 1000 (a<b<c)<br> a*a+b*b=c*c 인 피타고라스 수"
      ]
    },
    {
      "cell_type": "code",
      "metadata": {
        "colab": {
          "base_uri": "https://localhost:8080/"
        },
        "id": "moVu6gp-AHwy",
        "outputId": "bfc73bc6-3b51-426b-a3ca-10897ab3d621"
      },
      "source": [
        "a,b,c=1,2,997\n",
        "\n",
        "while True:\n",
        "  \n",
        "  if a+b+c!=1000:\n",
        "    print('error')\n",
        "    break\n",
        "\n",
        "  x,y = a*a+b*b, c*c\n",
        "  if x==y:\n",
        "    print(a,b,c)\n",
        "\n",
        "  if b+2<c:\n",
        "    b+=1\n",
        "    c-=1\n",
        "  elif a+2<b:\n",
        "    a+=1\n",
        "    b=a+1\n",
        "    c=1000-a-b\n",
        "  else:\n",
        "    break\n",
        "\n",
        "print('end')"
      ],
      "execution_count": null,
      "outputs": [
        {
          "output_type": "stream",
          "text": [
            "200 375 425\n",
            "end\n"
          ],
          "name": "stdout"
        }
      ]
    },
    {
      "cell_type": "markdown",
      "metadata": {
        "id": "r71rLUfxRwiC"
      },
      "source": [
        "# 0000,00,00 생일을 입력 받아 오늘 날짜의 만 나이를 구하는 프로그램"
      ]
    },
    {
      "cell_type": "code",
      "metadata": {
        "id": "zPAzLRulI-1o"
      },
      "source": [
        "from datetime import date\n",
        "today= date.today()\n",
        "b_y,b_m,b_d= map(int,input().split())\n",
        "\n",
        "\n",
        "\n",
        "age=5\n",
        "\n",
        "age\n",
        "today"
      ],
      "execution_count": null,
      "outputs": []
    },
    {
      "cell_type": "markdown",
      "metadata": {
        "id": "mh3LxuJuRxOD"
      },
      "source": [
        "# 00:00~23:59 표시되는 시계에서 3이 있는 모든 시간 초로 환산해서 더하기"
      ]
    },
    {
      "cell_type": "code",
      "metadata": {
        "colab": {
          "base_uri": "https://localhost:8080/"
        },
        "id": "0Hd9vw7tSCO2",
        "outputId": "f3216415-1187-46f5-bf45-6a57ca816afc"
      },
      "source": [
        "clock_time=[]\n",
        "time_in_sec=0\n",
        "check=0\n",
        "\n",
        "for i in range(24):\n",
        "  for k in range(60):\n",
        "    if i==3 or i==13 or k==3 or k==13 or k==23 or k==33 or k==43 or k==53:\n",
        "      x=(i,k)\n",
        "      clock_time.append(x)\n",
        "      time_in_sec += i*3600 + k*60\n",
        "      check+=1\n",
        "\n",
        "print(clock_time)\n",
        "print(time_in_sec)\n",
        "print(check)"
      ],
      "execution_count": 207,
      "outputs": [
        {
          "output_type": "stream",
          "text": [
            "[(0, 3), (0, 13), (0, 23), (0, 33), (0, 43), (0, 53), (1, 3), (1, 13), (1, 23), (1, 33), (1, 43), (1, 53), (2, 3), (2, 13), (2, 23), (2, 33), (2, 43), (2, 53), (3, 0), (3, 1), (3, 2), (3, 3), (3, 4), (3, 5), (3, 6), (3, 7), (3, 8), (3, 9), (3, 10), (3, 11), (3, 12), (3, 13), (3, 14), (3, 15), (3, 16), (3, 17), (3, 18), (3, 19), (3, 20), (3, 21), (3, 22), (3, 23), (3, 24), (3, 25), (3, 26), (3, 27), (3, 28), (3, 29), (3, 30), (3, 31), (3, 32), (3, 33), (3, 34), (3, 35), (3, 36), (3, 37), (3, 38), (3, 39), (3, 40), (3, 41), (3, 42), (3, 43), (3, 44), (3, 45), (3, 46), (3, 47), (3, 48), (3, 49), (3, 50), (3, 51), (3, 52), (3, 53), (3, 54), (3, 55), (3, 56), (3, 57), (3, 58), (3, 59), (4, 3), (4, 13), (4, 23), (4, 33), (4, 43), (4, 53), (5, 3), (5, 13), (5, 23), (5, 33), (5, 43), (5, 53), (6, 3), (6, 13), (6, 23), (6, 33), (6, 43), (6, 53), (7, 3), (7, 13), (7, 23), (7, 33), (7, 43), (7, 53), (8, 3), (8, 13), (8, 23), (8, 33), (8, 43), (8, 53), (9, 3), (9, 13), (9, 23), (9, 33), (9, 43), (9, 53), (10, 3), (10, 13), (10, 23), (10, 33), (10, 43), (10, 53), (11, 3), (11, 13), (11, 23), (11, 33), (11, 43), (11, 53), (12, 3), (12, 13), (12, 23), (12, 33), (12, 43), (12, 53), (13, 0), (13, 1), (13, 2), (13, 3), (13, 4), (13, 5), (13, 6), (13, 7), (13, 8), (13, 9), (13, 10), (13, 11), (13, 12), (13, 13), (13, 14), (13, 15), (13, 16), (13, 17), (13, 18), (13, 19), (13, 20), (13, 21), (13, 22), (13, 23), (13, 24), (13, 25), (13, 26), (13, 27), (13, 28), (13, 29), (13, 30), (13, 31), (13, 32), (13, 33), (13, 34), (13, 35), (13, 36), (13, 37), (13, 38), (13, 39), (13, 40), (13, 41), (13, 42), (13, 43), (13, 44), (13, 45), (13, 46), (13, 47), (13, 48), (13, 49), (13, 50), (13, 51), (13, 52), (13, 53), (13, 54), (13, 55), (13, 56), (13, 57), (13, 58), (13, 59), (14, 3), (14, 13), (14, 23), (14, 33), (14, 43), (14, 53), (15, 3), (15, 13), (15, 23), (15, 33), (15, 43), (15, 53), (16, 3), (16, 13), (16, 23), (16, 33), (16, 43), (16, 53), (17, 3), (17, 13), (17, 23), (17, 33), (17, 43), (17, 53), (18, 3), (18, 13), (18, 23), (18, 33), (18, 43), (18, 53), (19, 3), (19, 13), (19, 23), (19, 33), (19, 43), (19, 53), (20, 3), (20, 13), (20, 23), (20, 33), (20, 43), (20, 53), (21, 3), (21, 13), (21, 23), (21, 33), (21, 43), (21, 53), (22, 3), (22, 13), (22, 23), (22, 33), (22, 43), (22, 53), (23, 3), (23, 13), (23, 23), (23, 33), (23, 43), (23, 53)]\n",
            "9506160\n",
            "252\n"
          ],
          "name": "stdout"
        }
      ]
    },
    {
      "cell_type": "code",
      "metadata": {
        "id": "N1O3uBc0bOy3"
      },
      "source": [
        "29700??"
      ],
      "execution_count": null,
      "outputs": []
    }
  ]
}