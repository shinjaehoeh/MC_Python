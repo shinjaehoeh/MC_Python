{
  "nbformat": 4,
  "nbformat_minor": 0,
  "metadata": {
    "colab": {
      "name": "U_27.ipynb",
      "provenance": [],
      "collapsed_sections": []
    },
    "kernelspec": {
      "name": "python3",
      "display_name": "Python 3"
    },
    "language_info": {
      "name": "python"
    }
  },
  "cells": [
    {
      "cell_type": "markdown",
      "metadata": {
        "id": "Ygu5EL-akzD9"
      },
      "source": [
        "# U 27. 파일"
      ]
    },
    {
      "cell_type": "markdown",
      "metadata": {
        "id": "HRa0hcT5muhj"
      },
      "source": [
        "## 27.1 문자열 쓰기, 읽기"
      ]
    },
    {
      "cell_type": "code",
      "metadata": {
        "id": "7lIS--aESg0D"
      },
      "source": [
        "file = open('hello.txt','w')\n",
        "file.write('hello, world!')\n",
        "file.close()"
      ],
      "execution_count": 17,
      "outputs": []
    },
    {
      "cell_type": "code",
      "metadata": {
        "colab": {
          "base_uri": "https://localhost:8080/"
        },
        "id": "HLxMmTKgnMeP",
        "outputId": "2fbf012c-b6e6-4a0d-a99a-79427e6154b7"
      },
      "source": [
        "!cat hello.txt"
      ],
      "execution_count": 9,
      "outputs": [
        {
          "output_type": "stream",
          "text": [
            "hello, world!"
          ],
          "name": "stdout"
        }
      ]
    },
    {
      "cell_type": "code",
      "metadata": {
        "colab": {
          "base_uri": "https://localhost:8080/"
        },
        "id": "WrmVvJa5nT0N",
        "outputId": "5beab87d-da86-4525-9501-68a3f966c20b"
      },
      "source": [
        "file=open('hello.txt') # 'r' mode is default\n",
        "s=file.read()\n",
        "print(s)\n",
        "file.close()"
      ],
      "execution_count": 18,
      "outputs": [
        {
          "output_type": "stream",
          "text": [
            "hello, world!\n"
          ],
          "name": "stdout"
        }
      ]
    },
    {
      "cell_type": "markdown",
      "metadata": {
        "id": "HLJ_KtZsptMk"
      },
      "source": [
        "### 파이썬 스타일"
      ]
    },
    {
      "cell_type": "code",
      "metadata": {
        "colab": {
          "base_uri": "https://localhost:8080/"
        },
        "id": "FijR-qGCnx5m",
        "outputId": "3b799fc3-6c4c-4162-c9c7-f6f16d07d407"
      },
      "source": [
        "with open('hello.txt') as file:\n",
        "  s=file.read()\n",
        "print(s)"
      ],
      "execution_count": 15,
      "outputs": [
        {
          "output_type": "stream",
          "text": [
            "Hello, world! 1\n",
            "Hello, world! 2\n",
            "Hello, world! 3\n",
            "\n"
          ],
          "name": "stdout"
        }
      ]
    },
    {
      "cell_type": "markdown",
      "metadata": {
        "id": "Al174Hy8qNQu"
      },
      "source": [
        "## 27.2 문자열 여러줄"
      ]
    },
    {
      "cell_type": "code",
      "metadata": {
        "id": "-YJa6Zqzp3ih"
      },
      "source": [
        "with open('hello.txt','w') as file:\n",
        "  for i in range(3):\n",
        "    file.write(f'Hello, world! {i+1}\\n')"
      ],
      "execution_count": 13,
      "outputs": []
    },
    {
      "cell_type": "code",
      "metadata": {
        "colab": {
          "base_uri": "https://localhost:8080/"
        },
        "id": "afQ9S50FrBCC",
        "outputId": "1f180448-7b78-4dc1-93b9-2ffbe4aa7cff"
      },
      "source": [
        "!cat hello.txt"
      ],
      "execution_count": 14,
      "outputs": [
        {
          "output_type": "stream",
          "text": [
            "Hello, world! 1\n",
            "Hello, world! 2\n",
            "Hello, world! 3\n"
          ],
          "name": "stdout"
        }
      ]
    },
    {
      "cell_type": "code",
      "metadata": {
        "id": "o2FsiZQqrCer"
      },
      "source": [
        "lines=['안녕하세요.\\n','파이썬\\n','cording\\n']\n",
        "with open('hello.txt','w') as file:\n",
        "  file.writelines(lines)"
      ],
      "execution_count": 21,
      "outputs": []
    },
    {
      "cell_type": "code",
      "metadata": {
        "colab": {
          "base_uri": "https://localhost:8080/"
        },
        "id": "sn4y1vRVrbzX",
        "outputId": "0e0d4bc1-ea3a-4850-b0c1-034816cd9e4f"
      },
      "source": [
        "!cat hello.txt"
      ],
      "execution_count": 22,
      "outputs": [
        {
          "output_type": "stream",
          "text": [
            "안녕하세요.\n",
            "파이썬\n",
            "cording\n"
          ],
          "name": "stdout"
        }
      ]
    },
    {
      "cell_type": "code",
      "metadata": {
        "id": "1hX97qVzrtH9"
      },
      "source": [
        "s='''안녕하세요\n",
        "파이썬\n",
        "코딩입니다'''\n",
        "\n",
        "with open('hello.txt','w') as file:\n",
        "  file.write(s)"
      ],
      "execution_count": 45,
      "outputs": []
    },
    {
      "cell_type": "code",
      "metadata": {
        "colab": {
          "base_uri": "https://localhost:8080/"
        },
        "id": "q8Jkm6cvsyJL",
        "outputId": "3cee39e8-b696-448d-a929-ffa3ec9ae166"
      },
      "source": [
        "!cat hello.txt"
      ],
      "execution_count": 24,
      "outputs": [
        {
          "output_type": "stream",
          "text": [
            "안녕하세요\n",
            "파이썬\n",
            "코딩입니다"
          ],
          "name": "stdout"
        }
      ]
    },
    {
      "cell_type": "code",
      "metadata": {
        "colab": {
          "base_uri": "https://localhost:8080/"
        },
        "id": "-n8VjQ_Ds0bk",
        "outputId": "eaada306-6cf4-4711-9f4e-9b46b0bf3f42"
      },
      "source": [
        "with open('hello.txt') as file:\n",
        "  s=file.read()\n",
        "print(s)"
      ],
      "execution_count": 28,
      "outputs": [
        {
          "output_type": "stream",
          "text": [
            "안녕하세요\n",
            "파이썬\n",
            "코딩입니다\n"
          ],
          "name": "stdout"
        }
      ]
    },
    {
      "cell_type": "code",
      "metadata": {
        "colab": {
          "base_uri": "https://localhost:8080/"
        },
        "id": "5b1n_3qKtEHD",
        "outputId": "7d5d47a4-7bc6-4777-8692-5392487455ae"
      },
      "source": [
        "with open('hello.txt') as file:\n",
        "  s=file.readline()\n",
        "print(s)"
      ],
      "execution_count": 29,
      "outputs": [
        {
          "output_type": "stream",
          "text": [
            "안녕하세요\n",
            "\n"
          ],
          "name": "stdout"
        }
      ]
    },
    {
      "cell_type": "code",
      "metadata": {
        "colab": {
          "base_uri": "https://localhost:8080/"
        },
        "id": "szJLY_v9uGf9",
        "outputId": "0049480c-de25-4061-9318-1483e34b6435"
      },
      "source": [
        "with open('hello.txt') as file:\n",
        "  line=None\n",
        "  while line !='':\n",
        "    line=file.readline()\n",
        "    print(line)"
      ],
      "execution_count": 32,
      "outputs": [
        {
          "output_type": "stream",
          "text": [
            "안녕하세요\n",
            "\n",
            "파이썬\n",
            "\n",
            "코딩입니다\n",
            "\n"
          ],
          "name": "stdout"
        }
      ]
    },
    {
      "cell_type": "code",
      "metadata": {
        "colab": {
          "base_uri": "https://localhost:8080/"
        },
        "id": "61JbUTg4tVi6",
        "outputId": "11a6fa47-6141-44c0-beab-87ecdf8f2375"
      },
      "source": [
        "with open('hello.txt') as file:\n",
        "  line=None\n",
        "  while line !='':\n",
        "    line=file.readline()\n",
        "    print(line.strip('\\n'))"
      ],
      "execution_count": 31,
      "outputs": [
        {
          "output_type": "stream",
          "text": [
            "안녕하세요\n",
            "파이썬\n",
            "코딩입니다\n",
            "\n"
          ],
          "name": "stdout"
        }
      ]
    },
    {
      "cell_type": "code",
      "metadata": {
        "colab": {
          "base_uri": "https://localhost:8080/"
        },
        "id": "h9GxPXHat7ff",
        "outputId": "0af3ff78-343a-4151-8ac8-de64c4b1cd4e"
      },
      "source": [
        "with open('hello.txt') as file:\n",
        "  for line in file:\n",
        "    print(line.strip('\\n'))"
      ],
      "execution_count": 33,
      "outputs": [
        {
          "output_type": "stream",
          "text": [
            "안녕하세요\n",
            "파이썬\n",
            "코딩입니다\n"
          ],
          "name": "stdout"
        }
      ]
    },
    {
      "cell_type": "code",
      "metadata": {
        "colab": {
          "base_uri": "https://localhost:8080/"
        },
        "id": "URnYcdyMxH2A",
        "outputId": "79d695c9-9f41-4f34-f690-c5f8cbcb99ec"
      },
      "source": [
        "dir(file) # __iter__ 가 정의되어 있으면 for문 사용가능"
      ],
      "execution_count": 34,
      "outputs": [
        {
          "output_type": "execute_result",
          "data": {
            "text/plain": [
              "['_CHUNK_SIZE',\n",
              " '__class__',\n",
              " '__del__',\n",
              " '__delattr__',\n",
              " '__dict__',\n",
              " '__dir__',\n",
              " '__doc__',\n",
              " '__enter__',\n",
              " '__eq__',\n",
              " '__exit__',\n",
              " '__format__',\n",
              " '__ge__',\n",
              " '__getattribute__',\n",
              " '__getstate__',\n",
              " '__gt__',\n",
              " '__hash__',\n",
              " '__init__',\n",
              " '__init_subclass__',\n",
              " '__iter__',\n",
              " '__le__',\n",
              " '__lt__',\n",
              " '__ne__',\n",
              " '__new__',\n",
              " '__next__',\n",
              " '__reduce__',\n",
              " '__reduce_ex__',\n",
              " '__repr__',\n",
              " '__setattr__',\n",
              " '__sizeof__',\n",
              " '__str__',\n",
              " '__subclasshook__',\n",
              " '_checkClosed',\n",
              " '_checkReadable',\n",
              " '_checkSeekable',\n",
              " '_checkWritable',\n",
              " '_finalizing',\n",
              " 'buffer',\n",
              " 'close',\n",
              " 'closed',\n",
              " 'detach',\n",
              " 'encoding',\n",
              " 'errors',\n",
              " 'fileno',\n",
              " 'flush',\n",
              " 'isatty',\n",
              " 'line_buffering',\n",
              " 'mode',\n",
              " 'name',\n",
              " 'newlines',\n",
              " 'read',\n",
              " 'readable',\n",
              " 'readline',\n",
              " 'readlines',\n",
              " 'reconfigure',\n",
              " 'seek',\n",
              " 'seekable',\n",
              " 'tell',\n",
              " 'truncate',\n",
              " 'writable',\n",
              " 'write',\n",
              " 'write_through',\n",
              " 'writelines']"
            ]
          },
          "metadata": {
            "tags": []
          },
          "execution_count": 34
        }
      ]
    },
    {
      "cell_type": "code",
      "metadata": {
        "colab": {
          "base_uri": "https://localhost:8080/"
        },
        "id": "MamxeFBExOPX",
        "outputId": "c58f23c6-56e7-4939-ae99-0a36e2273831"
      },
      "source": [
        "x={'a':10,'b':20}\n",
        "dir(x)"
      ],
      "execution_count": 35,
      "outputs": [
        {
          "output_type": "execute_result",
          "data": {
            "text/plain": [
              "['__class__',\n",
              " '__contains__',\n",
              " '__delattr__',\n",
              " '__delitem__',\n",
              " '__dir__',\n",
              " '__doc__',\n",
              " '__eq__',\n",
              " '__format__',\n",
              " '__ge__',\n",
              " '__getattribute__',\n",
              " '__getitem__',\n",
              " '__gt__',\n",
              " '__hash__',\n",
              " '__init__',\n",
              " '__init_subclass__',\n",
              " '__iter__',\n",
              " '__le__',\n",
              " '__len__',\n",
              " '__lt__',\n",
              " '__ne__',\n",
              " '__new__',\n",
              " '__reduce__',\n",
              " '__reduce_ex__',\n",
              " '__repr__',\n",
              " '__setattr__',\n",
              " '__setitem__',\n",
              " '__sizeof__',\n",
              " '__str__',\n",
              " '__subclasshook__',\n",
              " 'clear',\n",
              " 'copy',\n",
              " 'fromkeys',\n",
              " 'get',\n",
              " 'items',\n",
              " 'keys',\n",
              " 'pop',\n",
              " 'popitem',\n",
              " 'setdefault',\n",
              " 'update',\n",
              " 'values']"
            ]
          },
          "metadata": {
            "tags": []
          },
          "execution_count": 35
        }
      ]
    },
    {
      "cell_type": "code",
      "metadata": {
        "colab": {
          "base_uri": "https://localhost:8080/"
        },
        "id": "jo7XcY6vxrjH",
        "outputId": "c1cd40d0-2491-4eb4-80ea-53f7a833dc4d"
      },
      "source": [
        "with open('hello.txt') as file:\n",
        "  s=file.read(8)\n",
        "print(s)"
      ],
      "execution_count": 37,
      "outputs": [
        {
          "output_type": "stream",
          "text": [
            "안녕하세요\n",
            "파이\n"
          ],
          "name": "stdout"
        }
      ]
    },
    {
      "cell_type": "markdown",
      "metadata": {
        "id": "9p-xRkYky3pM"
      },
      "source": [
        "### append"
      ]
    },
    {
      "cell_type": "code",
      "metadata": {
        "id": "17mm1439yht5"
      },
      "source": [
        "with open('hello.txt','a') as file:\n",
        "  file.write('Append\\n')"
      ],
      "execution_count": 46,
      "outputs": []
    },
    {
      "cell_type": "code",
      "metadata": {
        "colab": {
          "base_uri": "https://localhost:8080/"
        },
        "id": "7BlWbMNxy2FO",
        "outputId": "074a4603-bcd9-4f83-fb7f-d09bb1c84160"
      },
      "source": [
        "!cat hello.txt"
      ],
      "execution_count": 48,
      "outputs": [
        {
          "output_type": "stream",
          "text": [
            "안녕하세요\n",
            "파이썬\n",
            "코딩입니다Append\n"
          ],
          "name": "stdout"
        }
      ]
    },
    {
      "cell_type": "markdown",
      "metadata": {
        "id": "W6-GAmU2zeOb"
      },
      "source": [
        "### binary mode"
      ]
    },
    {
      "cell_type": "code",
      "metadata": {
        "id": "8amq1wQXzPIS"
      },
      "source": [
        "# rb wb 등등"
      ],
      "execution_count": 49,
      "outputs": []
    },
    {
      "cell_type": "markdown",
      "metadata": {
        "id": "BEKz1v5-1YzF"
      },
      "source": [
        "\n",
        "\n",
        "```\n",
        "with open('test.jpg','rb') as bin:\n",
        "  x=bin.read(10)\n",
        "\n",
        "print(x)\n",
        "```\n",
        "\n"
      ]
    },
    {
      "cell_type": "markdown",
      "metadata": {
        "id": "IiLF6Afb1Ayr"
      },
      "source": [
        "## 27.3 파이썬 객체 읽고 쓰기"
      ]
    },
    {
      "cell_type": "code",
      "metadata": {
        "id": "7vvr6LGm0wTa"
      },
      "source": [
        "import pickle\n",
        "\n",
        "scores = {'kor':90,'eng':90,'mat':80}\n",
        "with open('binary.pkl','wb') as file:\n",
        "  pickle.dump(scores, file)"
      ],
      "execution_count": 50,
      "outputs": []
    },
    {
      "cell_type": "code",
      "metadata": {
        "colab": {
          "base_uri": "https://localhost:8080/"
        },
        "id": "NE3VaoU72Fpv",
        "outputId": "184e6f33-cf5d-44d2-8d70-60b2f87a92b9"
      },
      "source": [
        "!cat binary.pkl"
      ],
      "execution_count": 51,
      "outputs": [
        {
          "output_type": "stream",
          "text": [
            "�\u0003}q\u0000(X\u0003\u0000\u0000\u0000korq\u0001KZX\u0003\u0000\u0000\u0000engq\u0002KZX\u0003\u0000\u0000\u0000matq\u0003KPu."
          ],
          "name": "stdout"
        }
      ]
    },
    {
      "cell_type": "code",
      "metadata": {
        "colab": {
          "base_uri": "https://localhost:8080/"
        },
        "id": "dJqNloU02HiR",
        "outputId": "69701790-63c4-402b-bb7c-a00c54f45395"
      },
      "source": [
        "with open('binary.pkl','rb') as file:\n",
        "  new_sc=pickle.load(file)\n",
        "\n",
        "new_sc"
      ],
      "execution_count": 52,
      "outputs": [
        {
          "output_type": "execute_result",
          "data": {
            "text/plain": [
              "{'eng': 90, 'kor': 90, 'mat': 80}"
            ]
          },
          "metadata": {
            "tags": []
          },
          "execution_count": 52
        }
      ]
    },
    {
      "cell_type": "code",
      "metadata": {
        "id": "11n9_Ijs2fRg"
      },
      "source": [
        ""
      ],
      "execution_count": null,
      "outputs": []
    }
  ]
}