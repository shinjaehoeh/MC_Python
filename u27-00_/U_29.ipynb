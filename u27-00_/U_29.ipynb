{
  "nbformat": 4,
  "nbformat_minor": 0,
  "metadata": {
    "colab": {
      "name": "U_29.ipynb",
      "provenance": [],
      "collapsed_sections": []
    },
    "kernelspec": {
      "name": "python3",
      "display_name": "Python 3"
    },
    "language_info": {
      "name": "python"
    }
  },
  "cells": [
    {
      "cell_type": "markdown",
      "metadata": {
        "id": "Hip895gxKfXE"
      },
      "source": [
        "# U 29. 함수"
      ]
    },
    {
      "cell_type": "markdown",
      "metadata": {
        "id": "Ye3spB4xKfKF"
      },
      "source": [
        "## 29.1 출력 함수 만들기"
      ]
    },
    {
      "cell_type": "code",
      "metadata": {
        "id": "OPIMskCS5Ylc"
      },
      "source": [
        "def hello():\n",
        "  print('hello world')"
      ],
      "execution_count": 1,
      "outputs": []
    },
    {
      "cell_type": "code",
      "metadata": {
        "colab": {
          "base_uri": "https://localhost:8080/"
        },
        "id": "InE2fSr1O4qI",
        "outputId": "151e9431-14f6-4d83-a5d8-8c00a972cad9"
      },
      "source": [
        "hello()"
      ],
      "execution_count": 2,
      "outputs": [
        {
          "output_type": "stream",
          "text": [
            "hello world\n"
          ],
          "name": "stdout"
        }
      ]
    },
    {
      "cell_type": "markdown",
      "metadata": {
        "id": "alllVNipPzun"
      },
      "source": [
        "## 29.2 덧셈 함수"
      ]
    },
    {
      "cell_type": "code",
      "metadata": {
        "colab": {
          "base_uri": "https://localhost:8080/"
        },
        "id": "Iyazq0sXO69p",
        "outputId": "c9187a14-3ab4-42cc-a1bf-04bb58d01201"
      },
      "source": [
        "def add(a,b):\n",
        "  print(a+b)\n",
        "\n",
        "add(5,7)"
      ],
      "execution_count": 3,
      "outputs": [
        {
          "output_type": "stream",
          "text": [
            "12\n"
          ],
          "name": "stdout"
        }
      ]
    },
    {
      "cell_type": "code",
      "metadata": {
        "id": "36uqdYHYQAf1"
      },
      "source": [
        "# Docstrings\n",
        "def add(a,b):\n",
        "  \"\"\"\n",
        "  add a,b and print the value function\n",
        "  \"\"\"\n",
        "  print(a+b)"
      ],
      "execution_count": 4,
      "outputs": []
    },
    {
      "cell_type": "code",
      "metadata": {
        "id": "Xsb0zJ_kRI3T"
      },
      "source": [
        "# 도움말 호출\n",
        "add?"
      ],
      "execution_count": 5,
      "outputs": []
    },
    {
      "cell_type": "code",
      "metadata": {
        "colab": {
          "base_uri": "https://localhost:8080/"
        },
        "id": "QI3k0OKYRL8h",
        "outputId": "cd75222b-89b3-4d13-b6ee-4f8f494adfd6"
      },
      "source": [
        "def add(a,b):\n",
        "  return(a+b)\n",
        "\n",
        "add(5,7), add(12,4)"
      ],
      "execution_count": 8,
      "outputs": [
        {
          "output_type": "execute_result",
          "data": {
            "text/plain": [
              "(12, 16)"
            ]
          },
          "metadata": {
            "tags": []
          },
          "execution_count": 8
        }
      ]
    },
    {
      "cell_type": "code",
      "metadata": {
        "colab": {
          "base_uri": "https://localhost:8080/"
        },
        "id": "xlvoBcXVRPi2",
        "outputId": "7c87323e-3b68-4019-e79d-4a62f9d1d171"
      },
      "source": [
        "def is_ten(x):\n",
        "  return x==10\n",
        "\n",
        "is_ten(10), is_ten(12)"
      ],
      "execution_count": 10,
      "outputs": [
        {
          "output_type": "execute_result",
          "data": {
            "text/plain": [
              "(True, False)"
            ]
          },
          "metadata": {
            "tags": []
          },
          "execution_count": 10
        }
      ]
    },
    {
      "cell_type": "code",
      "metadata": {
        "id": "sewP0ny4SK9j"
      },
      "source": [
        "def not_ten(x):\n",
        "  if x==10:\n",
        "    return\n",
        "  else:\n",
        "    print('not 10')"
      ],
      "execution_count": 11,
      "outputs": []
    },
    {
      "cell_type": "code",
      "metadata": {
        "id": "FUhTtTaPTNSP"
      },
      "source": [
        "def not_ten(x):\n",
        "  if x==10:\n",
        "    return\n",
        "  print('not 10')"
      ],
      "execution_count": 12,
      "outputs": []
    },
    {
      "cell_type": "markdown",
      "metadata": {
        "id": "srdTAMITTmaN"
      },
      "source": [
        "## 29.4 여러개의 결과값 반환"
      ]
    },
    {
      "cell_type": "code",
      "metadata": {
        "colab": {
          "base_uri": "https://localhost:8080/"
        },
        "id": "C31aHP5hTPy5",
        "outputId": "401a8a83-a7bf-415c-9fae-5c1a4cda9b76"
      },
      "source": [
        "def add_sub(a,b):\n",
        "  return a+b,a-b\n",
        "\n",
        "x,y=add_sub(15,7)\n",
        "\n",
        "x,y"
      ],
      "execution_count": 13,
      "outputs": [
        {
          "output_type": "execute_result",
          "data": {
            "text/plain": [
              "(22, 8)"
            ]
          },
          "metadata": {
            "tags": []
          },
          "execution_count": 13
        }
      ]
    },
    {
      "cell_type": "markdown",
      "metadata": {
        "id": "-g7k9ex-UPaB"
      },
      "source": [
        "## 29.5 함수의 호출 과정"
      ]
    },
    {
      "cell_type": "code",
      "metadata": {
        "id": "cjFJrCpiT17J"
      },
      "source": [
        "# Stack을 이용한다"
      ],
      "execution_count": null,
      "outputs": []
    },
    {
      "cell_type": "markdown",
      "metadata": {
        "id": "uJ7eCmGUVZKc"
      },
      "source": [
        "### 연습문제\n",
        "- 3자리 정수 두개를 곱해 나온 결과가 팔린드롬(Palindrome)이 되도록 할 때 가장 큰 수?"
      ]
    },
    {
      "cell_type": "code",
      "metadata": {
        "colab": {
          "base_uri": "https://localhost:8080/"
        },
        "id": "Bo14YNllYLAe",
        "outputId": "f45f2af2-7777-498e-88c9-0e4f6a7aea41"
      },
      "source": [
        "x=525\n",
        "a=[]\n",
        "while x//10>=1:\n",
        "  a.append(x%10)\n",
        "  x=x//10\n",
        "a.append(x)\n",
        "\n",
        "k=list(reversed(a))\n",
        "print(k)\n",
        "a\n",
        "\n",
        "if a==k:\n",
        "  print('y')"
      ],
      "execution_count": 33,
      "outputs": [
        {
          "output_type": "stream",
          "text": [
            "[5, 2, 5]\n",
            "y\n"
          ],
          "name": "stdout"
        }
      ]
    },
    {
      "cell_type": "code",
      "metadata": {
        "id": "Cq8hvKodYeNO"
      },
      "source": [
        "def is_pal(x):\n",
        "  s=str(x)\n",
        "  return s==s[::-1]"
      ],
      "execution_count": 34,
      "outputs": []
    },
    {
      "cell_type": "code",
      "metadata": {
        "colab": {
          "base_uri": "https://localhost:8080/"
        },
        "id": "NnESxltEdLj4",
        "outputId": "a8bb26ec-938c-4f22-947c-1a58fd87af58"
      },
      "source": [
        "is_pal(500), is_pal(636)"
      ],
      "execution_count": 35,
      "outputs": [
        {
          "output_type": "execute_result",
          "data": {
            "text/plain": [
              "(False, True)"
            ]
          },
          "metadata": {
            "tags": []
          },
          "execution_count": 35
        }
      ]
    },
    {
      "cell_type": "code",
      "metadata": {
        "colab": {
          "base_uri": "https://localhost:8080/"
        },
        "id": "Jimfli4bdQt2",
        "outputId": "6d386130-fc8d-41c9-d937-ad06fb955678"
      },
      "source": [
        "max_p,m,n=0,0,0\n",
        "for i in range(100,1000):\n",
        "  for k in range(100,1000):\n",
        "    if is_pal(i*k):\n",
        "      if i*k > max_p:\n",
        "        max_p=i*k\n",
        "        m=i\n",
        "        n=k\n",
        "\n",
        "print(f'{m}*{n}={max_p}')"
      ],
      "execution_count": 37,
      "outputs": [
        {
          "output_type": "stream",
          "text": [
            "913*993=906609\n"
          ],
          "name": "stdout"
        }
      ]
    },
    {
      "cell_type": "code",
      "metadata": {
        "id": "oTK8ixs1eL8p"
      },
      "source": [
        ""
      ],
      "execution_count": null,
      "outputs": []
    }
  ]
}