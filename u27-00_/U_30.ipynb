{
  "nbformat": 4,
  "nbformat_minor": 0,
  "metadata": {
    "colab": {
      "name": "U_30.ipynb",
      "provenance": [],
      "collapsed_sections": []
    },
    "kernelspec": {
      "name": "python3",
      "display_name": "Python 3"
    },
    "language_info": {
      "name": "python"
    }
  },
  "cells": [
    {
      "cell_type": "markdown",
      "metadata": {
        "id": "JMq2Rqyqf7k6"
      },
      "source": [
        "# U 30. 위치 인수와 키워드 인수"
      ]
    },
    {
      "cell_type": "markdown",
      "metadata": {
        "id": "wE6SXGRzf7aC"
      },
      "source": [
        "## 30.1 위치 인수"
      ]
    },
    {
      "cell_type": "code",
      "metadata": {
        "colab": {
          "base_uri": "https://localhost:8080/"
        },
        "id": "bSda5_Q4f51I",
        "outputId": "c8054c57-4bf5-4418-c284-935cc6cb51f8"
      },
      "source": [
        "print(10,20,30)\n",
        "print(10,20,30,sep=\", \")"
      ],
      "execution_count": 1,
      "outputs": [
        {
          "output_type": "stream",
          "text": [
            "10 20 30\n",
            "10, 20, 30\n"
          ],
          "name": "stdout"
        }
      ]
    },
    {
      "cell_type": "code",
      "metadata": {
        "colab": {
          "base_uri": "https://localhost:8080/",
          "height": 137
        },
        "id": "ABEd8AqMgEjo",
        "outputId": "e00b1a95-f722-4f82-e54c-1047dcf44f47"
      },
      "source": [
        "print(10,20,30,sep=\", \",40)"
      ],
      "execution_count": 2,
      "outputs": [
        {
          "output_type": "error",
          "ename": "SyntaxError",
          "evalue": "ignored",
          "traceback": [
            "\u001b[0;36m  File \u001b[0;32m\"<ipython-input-2-2fed9439d4bb>\"\u001b[0;36m, line \u001b[0;32m1\u001b[0m\n\u001b[0;31m    print(10,20,30,sep=\", \",40)\u001b[0m\n\u001b[0m                           ^\u001b[0m\n\u001b[0;31mSyntaxError\u001b[0m\u001b[0;31m:\u001b[0m positional argument follows keyword argument\n"
          ]
        }
      ]
    },
    {
      "cell_type": "code",
      "metadata": {
        "colab": {
          "base_uri": "https://localhost:8080/"
        },
        "id": "UQrkUJnHgPWb",
        "outputId": "ef479055-d5f0-4f4e-d3c8-cb50643e9840"
      },
      "source": [
        "def print_n(a,b,c):\n",
        "  print(a)\n",
        "  print(b)\n",
        "  print(c)\n",
        "\n",
        "print_n(10,20,30)"
      ],
      "execution_count": 3,
      "outputs": [
        {
          "output_type": "stream",
          "text": [
            "10\n",
            "20\n",
            "30\n"
          ],
          "name": "stdout"
        }
      ]
    },
    {
      "cell_type": "code",
      "metadata": {
        "colab": {
          "base_uri": "https://localhost:8080/"
        },
        "id": "Af-oEQ39hI2r",
        "outputId": "7fb10dad-7092-48a4-fe35-86692e8ee70d"
      },
      "source": [
        "# *x - 리스트/튜플 언패킹\n",
        "\n",
        "x,y=[10,11,12], (20,21,22)\n",
        "print_n(*x)\n",
        "print_n(*y)"
      ],
      "execution_count": 4,
      "outputs": [
        {
          "output_type": "stream",
          "text": [
            "10\n",
            "11\n",
            "12\n",
            "20\n",
            "21\n",
            "22\n"
          ],
          "name": "stdout"
        }
      ]
    },
    {
      "cell_type": "markdown",
      "metadata": {
        "id": "PjYm7WEzh2hb"
      },
      "source": [
        "### 가변 인수 함수"
      ]
    },
    {
      "cell_type": "code",
      "metadata": {
        "colab": {
          "base_uri": "https://localhost:8080/"
        },
        "id": "4wkLfvSOhQ4e",
        "outputId": "903c05bc-e42c-471c-8522-cf38fbfd1b26"
      },
      "source": [
        "def print_n2(*args):\n",
        "  for arg in args:\n",
        "    print(arg)\n",
        "\n",
        "print_n2(10,20,30,40,x,*x)"
      ],
      "execution_count": 5,
      "outputs": [
        {
          "output_type": "stream",
          "text": [
            "10\n",
            "20\n",
            "30\n",
            "40\n",
            "[10, 11, 12]\n",
            "10\n",
            "11\n",
            "12\n"
          ],
          "name": "stdout"
        }
      ]
    },
    {
      "cell_type": "markdown",
      "metadata": {
        "id": "lWHzXRdviWUg"
      },
      "source": [
        "### 고정 인수와 가변 인수"
      ]
    },
    {
      "cell_type": "code",
      "metadata": {
        "colab": {
          "base_uri": "https://localhost:8080/"
        },
        "id": "9_pCaMTziFLk",
        "outputId": "73099d9b-e5e0-4db7-cde1-7b8f2153c5e2"
      },
      "source": [
        "def pri_n3(a,*args):\n",
        "  print(a)\n",
        "  print(args)\n",
        "\n",
        "pri_n3(1,10,20)"
      ],
      "execution_count": 6,
      "outputs": [
        {
          "output_type": "stream",
          "text": [
            "1\n",
            "(10, 20)\n"
          ],
          "name": "stdout"
        }
      ]
    },
    {
      "cell_type": "code",
      "metadata": {
        "colab": {
          "base_uri": "https://localhost:8080/"
        },
        "id": "tw8mn6s7i3MQ",
        "outputId": "bbcd4d27-63d2-43cd-d960-5cb184696738"
      },
      "source": [
        "pri_n3(*x)"
      ],
      "execution_count": 7,
      "outputs": [
        {
          "output_type": "stream",
          "text": [
            "10\n",
            "(11, 12)\n"
          ],
          "name": "stdout"
        }
      ]
    },
    {
      "cell_type": "code",
      "metadata": {
        "colab": {
          "base_uri": "https://localhost:8080/",
          "height": 210
        },
        "id": "LZmEa6x4jAXE",
        "outputId": "4144feb7-0274-4051-b3cc-946c49642d70"
      },
      "source": [
        "def pri_n4(*args,a):\n",
        "  print(args)\n",
        "  print(a)\n",
        "\n",
        "pri_n4(*x)"
      ],
      "execution_count": 8,
      "outputs": [
        {
          "output_type": "error",
          "ename": "TypeError",
          "evalue": "ignored",
          "traceback": [
            "\u001b[0;31m---------------------------------------------------------------------------\u001b[0m",
            "\u001b[0;31mTypeError\u001b[0m                                 Traceback (most recent call last)",
            "\u001b[0;32m<ipython-input-8-6fab1fbec51c>\u001b[0m in \u001b[0;36m<module>\u001b[0;34m()\u001b[0m\n\u001b[1;32m      3\u001b[0m   \u001b[0mprint\u001b[0m\u001b[0;34m(\u001b[0m\u001b[0ma\u001b[0m\u001b[0;34m)\u001b[0m\u001b[0;34m\u001b[0m\u001b[0;34m\u001b[0m\u001b[0m\n\u001b[1;32m      4\u001b[0m \u001b[0;34m\u001b[0m\u001b[0m\n\u001b[0;32m----> 5\u001b[0;31m \u001b[0mpri_n4\u001b[0m\u001b[0;34m(\u001b[0m\u001b[0;34m*\u001b[0m\u001b[0mx\u001b[0m\u001b[0;34m)\u001b[0m\u001b[0;34m\u001b[0m\u001b[0;34m\u001b[0m\u001b[0m\n\u001b[0m",
            "\u001b[0;31mTypeError\u001b[0m: pri_n4() missing 1 required keyword-only argument: 'a'"
          ]
        }
      ]
    },
    {
      "cell_type": "markdown",
      "metadata": {
        "id": "bj5zzz8mmWv4"
      },
      "source": [
        "## 30.2 키워드 인수"
      ]
    },
    {
      "cell_type": "code",
      "metadata": {
        "colab": {
          "base_uri": "https://localhost:8080/"
        },
        "id": "n8cnBo5Wjdap",
        "outputId": "aa61ba12-81d5-4284-fe9b-ce171110896a"
      },
      "source": [
        "def personal_info(name,age,addr):\n",
        "  print('이름:',name)\n",
        "  print('나이:',age)\n",
        "  print('주소:',addr)\n",
        "\n",
        "personal_info('홍길동',30,'서울 강남')"
      ],
      "execution_count": 9,
      "outputs": [
        {
          "output_type": "stream",
          "text": [
            "이름: 홍길동\n",
            "나이: 30\n",
            "주소: 서울 강남\n"
          ],
          "name": "stdout"
        }
      ]
    },
    {
      "cell_type": "code",
      "metadata": {
        "colab": {
          "base_uri": "https://localhost:8080/"
        },
        "id": "4v_MzUvynAnX",
        "outputId": "54d3163b-c770-4c33-bcd8-74a1e87f889e"
      },
      "source": [
        "personal_info(age=30,addr='서울 강남',name='홍길동')"
      ],
      "execution_count": 10,
      "outputs": [
        {
          "output_type": "stream",
          "text": [
            "이름: 홍길동\n",
            "나이: 30\n",
            "주소: 서울 강남\n"
          ],
          "name": "stdout"
        }
      ]
    },
    {
      "cell_type": "markdown",
      "metadata": {
        "id": "SVJHPY2jncR4"
      },
      "source": [
        "## 30.3 키워드 인수와 딕셔너리 언패킹"
      ]
    },
    {
      "cell_type": "code",
      "metadata": {
        "colab": {
          "base_uri": "https://localhost:8080/"
        },
        "id": "4fyxuWBZnOUm",
        "outputId": "0d0b56fd-efef-4a2c-9474-18a4624e9766"
      },
      "source": [
        "x={'name':'홍길동','addr':'서울 강남','age':30}\n",
        "personal_info(*x)\n",
        "# 키 값만 출력하게 됨"
      ],
      "execution_count": 18,
      "outputs": [
        {
          "output_type": "stream",
          "text": [
            "이름: name\n",
            "나이: addr\n",
            "주소: age\n"
          ],
          "name": "stdout"
        }
      ]
    },
    {
      "cell_type": "code",
      "metadata": {
        "colab": {
          "base_uri": "https://localhost:8080/"
        },
        "id": "oxg2fHKenjZN",
        "outputId": "b285798c-b812-488e-c33d-9dce4489c71b"
      },
      "source": [
        "personal_info(**x)"
      ],
      "execution_count": 19,
      "outputs": [
        {
          "output_type": "stream",
          "text": [
            "이름: 홍길동\n",
            "나이: 30\n",
            "주소: 서울 강남\n"
          ],
          "name": "stdout"
        }
      ]
    },
    {
      "cell_type": "markdown",
      "metadata": {
        "id": "cpU0mBKtos0a"
      },
      "source": [
        "### 가변 키워드 인수"
      ]
    },
    {
      "cell_type": "code",
      "metadata": {
        "colab": {
          "base_uri": "https://localhost:8080/"
        },
        "id": "DT8S0sxgoL1A",
        "outputId": "a69c72cf-d7de-4a13-8816-9e80be06f77c"
      },
      "source": [
        "def per_inf2(**kwarags):\n",
        "  for key, value in kwarags.items():\n",
        "    print(f'{key}: {value}')\n",
        "\n",
        "per_inf2(**x)"
      ],
      "execution_count": 20,
      "outputs": [
        {
          "output_type": "stream",
          "text": [
            "name: 홍길동\n",
            "addr: 서울 강남\n",
            "age: 30\n"
          ],
          "name": "stdout"
        }
      ]
    },
    {
      "cell_type": "code",
      "metadata": {
        "colab": {
          "base_uri": "https://localhost:8080/"
        },
        "id": "uc4qloHIpC60",
        "outputId": "48dc4463-8bd0-4800-8647-206fa5a495cd"
      },
      "source": [
        "per_inf2(name='hong',age=30)"
      ],
      "execution_count": 21,
      "outputs": [
        {
          "output_type": "stream",
          "text": [
            "name: hong\n",
            "age: 30\n"
          ],
          "name": "stdout"
        }
      ]
    },
    {
      "cell_type": "markdown",
      "metadata": {
        "id": "GUQsK4Z-p33k"
      },
      "source": [
        "### 고정 인수와 가변 키워드 인수"
      ]
    },
    {
      "cell_type": "code",
      "metadata": {
        "colab": {
          "base_uri": "https://localhost:8080/"
        },
        "id": "nTBHY68PpoMd",
        "outputId": "b7be87ec-22ea-4103-f9aa-75bb8f0f47b2"
      },
      "source": [
        "def per_inf3(name,**kaw):\n",
        "  print(name)\n",
        "  print(kaw)\n",
        "\n",
        "per_inf3(**x)"
      ],
      "execution_count": 28,
      "outputs": [
        {
          "output_type": "stream",
          "text": [
            "홍길동\n",
            "{'addr': '서울 강남', 'age': 30}\n"
          ],
          "name": "stdout"
        }
      ]
    },
    {
      "cell_type": "code",
      "metadata": {
        "colab": {
          "base_uri": "https://localhost:8080/"
        },
        "id": "EWwE2YR8qGZx",
        "outputId": "189a28f8-8de8-4e91-e3d1-0e05fa58c10f"
      },
      "source": [
        "def per_inf3(age,**kaw):\n",
        "  print(age)\n",
        "  print(kaw)\n",
        "\n",
        "per_inf3(**x)"
      ],
      "execution_count": 29,
      "outputs": [
        {
          "output_type": "stream",
          "text": [
            "30\n",
            "{'name': '홍길동', 'addr': '서울 강남'}\n"
          ],
          "name": "stdout"
        }
      ]
    },
    {
      "cell_type": "markdown",
      "metadata": {
        "id": "POYlN5JLqhXb"
      },
      "source": [
        "### 위치 인수와 키워드 인수"
      ]
    },
    {
      "cell_type": "code",
      "metadata": {
        "colab": {
          "base_uri": "https://localhost:8080/"
        },
        "id": "CGFr1xMkqqeZ",
        "outputId": "36446f7a-c5a6-413d-d25c-4ced655fcf27"
      },
      "source": [
        "def my_print(*args,**kwargs):\n",
        "  print(*args,**kwargs)\n",
        "\n",
        "my_print(12,20,30,sep=', ')"
      ],
      "execution_count": 33,
      "outputs": [
        {
          "output_type": "stream",
          "text": [
            "12, 20, 30\n"
          ],
          "name": "stdout"
        }
      ]
    },
    {
      "cell_type": "code",
      "metadata": {
        "colab": {
          "base_uri": "https://localhost:8080/"
        },
        "id": "9rEFiNZNqUhp",
        "outputId": "93237409-1f3a-4a10-97a9-5b3f7b58cf11"
      },
      "source": [
        "def my_print(*args,**kwargs):\n",
        "  print(args,kwargs)\n",
        "\n",
        "my_print(12,20,30,sep=', ')"
      ],
      "execution_count": 34,
      "outputs": [
        {
          "output_type": "stream",
          "text": [
            "(12, 20, 30) {'sep': ', '}\n"
          ],
          "name": "stdout"
        }
      ]
    },
    {
      "cell_type": "markdown",
      "metadata": {
        "id": "jIfGR0wTraE1"
      },
      "source": [
        "## 30.4 매개변수에 초기값 지정"
      ]
    },
    {
      "cell_type": "code",
      "metadata": {
        "colab": {
          "base_uri": "https://localhost:8080/"
        },
        "id": "lixVfj79q4xf",
        "outputId": "5fc8e690-eef7-4f55-b9df-da7a30235745"
      },
      "source": [
        "def per_inf4(name, age, addr='비공개'):\n",
        "  print('이름:',name)\n",
        "  print('나이:',age)\n",
        "  print('주소:',addr)\n",
        "\n",
        "per_inf4('홍길동',30)"
      ],
      "execution_count": 42,
      "outputs": [
        {
          "output_type": "stream",
          "text": [
            "이름: 홍길동\n",
            "나이: 30\n",
            "주소: 비공개\n"
          ],
          "name": "stdout"
        }
      ]
    },
    {
      "cell_type": "code",
      "metadata": {
        "colab": {
          "base_uri": "https://localhost:8080/"
        },
        "id": "Co7g1LtwrnE1",
        "outputId": "f57bbcbf-95ef-482e-c7e3-563e37e4b743"
      },
      "source": [
        "per_inf4(**x)"
      ],
      "execution_count": 43,
      "outputs": [
        {
          "output_type": "stream",
          "text": [
            "이름: 홍길동\n",
            "나이: 30\n",
            "주소: 서울 강남\n"
          ],
          "name": "stdout"
        }
      ]
    },
    {
      "cell_type": "code",
      "metadata": {
        "id": "YL1hlvbpsG-g"
      },
      "source": [
        ""
      ],
      "execution_count": null,
      "outputs": []
    }
  ]
}