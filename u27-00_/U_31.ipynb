{
  "nbformat": 4,
  "nbformat_minor": 0,
  "metadata": {
    "colab": {
      "name": "U_31.ipynb",
      "provenance": [],
      "collapsed_sections": []
    },
    "kernelspec": {
      "name": "python3",
      "display_name": "Python 3"
    },
    "language_info": {
      "name": "python"
    }
  },
  "cells": [
    {
      "cell_type": "markdown",
      "metadata": {
        "id": "BVL1Mc2Nt_KL"
      },
      "source": [
        "# U 31. 재귀호출(Recursive Call)"
      ]
    },
    {
      "cell_type": "markdown",
      "metadata": {
        "id": "FYYbqwiMt--N"
      },
      "source": [
        "### factorial 함수를 재귀호출로 구현"
      ]
    },
    {
      "cell_type": "code",
      "metadata": {
        "colab": {
          "base_uri": "https://localhost:8080/"
        },
        "id": "24_ksUJSt842",
        "outputId": "f8812203-e2d8-4807-f837-33d1dd28845d"
      },
      "source": [
        "def fac(n):\n",
        "  if n==0:\n",
        "    return 1\n",
        "  return n*fac(n-1)\n",
        "\n",
        "fac(4)"
      ],
      "execution_count": 4,
      "outputs": [
        {
          "output_type": "execute_result",
          "data": {
            "text/plain": [
              "24"
            ]
          },
          "metadata": {
            "tags": []
          },
          "execution_count": 4
        }
      ]
    },
    {
      "cell_type": "markdown",
      "metadata": {
        "id": "7hG3cJ5N1Hn9"
      },
      "source": [
        "### fibonacci"
      ]
    },
    {
      "cell_type": "code",
      "metadata": {
        "colab": {
          "base_uri": "https://localhost:8080/"
        },
        "id": "dFNizUpOuxCi",
        "outputId": "13ddd5a1-0914-4d57-8a5c-a971b70a2567"
      },
      "source": [
        "def fibo(n):\n",
        "  if n==1 or n==2:\n",
        "    return 1\n",
        "  return fibo(n-1)+fibo(n-2)\n",
        "\n",
        "for _ in range(1,11):\n",
        "  print(_,fibo(_))"
      ],
      "execution_count": 13,
      "outputs": [
        {
          "output_type": "stream",
          "text": [
            "1 1\n",
            "2 1\n",
            "3 2\n",
            "4 3\n",
            "5 5\n",
            "6 8\n",
            "7 13\n",
            "8 21\n",
            "9 34\n",
            "10 55\n"
          ],
          "name": "stdout"
        }
      ]
    },
    {
      "cell_type": "code",
      "metadata": {
        "colab": {
          "base_uri": "https://localhost:8080/"
        },
        "id": "kbZCDSzjwd3s",
        "outputId": "69a7bce2-8bd9-4814-835f-9ed2a7c3277e"
      },
      "source": [
        "[fibo(_) for _ in range(1,6)]"
      ],
      "execution_count": 16,
      "outputs": [
        {
          "output_type": "execute_result",
          "data": {
            "text/plain": [
              "[1, 1, 2, 3, 5]"
            ]
          },
          "metadata": {
            "tags": []
          },
          "execution_count": 16
        }
      ]
    },
    {
      "cell_type": "code",
      "metadata": {
        "id": "v9jcHMLc0y_F"
      },
      "source": [
        ""
      ],
      "execution_count": null,
      "outputs": []
    }
  ]
}