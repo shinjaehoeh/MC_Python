{
  "nbformat": 4,
  "nbformat_minor": 0,
  "metadata": {
    "colab": {
      "name": "U_34.ipynb",
      "provenance": [],
      "collapsed_sections": []
    },
    "kernelspec": {
      "name": "python3",
      "display_name": "Python 3"
    },
    "language_info": {
      "name": "python"
    }
  },
  "cells": [
    {
      "cell_type": "markdown",
      "metadata": {
        "id": "Z_7XCfWZxnfe"
      },
      "source": [
        "# U 34. 클래스(Class)"
      ]
    },
    {
      "cell_type": "markdown",
      "metadata": {
        "id": "HYj_AsTe7Yc_"
      },
      "source": [
        "## 34.1 클래스와 메서드 만들기"
      ]
    },
    {
      "cell_type": "code",
      "metadata": {
        "id": "RtC8CTgaxOZd"
      },
      "source": [
        "class Person:     # 클래스 이름은 대문자로 시작 Why? \n",
        "  def greeting(self):\n",
        "    print('Hello')"
      ],
      "execution_count": 8,
      "outputs": []
    },
    {
      "cell_type": "code",
      "metadata": {
        "id": "XIoUJI148FDs"
      },
      "source": [
        "# 인스턴스를 만들어야 클래스를 사용할 수 있다\n",
        "james = Person()\n",
        "maria = Person()"
      ],
      "execution_count": 9,
      "outputs": []
    },
    {
      "cell_type": "code",
      "metadata": {
        "colab": {
          "base_uri": "https://localhost:8080/"
        },
        "id": "n8XbrJlp8Muj",
        "outputId": "7bf80941-6d2b-464b-a4d4-96ddecf8e33e"
      },
      "source": [
        "james.greeting()\n",
        "maria.greeting()"
      ],
      "execution_count": 12,
      "outputs": [
        {
          "output_type": "stream",
          "text": [
            "Hello\n",
            "Hello\n"
          ],
          "name": "stdout"
        }
      ]
    },
    {
      "cell_type": "code",
      "metadata": {
        "colab": {
          "base_uri": "https://localhost:8080/"
        },
        "id": "1Pyq915_8fb_",
        "outputId": "9a22300e-364c-49c7-bc29-b6e47d88893e"
      },
      "source": [
        "Person().greeting()"
      ],
      "execution_count": 13,
      "outputs": [
        {
          "output_type": "stream",
          "text": [
            "Hello\n"
          ],
          "name": "stdout"
        }
      ]
    },
    {
      "cell_type": "code",
      "metadata": {
        "id": "7MfSgqIb8v0Y"
      },
      "source": [
        "# 클래스 내에서 메서드 오훌하기\n",
        "class Person:\n",
        "  def greeting(self):\n",
        "    print('Hello')\n",
        "\n",
        "  def hello(self):\n",
        "    self.greeting()"
      ],
      "execution_count": 16,
      "outputs": []
    },
    {
      "cell_type": "code",
      "metadata": {
        "colab": {
          "base_uri": "https://localhost:8080/"
        },
        "id": "XgqVHFGz-kjF",
        "outputId": "2d05fa6a-5637-49d8-be64-a1010ee054bf"
      },
      "source": [
        "james= Person()\n",
        "james.hello()"
      ],
      "execution_count": 17,
      "outputs": [
        {
          "output_type": "stream",
          "text": [
            "Hello\n"
          ],
          "name": "stdout"
        }
      ]
    },
    {
      "cell_type": "code",
      "metadata": {
        "colab": {
          "base_uri": "https://localhost:8080/"
        },
        "id": "hOi2NRp6-p2W",
        "outputId": "04e44411-ce92-4eec-f971-2a140978b0f3"
      },
      "source": [
        "isinstance(james, Person)"
      ],
      "execution_count": 18,
      "outputs": [
        {
          "output_type": "execute_result",
          "data": {
            "text/plain": [
              "True"
            ]
          },
          "metadata": {
            "tags": []
          },
          "execution_count": 18
        }
      ]
    },
    {
      "cell_type": "code",
      "metadata": {
        "id": "2obz3EN6-yD4"
      },
      "source": [
        "def facto(n):\n",
        "  if not isinstance(n, int) or n<0:\n",
        "    return None\n",
        "  if n==0:\n",
        "    return 1\n",
        "  return n*facto(n-1)"
      ],
      "execution_count": 19,
      "outputs": []
    },
    {
      "cell_type": "code",
      "metadata": {
        "id": "GproLrPD_K3y"
      },
      "source": [
        "facto(3.14)"
      ],
      "execution_count": 20,
      "outputs": []
    },
    {
      "cell_type": "code",
      "metadata": {
        "colab": {
          "base_uri": "https://localhost:8080/"
        },
        "id": "yxpIQDVW_ae9",
        "outputId": "78483a3f-2faf-4cb7-aaee-7e772349d76f"
      },
      "source": [
        "facto(6)"
      ],
      "execution_count": 21,
      "outputs": [
        {
          "output_type": "execute_result",
          "data": {
            "text/plain": [
              "720"
            ]
          },
          "metadata": {
            "tags": []
          },
          "execution_count": 21
        }
      ]
    },
    {
      "cell_type": "markdown",
      "metadata": {
        "id": "2SfcH4Uk_c7o"
      },
      "source": [
        "## 34.2 속성(Attribute)"
      ]
    },
    {
      "cell_type": "code",
      "metadata": {
        "id": "qJuTGC85_cE7"
      },
      "source": [
        "class Person:\n",
        "  def __init__(self):\n",
        "    self.hello='안녕하세요' # hello 속성을 갖게 됨\n",
        "\n",
        "  def greeting(self):\n",
        "    print(self.hello)"
      ],
      "execution_count": 24,
      "outputs": []
    },
    {
      "cell_type": "code",
      "metadata": {
        "colab": {
          "base_uri": "https://localhost:8080/"
        },
        "id": "ljcjuNFcAEDc",
        "outputId": "3fc7bb93-1757-48de-b73f-85418d4af2c8"
      },
      "source": [
        "maria= Person()\n",
        "maria.greeting()"
      ],
      "execution_count": 25,
      "outputs": [
        {
          "output_type": "stream",
          "text": [
            "안녕하세요\n"
          ],
          "name": "stdout"
        }
      ]
    },
    {
      "cell_type": "code",
      "metadata": {
        "colab": {
          "base_uri": "https://localhost:8080/"
        },
        "id": "WJcWgS2fAIjf",
        "outputId": "df4ecef2-229e-4734-9617-234bfd97c793"
      },
      "source": [
        "maria.hello= 'how are you'\n",
        "maria.greeting()"
      ],
      "execution_count": 27,
      "outputs": [
        {
          "output_type": "stream",
          "text": [
            "how are you\n"
          ],
          "name": "stdout"
        }
      ]
    },
    {
      "cell_type": "code",
      "metadata": {
        "id": "zbzelxjCAo2U"
      },
      "source": [
        "class Person:\n",
        "  def __init__(self, hello):        # Constructor\n",
        "    self.hello= hello\n",
        "\n",
        "  def greeting(self):\n",
        "    print(self.hello)"
      ],
      "execution_count": 29,
      "outputs": []
    },
    {
      "cell_type": "code",
      "metadata": {
        "colab": {
          "base_uri": "https://localhost:8080/"
        },
        "id": "uI2iumfkBpSa",
        "outputId": "7d251314-81dd-4105-a251-3b3f2d65ae2f"
      },
      "source": [
        "james= Person('안녕하세요')\n",
        "maria= Person('how are you')\n",
        "\n",
        "james.greeting()\n",
        "maria.greeting()"
      ],
      "execution_count": 30,
      "outputs": [
        {
          "output_type": "stream",
          "text": [
            "안녕하세요\n",
            "how are you\n"
          ],
          "name": "stdout"
        }
      ]
    },
    {
      "cell_type": "code",
      "metadata": {
        "id": "dZcz4WfDB6NA"
      },
      "source": [
        "class Person:\n",
        "  def __init__(self, name, age, addr):  # *args, **kwar\n",
        "    self.hello = 'hi'\n",
        "    self.name = name\n",
        "    self.age = age\n",
        "    self.addr = addr\n",
        "  \n",
        "  def greeting(self):\n",
        "    print(f'{self.hello} 저는 {self.name}입니다')\n",
        "\n",
        "    # JAVA의 toString() method\n",
        "  def __str__(self):\n",
        "    return f'hello:{self.hello}, name:{self.name}, age:{self.age}, addr:{self.addr}'"
      ],
      "execution_count": 37,
      "outputs": []
    },
    {
      "cell_type": "code",
      "metadata": {
        "colab": {
          "base_uri": "https://localhost:8080/"
        },
        "id": "rEaq8JHMDHm0",
        "outputId": "f8ca6a1e-d782-4236-d8e6-537c13415ba3"
      },
      "source": [
        "maria= Person('마리아',23,'seoul')\n",
        "maria.greeting()"
      ],
      "execution_count": 38,
      "outputs": [
        {
          "output_type": "stream",
          "text": [
            "hi 저는 마리아입니다\n"
          ],
          "name": "stdout"
        }
      ]
    },
    {
      "cell_type": "code",
      "metadata": {
        "colab": {
          "base_uri": "https://localhost:8080/"
        },
        "id": "vE3JiPgJDQof",
        "outputId": "8783e304-4a9b-4913-d781-093ae4c4935c"
      },
      "source": [
        "print(maria)"
      ],
      "execution_count": 39,
      "outputs": [
        {
          "output_type": "stream",
          "text": [
            "hello:hi, name:마리아, age:23, addr:seoul\n"
          ],
          "name": "stdout"
        }
      ]
    },
    {
      "cell_type": "markdown",
      "metadata": {
        "id": "BaIznr4yV6xJ"
      },
      "source": [
        "## 34.3 비공개 속성"
      ]
    },
    {
      "cell_type": "code",
      "metadata": {
        "colab": {
          "base_uri": "https://localhost:8080/"
        },
        "id": "amc5Q-3sUrhT",
        "outputId": "31dd9d59-2e24-4d27-b42f-5ef8bf50946b"
      },
      "source": [
        "maria.age= 30\n",
        "print(maria)"
      ],
      "execution_count": 40,
      "outputs": [
        {
          "output_type": "stream",
          "text": [
            "hello:hi, name:마리아, age:30, addr:seoul\n"
          ],
          "name": "stdout"
        }
      ]
    },
    {
      "cell_type": "code",
      "metadata": {
        "id": "4vHZ18yqWBxa"
      },
      "source": [
        "class Person:\n",
        "  def __init__(self, name, age, addr,wallet):\n",
        "    self.name = name\n",
        "    self.age = age\n",
        "    self.addr = addr\n",
        "    self.__wallet = wallet        # __wallet 속성은 비공개\n",
        "  \n",
        "  def greeting(self):\n",
        "    print(f'hello 저는 {self.name}입니다')\n",
        "\n",
        "  def pay(self,amount):\n",
        "    if self.__wallet - amount < 0:\n",
        "      print('no money')\n",
        "      return\n",
        "    self.__wallet -= amount\n",
        "    print(f'남은 돈은 {self.__wallet} won')\n",
        "\n",
        "  def __str__(self):\n",
        "    return f'name:{self.name}, age:{self.age}, addr:{self.addr}, wa:{self.__wallet}'"
      ],
      "execution_count": 51,
      "outputs": []
    },
    {
      "cell_type": "code",
      "metadata": {
        "colab": {
          "base_uri": "https://localhost:8080/"
        },
        "id": "rKTT74FvWutz",
        "outputId": "d1ca07c0-92e4-4e17-9694-6eda5b7a846c"
      },
      "source": [
        "james =Person('james','28','busan',10000)\n",
        "james.greeting()"
      ],
      "execution_count": 52,
      "outputs": [
        {
          "output_type": "stream",
          "text": [
            "hello 저는 james입니다\n"
          ],
          "name": "stdout"
        }
      ]
    },
    {
      "cell_type": "code",
      "metadata": {
        "colab": {
          "base_uri": "https://localhost:8080/"
        },
        "id": "7RVm1yF9W-kE",
        "outputId": "73807df3-647a-48cd-94ac-d7207b408420"
      },
      "source": [
        "print(james)"
      ],
      "execution_count": 53,
      "outputs": [
        {
          "output_type": "stream",
          "text": [
            "name:james, age:28, addr:busan, wa:10000\n"
          ],
          "name": "stdout"
        }
      ]
    },
    {
      "cell_type": "code",
      "metadata": {
        "colab": {
          "base_uri": "https://localhost:8080/"
        },
        "id": "wJ5v8rdMXFjB",
        "outputId": "ef9ab359-be74-4adf-eceb-d7d65c7904e7"
      },
      "source": [
        "james.__wallet= 20000\n",
        "print(james)"
      ],
      "execution_count": 54,
      "outputs": [
        {
          "output_type": "stream",
          "text": [
            "name:james, age:28, addr:busan, wa:10000\n"
          ],
          "name": "stdout"
        }
      ]
    },
    {
      "cell_type": "code",
      "metadata": {
        "colab": {
          "base_uri": "https://localhost:8080/"
        },
        "id": "jFuLYUmLXTNS",
        "outputId": "be567788-43b8-4175-984f-f00a9dc1498a"
      },
      "source": [
        "james.pay(5000)"
      ],
      "execution_count": 55,
      "outputs": [
        {
          "output_type": "stream",
          "text": [
            "남은 돈은 5000 won\n"
          ],
          "name": "stdout"
        }
      ]
    },
    {
      "cell_type": "code",
      "metadata": {
        "colab": {
          "base_uri": "https://localhost:8080/"
        },
        "id": "K3gOEBBnYPl0",
        "outputId": "cb86dc6f-f95a-432e-df44-9be61bb3b6fc"
      },
      "source": [
        "print(james)"
      ],
      "execution_count": 56,
      "outputs": [
        {
          "output_type": "stream",
          "text": [
            "name:james, age:28, addr:busan, wa:5000\n"
          ],
          "name": "stdout"
        }
      ]
    },
    {
      "cell_type": "code",
      "metadata": {
        "id": "dqs_QcuZYTF9"
      },
      "source": [
        ""
      ],
      "execution_count": null,
      "outputs": []
    }
  ]
}