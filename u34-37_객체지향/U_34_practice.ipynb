{
  "nbformat": 4,
  "nbformat_minor": 0,
  "metadata": {
    "colab": {
      "name": "U_34_practice.ipynb",
      "provenance": []
    },
    "kernelspec": {
      "name": "python3",
      "display_name": "Python 3"
    },
    "language_info": {
      "name": "python"
    }
  },
  "cells": [
    {
      "cell_type": "markdown",
      "metadata": {
        "id": "1dpaUMp3Z4ug"
      },
      "source": [
        "계좌\n",
        "- 번호\n",
        "- 소유\n",
        "- 잔액(balance), 비공개\n",
        "<br><br>\n",
        "- 생성자\n",
        "- 입금(1000만 이하)\n",
        "- 출금(0미만 불가)\n",
        "- 출력 가능하게"
      ]
    },
    {
      "cell_type": "code",
      "metadata": {
        "id": "i9qlNKx-ZDWw"
      },
      "source": [
        "class Account:\n",
        "  def __init__(self, acno, own, bal):\n",
        "    self.acno = acno\n",
        "    self.own = own\n",
        "    self.__bal = bal\n",
        "\n",
        "  def __str__(self):\n",
        "    return f'num:{self.acno}, owner:{self.own}, bal:{self.__bal}'\n",
        "\n",
        "  def deposit(self,money):\n",
        "    if money + self.__bal <= 1000:\n",
        "      self.__bal += money\n",
        "    else :\n",
        "      print(\"u can't\")\n",
        "\n",
        "  def withdraw(self,money):\n",
        "    if self.__bal - money < 0:\n",
        "      print('no')\n",
        "      return\n",
        "    self.__bal -= money"
      ],
      "execution_count": 1,
      "outputs": []
    },
    {
      "cell_type": "code",
      "metadata": {
        "id": "cXOMZdcZdrDQ"
      },
      "source": [
        "mina=Account(123123,\"mina\",350)"
      ],
      "execution_count": 2,
      "outputs": []
    },
    {
      "cell_type": "code",
      "metadata": {
        "colab": {
          "base_uri": "https://localhost:8080/"
        },
        "id": "gdBW6Jiwd5TM",
        "outputId": "bda20fb1-28b6-436d-903b-f5c4a1282c98"
      },
      "source": [
        "print(mina)"
      ],
      "execution_count": 3,
      "outputs": [
        {
          "output_type": "stream",
          "text": [
            "num:123123, owner:mina, bal:350\n"
          ],
          "name": "stdout"
        }
      ]
    },
    {
      "cell_type": "code",
      "metadata": {
        "colab": {
          "base_uri": "https://localhost:8080/"
        },
        "id": "slA9McbNd68M",
        "outputId": "e8d0d6fc-0999-4587-ca6f-687203c4f563"
      },
      "source": [
        "mina.acno=124124\n",
        "mina.__bal=400\n",
        "print(mina)"
      ],
      "execution_count": 4,
      "outputs": [
        {
          "output_type": "stream",
          "text": [
            "num:124124, owner:mina, bal:350\n"
          ],
          "name": "stdout"
        }
      ]
    },
    {
      "cell_type": "code",
      "metadata": {
        "colab": {
          "base_uri": "https://localhost:8080/"
        },
        "id": "MWzL06bQeG0W",
        "outputId": "e2ed784d-212c-49f7-f3c6-5cf4e39f0132"
      },
      "source": [
        "mina.deposit(600)\n",
        "print(mina)"
      ],
      "execution_count": 5,
      "outputs": [
        {
          "output_type": "stream",
          "text": [
            "num:124124, owner:mina, bal:950\n"
          ],
          "name": "stdout"
        }
      ]
    },
    {
      "cell_type": "code",
      "metadata": {
        "colab": {
          "base_uri": "https://localhost:8080/"
        },
        "id": "JFVivKPZeMcr",
        "outputId": "c102af94-d273-4da7-827c-ac7188e7310f"
      },
      "source": [
        "mina.deposit(600)\n",
        "print(mina)"
      ],
      "execution_count": 6,
      "outputs": [
        {
          "output_type": "stream",
          "text": [
            "u can't\n",
            "num:124124, owner:mina, bal:950\n"
          ],
          "name": "stdout"
        }
      ]
    },
    {
      "cell_type": "code",
      "metadata": {
        "colab": {
          "base_uri": "https://localhost:8080/"
        },
        "id": "EgGozVlZelJ1",
        "outputId": "db856559-490e-4185-c877-d4a459046d89"
      },
      "source": [
        "mina.withdraw(800)\n",
        "print(mina)"
      ],
      "execution_count": 7,
      "outputs": [
        {
          "output_type": "stream",
          "text": [
            "num:124124, owner:mina, bal:150\n"
          ],
          "name": "stdout"
        }
      ]
    },
    {
      "cell_type": "code",
      "metadata": {
        "colab": {
          "base_uri": "https://localhost:8080/"
        },
        "id": "AopgMdMZey-X",
        "outputId": "7b1a0d05-1136-4657-9b8c-e8076abeb700"
      },
      "source": [
        "mina.withdraw(800)\n",
        "print(mina)"
      ],
      "execution_count": 8,
      "outputs": [
        {
          "output_type": "stream",
          "text": [
            "no\n",
            "num:124124, owner:mina, bal:150\n"
          ],
          "name": "stdout"
        }
      ]
    },
    {
      "cell_type": "code",
      "metadata": {
        "colab": {
          "base_uri": "https://localhost:8080/"
        },
        "id": "E8ZkgM4Ze0MN",
        "outputId": "21a4fce6-4a31-49c2-8741-f2ecf5de096d"
      },
      "source": [
        "acc2 = Account('45373','yeon',300)\n",
        "print(acc2)"
      ],
      "execution_count": 9,
      "outputs": [
        {
          "output_type": "stream",
          "text": [
            "num:45373, owner:yeon, bal:300\n"
          ],
          "name": "stdout"
        }
      ]
    },
    {
      "cell_type": "code",
      "metadata": {
        "id": "JMMJAfVufbh3"
      },
      "source": [
        "acc_list = [mina, acc2]"
      ],
      "execution_count": 10,
      "outputs": []
    },
    {
      "cell_type": "code",
      "metadata": {
        "colab": {
          "base_uri": "https://localhost:8080/"
        },
        "id": "u1zyVzF9fS8X",
        "outputId": "d06c4985-ab34-404d-8337-35a5edf2cda1"
      },
      "source": [
        "for _ in acc_list:\n",
        "  print(_)"
      ],
      "execution_count": 11,
      "outputs": [
        {
          "output_type": "stream",
          "text": [
            "num:124124, owner:mina, bal:150\n",
            "num:45373, owner:yeon, bal:300\n"
          ],
          "name": "stdout"
        }
      ]
    },
    {
      "cell_type": "markdown",
      "metadata": {
        "id": "bKvn20cjf4tY"
      },
      "source": [
        "### 1.계좌생성, 2.계과목록, 3.입금, 4.출금, 5.종료"
      ]
    },
    {
      "cell_type": "code",
      "metadata": {
        "id": "Svf_hRgSk5yn"
      },
      "source": [
        "class Acc:\n",
        "  def __init__(self, acno, own, bal):\n",
        "    self.acno = acno\n",
        "    self.own = own\n",
        "    self.__bal = bal\n",
        "\n",
        "  def __str__(self):\n",
        "    return f'num:{self.acno}, owner:{self.own}, bal:{self.__bal}'\n",
        "\n",
        "  def deposit(self,money):\n",
        "    if money + self.__bal <= 1000:\n",
        "      self.__bal += money\n",
        "    else :\n",
        "      print(\"u can't\")\n",
        "\n",
        "  def withdraw(self,money):\n",
        "    if self.__bal - money < 0:\n",
        "      print('no')\n",
        "      return\n",
        "    self.__bal -= money"
      ],
      "execution_count": 12,
      "outputs": []
    },
    {
      "cell_type": "code",
      "metadata": {
        "id": "2ffy_8DTkZm0"
      },
      "source": [
        "def create_acc():\n",
        "  s= input('계좌번호 성명 금액> ').split()\n",
        "  ano,own=s[0],s[1]\n",
        "  amou = int(s[2])\n",
        "  acc= Acc(ano,own,amou)\n",
        "  acc_list.append(acc)"
      ],
      "execution_count": 13,
      "outputs": []
    },
    {
      "cell_type": "code",
      "metadata": {
        "id": "1x5NaU57kdnT"
      },
      "source": [
        "def depo_acc():\n",
        "  s= input('계좌 금액> ').split()\n",
        "  ano, amou=s[0],int(s[1])\n",
        "  \n",
        "  for _ in acc_list:\n",
        "    if _.acno == ano:\n",
        "      _.deposit(amou)\n",
        "      return\n",
        "\n",
        "def with_acc():\n",
        "  s= input('계좌 금액> ').split()\n",
        "  ano, amou=s[0],int(s[1])\n",
        "  \n",
        "  for _ in acc_list:\n",
        "    if _.acno == ano:\n",
        "      _.withdraw(amou)\n",
        "      return"
      ],
      "execution_count": 20,
      "outputs": []
    },
    {
      "cell_type": "code",
      "metadata": {
        "colab": {
          "base_uri": "https://localhost:8080/"
        },
        "id": "wAXXVf8mfhXx",
        "outputId": "87a783ae-9894-4f37-9307-3bfffc569fcb"
      },
      "source": [
        "while True:\n",
        "  menu = int(input('1.계좌생성, 2.계과목록, 3.입금, 4.출금, 5.종료> '))\n",
        "  if menu==5:\n",
        "    break\n",
        "  if menu==1:\n",
        "    create_acc()\n",
        "  elif menu==2:\n",
        "    for _ in acc_list:\n",
        "      print(_)\n",
        "  elif menu==3:\n",
        "    depo_acc()\n",
        "  elif menu==4:\n",
        "    with_acc()\n",
        "  else:\n",
        "    print('wrong')"
      ],
      "execution_count": 21,
      "outputs": [
        {
          "output_type": "stream",
          "text": [
            "1.계좌생성, 2.계과목록, 3.입금, 4.출금, 5.종료> 2\n",
            "num:124124, owner:mina, bal:150\n",
            "num:45373, owner:yeon, bal:300\n",
            "num:2324, owner:kim, bal:900\n",
            "1.계좌생성, 2.계과목록, 3.입금, 4.출금, 5.종료> 3\n",
            "계좌 금액> 2324 50\n",
            "1.계좌생성, 2.계과목록, 3.입금, 4.출금, 5.종료> 2\n",
            "num:124124, owner:mina, bal:150\n",
            "num:45373, owner:yeon, bal:300\n",
            "num:2324, owner:kim, bal:950\n",
            "1.계좌생성, 2.계과목록, 3.입금, 4.출금, 5.종료> 3\n",
            "계좌 금액> 2324 50\n",
            "1.계좌생성, 2.계과목록, 3.입금, 4.출금, 5.종료> 2\n",
            "num:124124, owner:mina, bal:150\n",
            "num:45373, owner:yeon, bal:300\n",
            "num:2324, owner:kim, bal:1000\n",
            "1.계좌생성, 2.계과목록, 3.입금, 4.출금, 5.종료> 3\n",
            "계좌 금액> 2324 500\n",
            "u can't\n",
            "1.계좌생성, 2.계과목록, 3.입금, 4.출금, 5.종료> 4\n",
            "계좌 금액> 2324 1000\n",
            "1.계좌생성, 2.계과목록, 3.입금, 4.출금, 5.종료> 2\n",
            "num:124124, owner:mina, bal:150\n",
            "num:45373, owner:yeon, bal:300\n",
            "num:2324, owner:kim, bal:0\n",
            "1.계좌생성, 2.계과목록, 3.입금, 4.출금, 5.종료> 4\n",
            "계좌 금액> 2324 10\n",
            "no\n",
            "1.계좌생성, 2.계과목록, 3.입금, 4.출금, 5.종료> 3\n",
            "계좌 금액> 3344 599\n",
            "1.계좌생성, 2.계과목록, 3.입금, 4.출금, 5.종료> 2\n",
            "num:124124, owner:mina, bal:150\n",
            "num:45373, owner:yeon, bal:300\n",
            "num:2324, owner:kim, bal:0\n",
            "1.계좌생성, 2.계과목록, 3.입금, 4.출금, 5.종료> 5\n"
          ],
          "name": "stdout"
        }
      ]
    },
    {
      "cell_type": "code",
      "metadata": {
        "id": "eIq9YSgWkC9E"
      },
      "source": [
        ""
      ],
      "execution_count": null,
      "outputs": []
    }
  ]
}