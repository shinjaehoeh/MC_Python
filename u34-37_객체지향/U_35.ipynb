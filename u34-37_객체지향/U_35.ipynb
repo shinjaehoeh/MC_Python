{
  "nbformat": 4,
  "nbformat_minor": 0,
  "metadata": {
    "colab": {
      "name": "U_35.ipynb",
      "provenance": [],
      "collapsed_sections": []
    },
    "kernelspec": {
      "name": "python3",
      "display_name": "Python 3"
    },
    "language_info": {
      "name": "python"
    }
  },
  "cells": [
    {
      "cell_type": "markdown",
      "metadata": {
        "id": "0ldHZYLaA80P"
      },
      "source": [
        "# U 35. 정적 메서드"
      ]
    },
    {
      "cell_type": "code",
      "metadata": {
        "id": "FwDn1MGUA6Gp"
      },
      "source": [
        "class Calc:\n",
        "  @staticmethod\n",
        "  def add(a,b):\n",
        "    print(a+b)"
      ],
      "execution_count": 3,
      "outputs": []
    },
    {
      "cell_type": "code",
      "metadata": {
        "colab": {
          "base_uri": "https://localhost:8080/"
        },
        "id": "9Sra_iCHBb40",
        "outputId": "113d4fe1-dcc8-4fd5-bbd3-393c0ffc46c1"
      },
      "source": [
        "Calc.add(10,20)"
      ],
      "execution_count": 4,
      "outputs": [
        {
          "output_type": "stream",
          "text": [
            "30\n"
          ],
          "name": "stdout"
        }
      ]
    },
    {
      "cell_type": "code",
      "metadata": {
        "id": "skiqnA4EBdvL"
      },
      "source": [
        "# Calc().add(10,20) -> Calc.add(10,20) 이런 느낌?"
      ],
      "execution_count": null,
      "outputs": []
    }
  ]
}