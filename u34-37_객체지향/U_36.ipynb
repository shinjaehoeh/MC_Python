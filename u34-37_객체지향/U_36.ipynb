{
  "nbformat": 4,
  "nbformat_minor": 0,
  "metadata": {
    "colab": {
      "name": "U_36.ipynb",
      "provenance": [],
      "collapsed_sections": []
    },
    "kernelspec": {
      "name": "python3",
      "display_name": "Python 3"
    },
    "language_info": {
      "name": "python"
    }
  },
  "cells": [
    {
      "cell_type": "markdown",
      "metadata": {
        "id": "a0lEVfdZv-2J"
      },
      "source": [
        "# U 36. 상속(Inheritance)"
      ]
    },
    {
      "cell_type": "markdown",
      "metadata": {
        "id": "3RryYzZf_-1S"
      },
      "source": [
        "## 36.1 기본상속"
      ]
    },
    {
      "cell_type": "code",
      "metadata": {
        "id": "NnRbBDBGv8XN"
      },
      "source": [
        "class Person:\n",
        "  def greeting(self):\n",
        "    print('hi')\n",
        "\n",
        "class Student(Person):\n",
        "  def study(self):\n",
        "    print('studying')"
      ],
      "execution_count": 1,
      "outputs": []
    },
    {
      "cell_type": "code",
      "metadata": {
        "colab": {
          "base_uri": "https://localhost:8080/"
        },
        "id": "LJyzi6V_yfMC",
        "outputId": "3bdef5e3-f72b-4f43-a853-f99e35ae5361"
      },
      "source": [
        "james=Student()\n",
        "james.greeting()\n",
        "james.study()"
      ],
      "execution_count": 2,
      "outputs": [
        {
          "output_type": "stream",
          "text": [
            "hi\n",
            "studying\n"
          ],
          "name": "stdout"
        }
      ]
    },
    {
      "cell_type": "markdown",
      "metadata": {
        "id": "aXKV4aUczq7U"
      },
      "source": [
        "## 36.3 기반 클래스의 속성 사용하기"
      ]
    },
    {
      "cell_type": "code",
      "metadata": {
        "id": "KJhwTWGryoce"
      },
      "source": [
        "class Person:\n",
        "  def __init__(self):\n",
        "    self.hello = 'hihi'\n",
        "    print('Person.__init__')\n",
        "\n",
        "class Student(Person):\n",
        "  def __init__(self):\n",
        "    self.school = 'python'\n",
        "    print(\"Student.__init__\")"
      ],
      "execution_count": 3,
      "outputs": []
    },
    {
      "cell_type": "code",
      "metadata": {
        "colab": {
          "base_uri": "https://localhost:8080/",
          "height": 54
        },
        "id": "C6Ne57ZP0THz",
        "outputId": "d6a2889f-6fab-402b-f384-8a76d3484329"
      },
      "source": [
        "james=Student()\n",
        "james.school"
      ],
      "execution_count": 6,
      "outputs": [
        {
          "output_type": "stream",
          "text": [
            "Student.__init__\n"
          ],
          "name": "stdout"
        },
        {
          "output_type": "execute_result",
          "data": {
            "application/vnd.google.colaboratory.intrinsic+json": {
              "type": "string"
            },
            "text/plain": [
              "'python'"
            ]
          },
          "metadata": {
            "tags": []
          },
          "execution_count": 6
        }
      ]
    },
    {
      "cell_type": "code",
      "metadata": {
        "colab": {
          "base_uri": "https://localhost:8080/",
          "height": 174
        },
        "id": "X8CrG6VV0YWd",
        "outputId": "aa79d60e-95df-4f13-90c3-7bf6247fac15"
      },
      "source": [
        "james.hello"
      ],
      "execution_count": 8,
      "outputs": [
        {
          "output_type": "error",
          "ename": "AttributeError",
          "evalue": "ignored",
          "traceback": [
            "\u001b[0;31m---------------------------------------------------------------------------\u001b[0m",
            "\u001b[0;31mAttributeError\u001b[0m                            Traceback (most recent call last)",
            "\u001b[0;32m<ipython-input-8-da95e56173fd>\u001b[0m in \u001b[0;36m<module>\u001b[0;34m()\u001b[0m\n\u001b[0;32m----> 1\u001b[0;31m \u001b[0mjames\u001b[0m\u001b[0;34m.\u001b[0m\u001b[0mhello\u001b[0m\u001b[0;34m\u001b[0m\u001b[0;34m\u001b[0m\u001b[0m\n\u001b[0m",
            "\u001b[0;31mAttributeError\u001b[0m: 'Student' object has no attribute 'hello'"
          ]
        }
      ]
    },
    {
      "cell_type": "markdown",
      "metadata": {
        "id": "r1W1oPON01Rj"
      },
      "source": [
        "### super()로 기반 클래스 초기화"
      ]
    },
    {
      "cell_type": "code",
      "metadata": {
        "id": "wwQuti3W0dq-"
      },
      "source": [
        "class Person:\n",
        "  def __init__(self):\n",
        "    self.hello = 'hihi'\n",
        "    print('Person.__init__')\n",
        "\n",
        "class Student(Person):\n",
        "  def __init__(self):\n",
        "    super().__init__()\n",
        "    self.school = 'python'\n",
        "    print(\"Student.__init__\")"
      ],
      "execution_count": 9,
      "outputs": []
    },
    {
      "cell_type": "code",
      "metadata": {
        "colab": {
          "base_uri": "https://localhost:8080/",
          "height": 72
        },
        "id": "NjA5k08h07nC",
        "outputId": "c9f8f7c7-c56f-4a2a-f3b3-0a5d43207966"
      },
      "source": [
        "james=Student()\n",
        "james.school\n",
        "james.hello"
      ],
      "execution_count": 10,
      "outputs": [
        {
          "output_type": "stream",
          "text": [
            "Person.__init__\n",
            "Student.__init__\n"
          ],
          "name": "stdout"
        },
        {
          "output_type": "execute_result",
          "data": {
            "application/vnd.google.colaboratory.intrinsic+json": {
              "type": "string"
            },
            "text/plain": [
              "'hihi'"
            ]
          },
          "metadata": {
            "tags": []
          },
          "execution_count": 10
        }
      ]
    },
    {
      "cell_type": "code",
      "metadata": {
        "id": "tsPv0IJ4098h"
      },
      "source": [
        "class Person:\n",
        "  def __init__(self):\n",
        "    self.hello = 'hihi'\n",
        "    print('Person.__init__')\n",
        "\n",
        "class Student(Person):\n",
        "  pass"
      ],
      "execution_count": 11,
      "outputs": []
    },
    {
      "cell_type": "code",
      "metadata": {
        "colab": {
          "base_uri": "https://localhost:8080/",
          "height": 54
        },
        "id": "Ncs5fnEl12K2",
        "outputId": "39e29bc5-486c-42b6-e7c3-d89cd2f976fd"
      },
      "source": [
        "maria= Student()\n",
        "maria.hello"
      ],
      "execution_count": 12,
      "outputs": [
        {
          "output_type": "stream",
          "text": [
            "Person.__init__\n"
          ],
          "name": "stdout"
        },
        {
          "output_type": "execute_result",
          "data": {
            "application/vnd.google.colaboratory.intrinsic+json": {
              "type": "string"
            },
            "text/plain": [
              "'hihi'"
            ]
          },
          "metadata": {
            "tags": []
          },
          "execution_count": 12
        }
      ]
    },
    {
      "cell_type": "markdown",
      "metadata": {
        "id": "_U2Bzec916mT"
      },
      "source": [
        "## 36.4 Method Overriding"
      ]
    },
    {
      "cell_type": "code",
      "metadata": {
        "id": "GNyvCxCL15hr"
      },
      "source": [
        "class Person:\n",
        "  def greeting(self):\n",
        "    print('hi?')\n",
        "\n",
        "class Student(Person):\n",
        "  def greeting(self):\n",
        "    print('hi im stu~')"
      ],
      "execution_count": 15,
      "outputs": []
    },
    {
      "cell_type": "code",
      "metadata": {
        "colab": {
          "base_uri": "https://localhost:8080/"
        },
        "id": "Dr39_m-g2v98",
        "outputId": "c9fc8879-0b00-46db-8933-288a4308ac3c"
      },
      "source": [
        "james=Student()\n",
        "james.greeting()"
      ],
      "execution_count": 17,
      "outputs": [
        {
          "output_type": "stream",
          "text": [
            "hi im stu~\n"
          ],
          "name": "stdout"
        }
      ]
    },
    {
      "cell_type": "code",
      "metadata": {
        "id": "zCG2pVHt2xj8"
      },
      "source": [
        "class Person:\n",
        "  def greeting(self):\n",
        "    print('hi?')\n",
        "\n",
        "class Student(Person):\n",
        "  def greeting(self):\n",
        "    super().greeting()\n",
        "    print('hi im stu~')"
      ],
      "execution_count": 18,
      "outputs": []
    },
    {
      "cell_type": "code",
      "metadata": {
        "colab": {
          "base_uri": "https://localhost:8080/"
        },
        "id": "yj_I4gna34uz",
        "outputId": "559178fc-b765-468c-c17b-db427033a1e2"
      },
      "source": [
        "maria= Student()\n",
        "maria.greeting()"
      ],
      "execution_count": 19,
      "outputs": [
        {
          "output_type": "stream",
          "text": [
            "hi?\n",
            "hi im stu~\n"
          ],
          "name": "stdout"
        }
      ]
    },
    {
      "cell_type": "markdown",
      "metadata": {
        "id": "ttqI_oWv6L4j"
      },
      "source": [
        "## 36.3 추상 클래스 - Interface"
      ]
    },
    {
      "cell_type": "code",
      "metadata": {
        "id": "AJ34FIQZ3-Jl"
      },
      "source": [
        "from abc import *\n",
        "\n",
        "class StudentBase(metaclass=ABCMeta):\n",
        "  @abstractmethod     # decorator\n",
        "  def study(self):\n",
        "    pass\n",
        "\n",
        "  @abstractmethod\n",
        "  def go_to_school(self):\n",
        "    pass"
      ],
      "execution_count": 22,
      "outputs": []
    },
    {
      "cell_type": "code",
      "metadata": {
        "id": "-jzeMEfV-6Dk"
      },
      "source": [
        "class Student(StudentBase):\n",
        "  def study(self):\n",
        "    print('공부하기')"
      ],
      "execution_count": 23,
      "outputs": []
    },
    {
      "cell_type": "code",
      "metadata": {
        "colab": {
          "base_uri": "https://localhost:8080/",
          "height": 192
        },
        "id": "iMBkxzbj_HwW",
        "outputId": "db19a475-7d5c-4c4c-caff-baf8e3997cf9"
      },
      "source": [
        "james = Student()\n",
        "james.study()"
      ],
      "execution_count": 24,
      "outputs": [
        {
          "output_type": "error",
          "ename": "TypeError",
          "evalue": "ignored",
          "traceback": [
            "\u001b[0;31m---------------------------------------------------------------------------\u001b[0m",
            "\u001b[0;31mTypeError\u001b[0m                                 Traceback (most recent call last)",
            "\u001b[0;32m<ipython-input-24-5f2e5861623e>\u001b[0m in \u001b[0;36m<module>\u001b[0;34m()\u001b[0m\n\u001b[0;32m----> 1\u001b[0;31m \u001b[0mjames\u001b[0m \u001b[0;34m=\u001b[0m \u001b[0mStudent\u001b[0m\u001b[0;34m(\u001b[0m\u001b[0;34m)\u001b[0m\u001b[0;34m\u001b[0m\u001b[0;34m\u001b[0m\u001b[0m\n\u001b[0m\u001b[1;32m      2\u001b[0m \u001b[0mjames\u001b[0m\u001b[0;34m.\u001b[0m\u001b[0mstudy\u001b[0m\u001b[0;34m(\u001b[0m\u001b[0;34m)\u001b[0m\u001b[0;34m\u001b[0m\u001b[0;34m\u001b[0m\u001b[0m\n",
            "\u001b[0;31mTypeError\u001b[0m: Can't instantiate abstract class Student with abstract methods go_to_school"
          ]
        }
      ]
    },
    {
      "cell_type": "code",
      "metadata": {
        "id": "QJwFrG9V_NSN"
      },
      "source": [
        "class Student(StudentBase):\n",
        "  def study(self):\n",
        "    print('공부하기')\n",
        "  def go_to_school(self):\n",
        "    print('학교가기')"
      ],
      "execution_count": 25,
      "outputs": []
    },
    {
      "cell_type": "code",
      "metadata": {
        "colab": {
          "base_uri": "https://localhost:8080/"
        },
        "id": "19MqFXYY_e_v",
        "outputId": "1cc1e96c-14b1-4247-dff4-88e1e61c0108"
      },
      "source": [
        "james = Student()\n",
        "james.study()"
      ],
      "execution_count": 26,
      "outputs": [
        {
          "output_type": "stream",
          "text": [
            "공부하기\n"
          ],
          "name": "stdout"
        }
      ]
    },
    {
      "cell_type": "code",
      "metadata": {
        "id": "qtjwKoJ__gcA"
      },
      "source": [
        ""
      ],
      "execution_count": null,
      "outputs": []
    }
  ]
}