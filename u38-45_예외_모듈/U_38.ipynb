{
  "nbformat": 4,
  "nbformat_minor": 0,
  "metadata": {
    "colab": {
      "name": "U_38.ipynb",
      "provenance": []
    },
    "kernelspec": {
      "name": "python3",
      "display_name": "Python 3"
    },
    "language_info": {
      "name": "python"
    }
  },
  "cells": [
    {
      "cell_type": "markdown",
      "metadata": {
        "id": "7yO6MiDMo3F4"
      },
      "source": [
        "# U 38. 예외처리"
      ]
    },
    {
      "cell_type": "markdown",
      "metadata": {
        "id": "W9o4MeSitGsX"
      },
      "source": [
        "## 38.1 try except"
      ]
    },
    {
      "cell_type": "code",
      "metadata": {
        "colab": {
          "base_uri": "https://localhost:8080/"
        },
        "id": "LzIUrpaYoSS0",
        "outputId": "1d8aac61-7b3d-4183-8af2-e3d3d57f57d7"
      },
      "source": [
        "a=[1,2,3]\n",
        "try:\n",
        "  a[4]\n",
        "except:\n",
        "  print(\"예외발생\")"
      ],
      "execution_count": 2,
      "outputs": [
        {
          "output_type": "stream",
          "text": [
            "예외발생\n"
          ],
          "name": "stdout"
        }
      ]
    },
    {
      "cell_type": "markdown",
      "metadata": {
        "id": "abPwpRdMwmQh"
      },
      "source": [
        "### 특정 예외만 처리하기"
      ]
    },
    {
      "cell_type": "code",
      "metadata": {
        "colab": {
          "base_uri": "https://localhost:8080/"
        },
        "id": "0wQfCcv7tZJ1",
        "outputId": "8271d1fd-825b-4202-d359-a49aef9eaf95"
      },
      "source": [
        "try:\n",
        "  int('10d')\n",
        "except ZeroDivisionError:\n",
        "  print('no 0')\n",
        "except IndexError:\n",
        "  print('index E')\n",
        "except ValueError:\n",
        "  print('value E')"
      ],
      "execution_count": 3,
      "outputs": [
        {
          "output_type": "stream",
          "text": [
            "value E\n"
          ],
          "name": "stdout"
        }
      ]
    },
    {
      "cell_type": "markdown",
      "metadata": {
        "id": "kfAq-_PQw8N1"
      },
      "source": [
        "### 예외의 에러 메시지 받아오기"
      ]
    },
    {
      "cell_type": "code",
      "metadata": {
        "colab": {
          "base_uri": "https://localhost:8080/"
        },
        "id": "PQBQkzGjwqe8",
        "outputId": "abd41135-7989-4673-c8c2-1f8d165818db"
      },
      "source": [
        "try:\n",
        "  int('10d')\n",
        "except Exception as e:      # alias\n",
        "  print(e)                  # Exception 객체의 __str__() method"
      ],
      "execution_count": 4,
      "outputs": [
        {
          "output_type": "stream",
          "text": [
            "invalid literal for int() with base 10: '10d'\n"
          ],
          "name": "stdout"
        }
      ]
    },
    {
      "cell_type": "markdown",
      "metadata": {
        "id": "AiHPduRnxzTL"
      },
      "source": [
        "## 38.2 else-finally"
      ]
    },
    {
      "cell_type": "code",
      "metadata": {
        "colab": {
          "base_uri": "https://localhost:8080/"
        },
        "id": "JA9YwWy7xMku",
        "outputId": "297f2783-ef80-40fb-a648-430de282af29"
      },
      "source": [
        "try:\n",
        "  x= int(input('나눌 숫자 입력> '))\n",
        "  y= 10/x\n",
        "except Exception as e:\n",
        "  print(e)\n",
        "else:\n",
        "  print(y)"
      ],
      "execution_count": 7,
      "outputs": [
        {
          "output_type": "stream",
          "text": [
            "나눌 숫자 입력> 2\n",
            "5.0\n"
          ],
          "name": "stdout"
        }
      ]
    },
    {
      "cell_type": "code",
      "metadata": {
        "colab": {
          "base_uri": "https://localhost:8080/"
        },
        "id": "H_tYmw9H2DLP",
        "outputId": "93a32551-54b0-4841-f587-dacb590acbf3"
      },
      "source": [
        "# 예외와 상관없이 항상 실행\n",
        "try:\n",
        "  x= int(input('나눌 숫자 입력> '))\n",
        "  y= 10/x\n",
        "except Exception as e:\n",
        "  print(e)\n",
        "else:\n",
        "  print(y)\n",
        "finally:\n",
        "  print('end of cord')"
      ],
      "execution_count": 9,
      "outputs": [
        {
          "output_type": "stream",
          "text": [
            "나눌 숫자 입력> 4\n",
            "2.5\n",
            "end of cord\n"
          ],
          "name": "stdout"
        }
      ]
    },
    {
      "cell_type": "markdown",
      "metadata": {
        "id": "lyiQh0LX3aMV"
      },
      "source": [
        "## 38.3 예외 발생시키기"
      ]
    },
    {
      "cell_type": "code",
      "metadata": {
        "colab": {
          "base_uri": "https://localhost:8080/"
        },
        "id": "8wWiFSrR2zFS",
        "outputId": "720d6b55-66b6-4fd9-967a-2d6a1840242e"
      },
      "source": [
        "import random\n",
        "try:\n",
        "  x= random.randint(1,10)\n",
        "  if x%3 != 0:\n",
        "    raise Exception('3의 배수가 아닙니다.')\n",
        "  print(x)\n",
        "except Exception as e:\n",
        "  print('예외 발생',e)"
      ],
      "execution_count": 18,
      "outputs": [
        {
          "output_type": "stream",
          "text": [
            "6\n"
          ],
          "name": "stdout"
        }
      ]
    },
    {
      "cell_type": "code",
      "metadata": {
        "id": "jkNYkAdi5VIh"
      },
      "source": [
        "def multiple11(x):\n",
        "  if x %11 !=0:\n",
        "    raise Exception('11의 배수가 아닙니다.')\n",
        "  print(x)"
      ],
      "execution_count": 19,
      "outputs": []
    },
    {
      "cell_type": "code",
      "metadata": {
        "colab": {
          "base_uri": "https://localhost:8080/"
        },
        "id": "h2EO_ZuD6de-",
        "outputId": "4f4a0991-26dd-4f09-da32-210fb1f3a6be"
      },
      "source": [
        "try:\n",
        "  multiple11(100)\n",
        "except Exception as e:\n",
        "  print('예외 발생',e)"
      ],
      "execution_count": 20,
      "outputs": [
        {
          "output_type": "stream",
          "text": [
            "예외 발생 11의 배수가 아닙니다.\n"
          ],
          "name": "stdout"
        }
      ]
    },
    {
      "cell_type": "markdown",
      "metadata": {
        "id": "Jx2cZBJB78U1"
      },
      "source": [
        "## 38.4 예외 만들기"
      ]
    },
    {
      "cell_type": "code",
      "metadata": {
        "id": "yp6GjSDP7Bu3"
      },
      "source": [
        "# Exception 객체를 상속받아 객체를 만들면 됨"
      ],
      "execution_count": 20,
      "outputs": []
    }
  ]
}