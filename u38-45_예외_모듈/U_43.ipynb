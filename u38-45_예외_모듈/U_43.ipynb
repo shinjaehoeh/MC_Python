{
  "nbformat": 4,
  "nbformat_minor": 0,
  "metadata": {
    "colab": {
      "name": "U_43.ipynb",
      "provenance": [],
      "collapsed_sections": []
    },
    "kernelspec": {
      "name": "python3",
      "display_name": "Python 3"
    },
    "language_info": {
      "name": "python"
    }
  },
  "cells": [
    {
      "cell_type": "markdown",
      "metadata": {
        "id": "hsrzRgIc-9kZ"
      },
      "source": [
        "# U 43. 정규 표현식"
      ]
    },
    {
      "cell_type": "markdown",
      "metadata": {
        "id": "GdFI-BBD_FeK"
      },
      "source": [
        "### 문자열 판단"
      ]
    },
    {
      "cell_type": "code",
      "metadata": {
        "colab": {
          "base_uri": "https://localhost:8080/"
        },
        "id": "NoNKtOUu-6-k",
        "outputId": "bc0a1810-50f8-46a8-d0bb-9d546b5fdbe5"
      },
      "source": [
        "import re\n",
        "re.match('Hello','Hello, World')    # 패턴, 문자열"
      ],
      "execution_count": 2,
      "outputs": [
        {
          "output_type": "execute_result",
          "data": {
            "text/plain": [
              "<re.Match object; span=(0, 5), match='Hello'>"
            ]
          },
          "metadata": {
            "tags": []
          },
          "execution_count": 2
        }
      ]
    },
    {
      "cell_type": "code",
      "metadata": {
        "colab": {
          "base_uri": "https://localhost:8080/"
        },
        "id": "jPtjd7ka_pXn",
        "outputId": "bf9180ef-8dab-49f1-c0ce-439884620fdb"
      },
      "source": [
        "z= re.match('Hello','Hello, World')\n",
        "\n",
        "if z :\n",
        "  print('found')\n",
        "else :\n",
        "  print('not')"
      ],
      "execution_count": 3,
      "outputs": [
        {
          "output_type": "stream",
          "text": [
            "found\n"
          ],
          "name": "stdout"
        }
      ]
    },
    {
      "cell_type": "code",
      "metadata": {
        "colab": {
          "base_uri": "https://localhost:8080/"
        },
        "id": "36PKAqYzYnJt",
        "outputId": "3f323907-6930-48b6-d5a3-4e5284fd0308"
      },
      "source": [
        "# match()는 문장의 처음에서 찾음\n",
        "z= re.match('World','Hello, World')\n",
        "\n",
        "if z :\n",
        "  print('found')\n",
        "else :\n",
        "  print('not')"
      ],
      "execution_count": 4,
      "outputs": [
        {
          "output_type": "stream",
          "text": [
            "not\n"
          ],
          "name": "stdout"
        }
      ]
    },
    {
      "cell_type": "code",
      "metadata": {
        "colab": {
          "base_uri": "https://localhost:8080/"
        },
        "id": "UKVRhjBjY2Qk",
        "outputId": "3d02d5e7-3f32-4c09-97dd-fd89552cd286"
      },
      "source": [
        "# search()는 모든 문장에서 찾음\n",
        "z= re.search('World','Hello, World')\n",
        "\n",
        "if z :\n",
        "  print('found')\n",
        "else :\n",
        "  print('not')"
      ],
      "execution_count": 5,
      "outputs": [
        {
          "output_type": "stream",
          "text": [
            "found\n"
          ],
          "name": "stdout"
        }
      ]
    },
    {
      "cell_type": "markdown",
      "metadata": {
        "id": "d39MPkwhZREk"
      },
      "source": [
        "## 43.2 범위 판단"
      ]
    },
    {
      "cell_type": "code",
      "metadata": {
        "colab": {
          "base_uri": "https://localhost:8080/"
        },
        "id": "G5HlHbOyY8Nt",
        "outputId": "c9454ce1-2794-4eac-f251-2f0d535e0180"
      },
      "source": [
        "# 휴대전화 번호형식\n",
        "pattern = '01[0-9]-[0-9]{4}-[0-9]{4}'\n",
        "text = '010-1234-5678'\n",
        "if re.match(pattern, text):\n",
        "  print('right')\n",
        "else:\n",
        "  print('wrong')"
      ],
      "execution_count": 7,
      "outputs": [
        {
          "output_type": "stream",
          "text": [
            "right\n"
          ],
          "name": "stdout"
        }
      ]
    },
    {
      "cell_type": "code",
      "metadata": {
        "colab": {
          "base_uri": "https://localhost:8080/"
        },
        "id": "v2V0WyE3aZnt",
        "outputId": "f13bcfa9-745f-47c5-9106-c38632a5d237"
      },
      "source": [
        "# 휴대전화 번호형식\n",
        "pattern = '01[0-9]-[0-9]{4}-[0-9]{4}'\n",
        "text = '020-1234-5678'\n",
        "if re.match(pattern, text):\n",
        "  print('right')\n",
        "else:\n",
        "  print('wrong')"
      ],
      "execution_count": 8,
      "outputs": [
        {
          "output_type": "stream",
          "text": [
            "wrong\n"
          ],
          "name": "stdout"
        }
      ]
    },
    {
      "cell_type": "code",
      "metadata": {
        "colab": {
          "base_uri": "https://localhost:8080/"
        },
        "id": "f3bh82GgalFi",
        "outputId": "4725a8ff-d51c-470d-bf45-9f1e157d6334"
      },
      "source": [
        "# 한글 패턴\n",
        "hangle = '[ㄱ-ㅎㅏ-ㅣ가-힣]+'\n",
        "text = '홍길동'\n",
        "if re.search(hangle, text):\n",
        "  print('exist')\n",
        "else:\n",
        "  print('nope')"
      ],
      "execution_count": 10,
      "outputs": [
        {
          "output_type": "stream",
          "text": [
            "exist\n"
          ],
          "name": "stdout"
        }
      ]
    },
    {
      "cell_type": "markdown",
      "metadata": {
        "id": "ImMcZ5I3cOPy"
      },
      "source": [
        "## 43.4 문자열 바꾸기"
      ]
    },
    {
      "cell_type": "code",
      "metadata": {
        "colab": {
          "base_uri": "https://localhost:8080/",
          "height": 35
        },
        "id": "UR4SYOoIbqxL",
        "outputId": "0cb6cc27-22a1-4051-c46f-fe87993d5209"
      },
      "source": [
        "# re.sub('패턴','바꿀문자열','문자열','바꿀횟수')\n",
        "\n",
        "re.sub('apple|orange','fruit','apple box orange tree')"
      ],
      "execution_count": 11,
      "outputs": [
        {
          "output_type": "execute_result",
          "data": {
            "application/vnd.google.colaboratory.intrinsic+json": {
              "type": "string"
            },
            "text/plain": [
              "'fruit box fruit tree'"
            ]
          },
          "metadata": {
            "tags": []
          },
          "execution_count": 11
        }
      ]
    },
    {
      "cell_type": "code",
      "metadata": {
        "colab": {
          "base_uri": "https://localhost:8080/",
          "height": 35
        },
        "id": "xArJDAvzdAM5",
        "outputId": "86fb76ba-52b5-4b72-e203-20131016e19b"
      },
      "source": [
        "re.sub('[0-9]+','n','1 2 Fizz 4 Buzz Fizz 7 8 Fizz Buzz 11 12')"
      ],
      "execution_count": 12,
      "outputs": [
        {
          "output_type": "execute_result",
          "data": {
            "application/vnd.google.colaboratory.intrinsic+json": {
              "type": "string"
            },
            "text/plain": [
              "'n n Fizz n Buzz Fizz n n Fizz Buzz n n'"
            ]
          },
          "metadata": {
            "tags": []
          },
          "execution_count": 12
        }
      ]
    },
    {
      "cell_type": "code",
      "metadata": {
        "colab": {
          "base_uri": "https://localhost:8080/",
          "height": 35
        },
        "id": "9-qWHHyFdijq",
        "outputId": "8c2de961-019b-4b1b-8c6c-b4d003053ae3"
      },
      "source": [
        "re.sub('[0-9]','n','1 2 Fizz 4 Buzz Fizz 7 8 Fizz Buzz 11 12')"
      ],
      "execution_count": 13,
      "outputs": [
        {
          "output_type": "execute_result",
          "data": {
            "application/vnd.google.colaboratory.intrinsic+json": {
              "type": "string"
            },
            "text/plain": [
              "'n n Fizz n Buzz Fizz n n Fizz Buzz nn nn'"
            ]
          },
          "metadata": {
            "tags": []
          },
          "execution_count": 13
        }
      ]
    },
    {
      "cell_type": "code",
      "metadata": {
        "id": "5a-BV8bfdkDF"
      },
      "source": [
        "text = '''\n",
        "가장 단순한 형태의 원자는 리터럴(literal)이지만 원자를 일치시키기 위해 패턴을 \n",
        "묶을 때에는 메타문자로서 ( )를 사용해야 한다. 메타문자는 원자 외에도 얼마나 많은 \n",
        "원자가 있는지를 가리키는 수량자(quantifier), 선택적인 대안을 가리키는 논리적 OR 문자, \n",
        "그리고 원자의 존재를 부정하는 NOT 문자, 그리고 전에 일치된 원자를 참조할 수 있게 하는 \n",
        "역참조(backreference)를 만드는 것을 도와준다.\n",
        "'''"
      ],
      "execution_count": 32,
      "outputs": []
    },
    {
      "cell_type": "code",
      "metadata": {
        "id": "Uljq0G1GFYyG"
      },
      "source": [
        "not_hangul = '[^ㄱ-ㅎㅏ-ㅣ가-힣 ]'\n",
        "text=re.sub(not_hangul,'',text)"
      ],
      "execution_count": 33,
      "outputs": []
    },
    {
      "cell_type": "code",
      "metadata": {
        "colab": {
          "base_uri": "https://localhost:8080/",
          "height": 72
        },
        "id": "pdlvy23UGQmn",
        "outputId": "a42d331b-2ab5-4d60-e5a0-7d6356d5c8bc"
      },
      "source": [
        "text"
      ],
      "execution_count": 34,
      "outputs": [
        {
          "output_type": "execute_result",
          "data": {
            "application/vnd.google.colaboratory.intrinsic+json": {
              "type": "string"
            },
            "text/plain": [
              "'가장 단순한 형태의 원자는 리터럴이지만 원자를 일치시키기 위해 패턴을 묶을 때에는 메타문자로서  를 사용해야 한다 메타문자는 원자 외에도 얼마나 많은 원자가 있는지를 가리키는 수량자 선택적인 대안을 가리키는 논리적  문자 그리고 원자의 존재를 부정하는  문자 그리고 전에 일치된 원자를 참조할 수 있게 하는 역참조를 만드는 것을 도와준다'"
            ]
          },
          "metadata": {
            "tags": []
          },
          "execution_count": 34
        }
      ]
    },
    {
      "cell_type": "code",
      "metadata": {
        "colab": {
          "base_uri": "https://localhost:8080/",
          "height": 35
        },
        "id": "qphOcY4tLcIM",
        "outputId": "955a01a1-45e4-4d86-aa3d-02fbe6380418"
      },
      "source": [
        "text = '에밀리블런트 사랑해,, 사람스러움의 끝ㅠㅠ 4DX로 보면 더 재밌을 듯'\n",
        "text = re.sub(not_hangul, '', text)\n",
        "text"
      ],
      "execution_count": 35,
      "outputs": [
        {
          "output_type": "execute_result",
          "data": {
            "application/vnd.google.colaboratory.intrinsic+json": {
              "type": "string"
            },
            "text/plain": [
              "'에밀리블런트 사랑해 사람스러움의 끝ㅠㅠ 로 보면 더 재밌을 듯'"
            ]
          },
          "metadata": {
            "tags": []
          },
          "execution_count": 35
        }
      ]
    },
    {
      "cell_type": "code",
      "metadata": {
        "id": "ObD1KGNlL-m1"
      },
      "source": [
        ""
      ],
      "execution_count": null,
      "outputs": []
    }
  ]
}