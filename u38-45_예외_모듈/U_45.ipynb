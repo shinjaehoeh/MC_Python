{
  "nbformat": 4,
  "nbformat_minor": 0,
  "metadata": {
    "colab": {
      "name": "U_45.ipynb",
      "provenance": []
    },
    "kernelspec": {
      "name": "python3",
      "display_name": "Python 3"
    },
    "language_info": {
      "name": "python"
    }
  },
  "cells": [
    {
      "cell_type": "markdown",
      "metadata": {
        "id": "4w1tqmW0sPBk"
      },
      "source": [
        "# U 45. 모듈 만들기"
      ]
    },
    {
      "cell_type": "markdown",
      "metadata": {
        "id": "DsEtKs01vq7A"
      },
      "source": [
        "### 함수와 변수"
      ]
    },
    {
      "cell_type": "code",
      "metadata": {
        "colab": {
          "base_uri": "https://localhost:8080/"
        },
        "id": "R_LeQbrysM4b",
        "outputId": "8a1ed8c9-473b-471b-c287-c7a9c846b88a"
      },
      "source": [
        "import u_45_square2 as sq\n",
        "\n",
        "print(sq.base)\n",
        "print(sq.square(10))"
      ],
      "execution_count": 1,
      "outputs": [
        {
          "output_type": "stream",
          "text": [
            "2\n",
            "1024\n"
          ],
          "name": "stdout"
        }
      ]
    },
    {
      "cell_type": "code",
      "metadata": {
        "colab": {
          "base_uri": "https://localhost:8080/"
        },
        "id": "07hN_DTdtLq0",
        "outputId": "a45a8162-b2f5-477e-b152-4c7afbf4d42b"
      },
      "source": [
        "!ls -l"
      ],
      "execution_count": 2,
      "outputs": [
        {
          "output_type": "stream",
          "text": [
            "total 16\n",
            "drwxr-xr-x 2 root root 4096 Aug  5 05:47 __pycache__\n",
            "drwxr-xr-x 1 root root 4096 Jul 16 13:20 sample_data\n",
            "-rw-r--r-- 1 root root  210 Aug  5 05:26 u_45_person.py\n",
            "-rw-r--r-- 1 root root  118 Aug  5 05:47 u_45_square2.py\n"
          ],
          "name": "stdout"
        }
      ]
    },
    {
      "cell_type": "code",
      "metadata": {
        "colab": {
          "base_uri": "https://localhost:8080/"
        },
        "id": "L3w_77yWuK2J",
        "outputId": "e8c4e2a7-b487-4127-ffd6-5f7532141a13"
      },
      "source": [
        "!ls -l __pycache__"
      ],
      "execution_count": 3,
      "outputs": [
        {
          "output_type": "stream",
          "text": [
            "total 4\n",
            "-rw-r--r-- 1 root root 292 Aug  5 05:47 u_45_square2.cpython-37.pyc\n"
          ],
          "name": "stdout"
        }
      ]
    },
    {
      "cell_type": "markdown",
      "metadata": {
        "id": "rqtCxJ45vtk_"
      },
      "source": [
        "### 클래스"
      ]
    },
    {
      "cell_type": "code",
      "metadata": {
        "colab": {
          "base_uri": "https://localhost:8080/"
        },
        "id": "t0pfAJocuiF-",
        "outputId": "66a8f748-4389-42d2-c0a3-bad6b3298163"
      },
      "source": [
        "from u_45_person import Person\n",
        "\n",
        "maria= Person('마리아',25,'seoul')\n",
        "maria.greeting()"
      ],
      "execution_count": 4,
      "outputs": [
        {
          "output_type": "stream",
          "text": [
            "안녕하세요. 마리아입니다.\n"
          ],
          "name": "stdout"
        }
      ]
    },
    {
      "cell_type": "code",
      "metadata": {
        "colab": {
          "base_uri": "https://localhost:8080/"
        },
        "id": "Ezfhsovdw4In",
        "outputId": "724a8664-69df-4e3e-dc23-e618db8dc61b"
      },
      "source": [
        "# list\n",
        "# ! - Shell escape를 통해서 ls -l __pycache__ 명령을 실행\n",
        "!ls -l __pycache__"
      ],
      "execution_count": 5,
      "outputs": [
        {
          "output_type": "stream",
          "text": [
            "total 8\n",
            "-rw-r--r-- 1 root root 594 Aug  5 05:47 u_45_person.cpython-37.pyc\n",
            "-rw-r--r-- 1 root root 292 Aug  5 05:47 u_45_square2.cpython-37.pyc\n"
          ],
          "name": "stdout"
        }
      ]
    },
    {
      "cell_type": "code",
      "metadata": {
        "colab": {
          "base_uri": "https://localhost:8080/"
        },
        "id": "BaNGWOJkx8sT",
        "outputId": "28c82973-a1c2-458d-aae2-7a94fe3a97ba"
      },
      "source": [
        "# 모듈을 새로 수정했을 때 사용할 것\n",
        "# remove\n",
        "\n",
        "!rm __pycache__/*\n",
        "!ls -l __pycache__"
      ],
      "execution_count": 6,
      "outputs": [
        {
          "output_type": "stream",
          "text": [
            "total 0\n"
          ],
          "name": "stdout"
        }
      ]
    },
    {
      "cell_type": "markdown",
      "metadata": {
        "id": "usxfkPBd2UTP"
      },
      "source": [
        "## 45.2 모듈과 시작점"
      ]
    },
    {
      "cell_type": "code",
      "metadata": {
        "id": "y8doCBR6zb7i",
        "colab": {
          "base_uri": "https://localhost:8080/"
        },
        "outputId": "2a561570-f462-4d0b-c83d-a62591a217f2"
      },
      "source": [
        "!python u_45_square2.py"
      ],
      "execution_count": 7,
      "outputs": [
        {
          "output_type": "stream",
          "text": [
            "2\n",
            "1024\n"
          ],
          "name": "stdout"
        }
      ]
    },
    {
      "cell_type": "code",
      "metadata": {
        "colab": {
          "base_uri": "https://localhost:8080/"
        },
        "id": "_nobi_vt2cpY",
        "outputId": "b62923f2-db74-4ece-d213-f738009bed3e"
      },
      "source": [
        "a=[1,2,3]\n",
        "dir(a)"
      ],
      "execution_count": 9,
      "outputs": [
        {
          "output_type": "execute_result",
          "data": {
            "text/plain": [
              "['__add__',\n",
              " '__class__',\n",
              " '__contains__',\n",
              " '__delattr__',\n",
              " '__delitem__',\n",
              " '__dir__',\n",
              " '__doc__',\n",
              " '__eq__',\n",
              " '__format__',\n",
              " '__ge__',\n",
              " '__getattribute__',\n",
              " '__getitem__',\n",
              " '__gt__',\n",
              " '__hash__',\n",
              " '__iadd__',\n",
              " '__imul__',\n",
              " '__init__',\n",
              " '__init_subclass__',\n",
              " '__iter__',\n",
              " '__le__',\n",
              " '__len__',\n",
              " '__lt__',\n",
              " '__mul__',\n",
              " '__ne__',\n",
              " '__new__',\n",
              " '__reduce__',\n",
              " '__reduce_ex__',\n",
              " '__repr__',\n",
              " '__reversed__',\n",
              " '__rmul__',\n",
              " '__setattr__',\n",
              " '__setitem__',\n",
              " '__sizeof__',\n",
              " '__str__',\n",
              " '__subclasshook__',\n",
              " 'append',\n",
              " 'clear',\n",
              " 'copy',\n",
              " 'count',\n",
              " 'extend',\n",
              " 'index',\n",
              " 'insert',\n",
              " 'pop',\n",
              " 'remove',\n",
              " 'reverse',\n",
              " 'sort']"
            ]
          },
          "metadata": {
            "tags": []
          },
          "execution_count": 9
        }
      ]
    },
    {
      "cell_type": "code",
      "metadata": {
        "id": "-Pjv5Sdp2_kM"
      },
      "source": [
        ""
      ],
      "execution_count": null,
      "outputs": []
    }
  ]
}